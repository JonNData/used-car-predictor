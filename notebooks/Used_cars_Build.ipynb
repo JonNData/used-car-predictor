{
 "cells": [
  {
   "cell_type": "code",
   "execution_count": 1,
   "metadata": {
    "colab": {},
    "colab_type": "code",
    "id": "wiouh0WtgfO7"
   },
   "outputs": [],
   "source": [
    "import category_encoders as ce\n",
    "from sklearn.pipeline import make_pipeline \n",
    "from sklearn.impute import SimpleImputer\n",
    "from sklearn.impute import KNNImputer\n",
    "from sklearn.tree import DecisionTreeRegressor\n",
    "from xgboost import XGBRegressor\n",
    "from sklearn.ensemble import RandomForestClassifier\n",
    "from sklearn.ensemble import RandomForestRegressor\n",
    "from sklearn.linear_model import SGDClassifier\n",
    "from sklearn.linear_model import LinearRegression\n",
    "from sklearn.model_selection import train_test_split\n",
    "from sklearn.model_selection import RandomizedSearchCV\n",
    "from sklearn.model_selection import cross_val_score\n",
    "from sklearn.metrics import accuracy_score\n",
    "from sklearn.metrics import mean_absolute_error\n",
    "from sklearn.metrics import plot_confusion_matrix\n",
    "from sklearn.metrics import r2_score\n",
    "from pdpbox.pdp import pdp_isolate, pdp_plot\n",
    "from pdpbox.pdp import pdp_interact,pdp_interact_plot\n",
    "import eli5\n",
    "from eli5.sklearn import PermutationImportance\n",
    "import seaborn as sns\n",
    "import matplotlib.pyplot as plt\n",
    "import pandas as pd\n",
    "import numpy as np\n",
    "import shap\n",
    "from joblib import dump\n",
    "from joblib import load\n",
    "%config IPCompleter.greedy=True\n",
    "# size for web display\n",
    "plt.rcParams['figure.dpi'] = 72"
   ]
  },
  {
   "cell_type": "code",
   "execution_count": 2,
   "metadata": {
    "colab": {},
    "colab_type": "code",
    "id": "uRq1l6wugfPA",
    "outputId": "6270a855-86de-40a5-8351-24b2c7e8ece8",
    "scrolled": true
   },
   "outputs": [
    {
     "data": {
      "text/html": [
       "<div>\n",
       "<style scoped>\n",
       "    .dataframe tbody tr th:only-of-type {\n",
       "        vertical-align: middle;\n",
       "    }\n",
       "\n",
       "    .dataframe tbody tr th {\n",
       "        vertical-align: top;\n",
       "    }\n",
       "\n",
       "    .dataframe thead th {\n",
       "        text-align: right;\n",
       "    }\n",
       "</style>\n",
       "<table border=\"1\" class=\"dataframe\">\n",
       "  <thead>\n",
       "    <tr style=\"text-align: right;\">\n",
       "      <th></th>\n",
       "      <th>Unnamed: 0</th>\n",
       "      <th>id</th>\n",
       "      <th>region</th>\n",
       "      <th>price</th>\n",
       "      <th>year</th>\n",
       "      <th>manufacturer</th>\n",
       "      <th>model</th>\n",
       "      <th>condition</th>\n",
       "      <th>cylinders</th>\n",
       "      <th>fuel</th>\n",
       "      <th>...</th>\n",
       "      <th>transmission</th>\n",
       "      <th>drive</th>\n",
       "      <th>size</th>\n",
       "      <th>type</th>\n",
       "      <th>paint_color</th>\n",
       "      <th>image_url</th>\n",
       "      <th>county</th>\n",
       "      <th>state</th>\n",
       "      <th>lat</th>\n",
       "      <th>long</th>\n",
       "    </tr>\n",
       "  </thead>\n",
       "  <tbody>\n",
       "    <tr>\n",
       "      <th>0</th>\n",
       "      <td>0</td>\n",
       "      <td>7034441763</td>\n",
       "      <td>salt lake city</td>\n",
       "      <td>17899.0</td>\n",
       "      <td>2012.0</td>\n",
       "      <td>volkswagen</td>\n",
       "      <td>golf r</td>\n",
       "      <td>excellent</td>\n",
       "      <td>4 cylinders</td>\n",
       "      <td>gas</td>\n",
       "      <td>...</td>\n",
       "      <td>manual</td>\n",
       "      <td>4wd</td>\n",
       "      <td>compact</td>\n",
       "      <td>hatchback</td>\n",
       "      <td>black</td>\n",
       "      <td>https://images.craigslist.org/00G0G_fTLDWM5Xyv...</td>\n",
       "      <td>NaN</td>\n",
       "      <td>ut</td>\n",
       "      <td>40.7372</td>\n",
       "      <td>-111.858</td>\n",
       "    </tr>\n",
       "    <tr>\n",
       "      <th>1</th>\n",
       "      <td>1</td>\n",
       "      <td>7034440610</td>\n",
       "      <td>salt lake city</td>\n",
       "      <td>NaN</td>\n",
       "      <td>2016.0</td>\n",
       "      <td>ford</td>\n",
       "      <td>f-150</td>\n",
       "      <td>excellent</td>\n",
       "      <td>NaN</td>\n",
       "      <td>gas</td>\n",
       "      <td>...</td>\n",
       "      <td>automatic</td>\n",
       "      <td>4wd</td>\n",
       "      <td>NaN</td>\n",
       "      <td>NaN</td>\n",
       "      <td>NaN</td>\n",
       "      <td>https://images.craigslist.org/00v0v_7Cu0buIofU...</td>\n",
       "      <td>NaN</td>\n",
       "      <td>ut</td>\n",
       "      <td>40.5881</td>\n",
       "      <td>-111.884</td>\n",
       "    </tr>\n",
       "    <tr>\n",
       "      <th>2</th>\n",
       "      <td>2</td>\n",
       "      <td>7034440588</td>\n",
       "      <td>salt lake city</td>\n",
       "      <td>46463.0</td>\n",
       "      <td>2015.0</td>\n",
       "      <td>gmc</td>\n",
       "      <td>sierra 1500</td>\n",
       "      <td>excellent</td>\n",
       "      <td>NaN</td>\n",
       "      <td>gas</td>\n",
       "      <td>...</td>\n",
       "      <td>automatic</td>\n",
       "      <td>4wd</td>\n",
       "      <td>NaN</td>\n",
       "      <td>NaN</td>\n",
       "      <td>white</td>\n",
       "      <td>https://images.craigslist.org/01515_lPvJ9bfbdY...</td>\n",
       "      <td>NaN</td>\n",
       "      <td>ut</td>\n",
       "      <td>40.5881</td>\n",
       "      <td>-111.884</td>\n",
       "    </tr>\n",
       "    <tr>\n",
       "      <th>3</th>\n",
       "      <td>3</td>\n",
       "      <td>7034440546</td>\n",
       "      <td>salt lake city</td>\n",
       "      <td>NaN</td>\n",
       "      <td>2016.0</td>\n",
       "      <td>ford</td>\n",
       "      <td>f-150</td>\n",
       "      <td>excellent</td>\n",
       "      <td>NaN</td>\n",
       "      <td>gas</td>\n",
       "      <td>...</td>\n",
       "      <td>automatic</td>\n",
       "      <td>4wd</td>\n",
       "      <td>NaN</td>\n",
       "      <td>NaN</td>\n",
       "      <td>NaN</td>\n",
       "      <td>https://images.craigslist.org/00T0T_6Rjfp3NS4O...</td>\n",
       "      <td>NaN</td>\n",
       "      <td>ut</td>\n",
       "      <td>40.5881</td>\n",
       "      <td>-111.884</td>\n",
       "    </tr>\n",
       "    <tr>\n",
       "      <th>4</th>\n",
       "      <td>4</td>\n",
       "      <td>7034406932</td>\n",
       "      <td>salt lake city</td>\n",
       "      <td>49999.0</td>\n",
       "      <td>2018.0</td>\n",
       "      <td>ford</td>\n",
       "      <td>f-450</td>\n",
       "      <td>NaN</td>\n",
       "      <td>NaN</td>\n",
       "      <td>diesel</td>\n",
       "      <td>...</td>\n",
       "      <td>automatic</td>\n",
       "      <td>4wd</td>\n",
       "      <td>NaN</td>\n",
       "      <td>pickup</td>\n",
       "      <td>white</td>\n",
       "      <td>https://images.craigslist.org/00W0W_8yIUwRBXXd...</td>\n",
       "      <td>NaN</td>\n",
       "      <td>ut</td>\n",
       "      <td>40.3744</td>\n",
       "      <td>-104.694</td>\n",
       "    </tr>\n",
       "    <tr>\n",
       "      <th>...</th>\n",
       "      <td>...</td>\n",
       "      <td>...</td>\n",
       "      <td>...</td>\n",
       "      <td>...</td>\n",
       "      <td>...</td>\n",
       "      <td>...</td>\n",
       "      <td>...</td>\n",
       "      <td>...</td>\n",
       "      <td>...</td>\n",
       "      <td>...</td>\n",
       "      <td>...</td>\n",
       "      <td>...</td>\n",
       "      <td>...</td>\n",
       "      <td>...</td>\n",
       "      <td>...</td>\n",
       "      <td>...</td>\n",
       "      <td>...</td>\n",
       "      <td>...</td>\n",
       "      <td>...</td>\n",
       "      <td>...</td>\n",
       "      <td>...</td>\n",
       "    </tr>\n",
       "    <tr>\n",
       "      <th>509572</th>\n",
       "      <td>509572</td>\n",
       "      <td>7034554007</td>\n",
       "      <td>salt lake city</td>\n",
       "      <td>15476.0</td>\n",
       "      <td>2012.0</td>\n",
       "      <td>nissan</td>\n",
       "      <td>xterra</td>\n",
       "      <td>NaN</td>\n",
       "      <td>6 cylinders</td>\n",
       "      <td>gas</td>\n",
       "      <td>...</td>\n",
       "      <td>automatic</td>\n",
       "      <td>4wd</td>\n",
       "      <td>NaN</td>\n",
       "      <td>SUV</td>\n",
       "      <td>NaN</td>\n",
       "      <td>https://images.craigslist.org/00z0z_3ERBmVoD5s...</td>\n",
       "      <td>NaN</td>\n",
       "      <td>ut</td>\n",
       "      <td>39.6405</td>\n",
       "      <td>-104.961</td>\n",
       "    </tr>\n",
       "    <tr>\n",
       "      <th>509573</th>\n",
       "      <td>509573</td>\n",
       "      <td>7034538385</td>\n",
       "      <td>salt lake city</td>\n",
       "      <td>9881.0</td>\n",
       "      <td>2008.0</td>\n",
       "      <td>bmw</td>\n",
       "      <td>3 series 328i</td>\n",
       "      <td>NaN</td>\n",
       "      <td>6 cylinders</td>\n",
       "      <td>gas</td>\n",
       "      <td>...</td>\n",
       "      <td>automatic</td>\n",
       "      <td>rwd</td>\n",
       "      <td>NaN</td>\n",
       "      <td>convertible</td>\n",
       "      <td>NaN</td>\n",
       "      <td>https://images.craigslist.org/01313_38rMiNAW18...</td>\n",
       "      <td>NaN</td>\n",
       "      <td>ut</td>\n",
       "      <td>39.6405</td>\n",
       "      <td>-104.961</td>\n",
       "    </tr>\n",
       "    <tr>\n",
       "      <th>509574</th>\n",
       "      <td>509574</td>\n",
       "      <td>7034523643</td>\n",
       "      <td>salt lake city</td>\n",
       "      <td>24895.0</td>\n",
       "      <td>2019.0</td>\n",
       "      <td>jeep</td>\n",
       "      <td>cherokee</td>\n",
       "      <td>NaN</td>\n",
       "      <td>4 cylinders</td>\n",
       "      <td>gas</td>\n",
       "      <td>...</td>\n",
       "      <td>automatic</td>\n",
       "      <td>4wd</td>\n",
       "      <td>NaN</td>\n",
       "      <td>SUV</td>\n",
       "      <td>white</td>\n",
       "      <td>https://images.craigslist.org/00606_dOtGS5RmTi...</td>\n",
       "      <td>NaN</td>\n",
       "      <td>ut</td>\n",
       "      <td>45.1637</td>\n",
       "      <td>-113.894</td>\n",
       "    </tr>\n",
       "    <tr>\n",
       "      <th>509575</th>\n",
       "      <td>509575</td>\n",
       "      <td>7034458858</td>\n",
       "      <td>salt lake city</td>\n",
       "      <td>32500.0</td>\n",
       "      <td>2017.0</td>\n",
       "      <td>NaN</td>\n",
       "      <td>Porsche Macan GTS</td>\n",
       "      <td>excellent</td>\n",
       "      <td>6 cylinders</td>\n",
       "      <td>gas</td>\n",
       "      <td>...</td>\n",
       "      <td>automatic</td>\n",
       "      <td>NaN</td>\n",
       "      <td>NaN</td>\n",
       "      <td>NaN</td>\n",
       "      <td>red</td>\n",
       "      <td>https://images.craigslist.org/00s0s_32yAwr0KMt...</td>\n",
       "      <td>NaN</td>\n",
       "      <td>ut</td>\n",
       "      <td>41.3112</td>\n",
       "      <td>-111.969</td>\n",
       "    </tr>\n",
       "    <tr>\n",
       "      <th>509576</th>\n",
       "      <td>509576</td>\n",
       "      <td>7034389294</td>\n",
       "      <td>salt lake city</td>\n",
       "      <td>12900.0</td>\n",
       "      <td>2012.0</td>\n",
       "      <td>ram</td>\n",
       "      <td>NaN</td>\n",
       "      <td>NaN</td>\n",
       "      <td>NaN</td>\n",
       "      <td>gas</td>\n",
       "      <td>...</td>\n",
       "      <td>automatic</td>\n",
       "      <td>4wd</td>\n",
       "      <td>NaN</td>\n",
       "      <td>pickup</td>\n",
       "      <td>black</td>\n",
       "      <td>https://images.craigslist.org/00E0E_3FtnUA2XPT...</td>\n",
       "      <td>NaN</td>\n",
       "      <td>ut</td>\n",
       "      <td>40.3744</td>\n",
       "      <td>-104.694</td>\n",
       "    </tr>\n",
       "  </tbody>\n",
       "</table>\n",
       "<p>509577 rows × 22 columns</p>\n",
       "</div>"
      ],
      "text/plain": [
       "        Unnamed: 0          id          region    price    year manufacturer  \\\n",
       "0                0  7034441763  salt lake city  17899.0  2012.0   volkswagen   \n",
       "1                1  7034440610  salt lake city      NaN  2016.0         ford   \n",
       "2                2  7034440588  salt lake city  46463.0  2015.0          gmc   \n",
       "3                3  7034440546  salt lake city      NaN  2016.0         ford   \n",
       "4                4  7034406932  salt lake city  49999.0  2018.0         ford   \n",
       "...            ...         ...             ...      ...     ...          ...   \n",
       "509572      509572  7034554007  salt lake city  15476.0  2012.0       nissan   \n",
       "509573      509573  7034538385  salt lake city   9881.0  2008.0          bmw   \n",
       "509574      509574  7034523643  salt lake city  24895.0  2019.0         jeep   \n",
       "509575      509575  7034458858  salt lake city  32500.0  2017.0          NaN   \n",
       "509576      509576  7034389294  salt lake city  12900.0  2012.0          ram   \n",
       "\n",
       "                    model  condition    cylinders    fuel  ...  transmission  \\\n",
       "0                  golf r  excellent  4 cylinders     gas  ...        manual   \n",
       "1                   f-150  excellent          NaN     gas  ...     automatic   \n",
       "2             sierra 1500  excellent          NaN     gas  ...     automatic   \n",
       "3                   f-150  excellent          NaN     gas  ...     automatic   \n",
       "4                   f-450        NaN          NaN  diesel  ...     automatic   \n",
       "...                   ...        ...          ...     ...  ...           ...   \n",
       "509572             xterra        NaN  6 cylinders     gas  ...     automatic   \n",
       "509573      3 series 328i        NaN  6 cylinders     gas  ...     automatic   \n",
       "509574           cherokee        NaN  4 cylinders     gas  ...     automatic   \n",
       "509575  Porsche Macan GTS  excellent  6 cylinders     gas  ...     automatic   \n",
       "509576                NaN        NaN          NaN     gas  ...     automatic   \n",
       "\n",
       "       drive     size         type paint_color  \\\n",
       "0        4wd  compact    hatchback       black   \n",
       "1        4wd      NaN          NaN         NaN   \n",
       "2        4wd      NaN          NaN       white   \n",
       "3        4wd      NaN          NaN         NaN   \n",
       "4        4wd      NaN       pickup       white   \n",
       "...      ...      ...          ...         ...   \n",
       "509572   4wd      NaN          SUV         NaN   \n",
       "509573   rwd      NaN  convertible         NaN   \n",
       "509574   4wd      NaN          SUV       white   \n",
       "509575   NaN      NaN          NaN         red   \n",
       "509576   4wd      NaN       pickup       black   \n",
       "\n",
       "                                                image_url county state  \\\n",
       "0       https://images.craigslist.org/00G0G_fTLDWM5Xyv...    NaN    ut   \n",
       "1       https://images.craigslist.org/00v0v_7Cu0buIofU...    NaN    ut   \n",
       "2       https://images.craigslist.org/01515_lPvJ9bfbdY...    NaN    ut   \n",
       "3       https://images.craigslist.org/00T0T_6Rjfp3NS4O...    NaN    ut   \n",
       "4       https://images.craigslist.org/00W0W_8yIUwRBXXd...    NaN    ut   \n",
       "...                                                   ...    ...   ...   \n",
       "509572  https://images.craigslist.org/00z0z_3ERBmVoD5s...    NaN    ut   \n",
       "509573  https://images.craigslist.org/01313_38rMiNAW18...    NaN    ut   \n",
       "509574  https://images.craigslist.org/00606_dOtGS5RmTi...    NaN    ut   \n",
       "509575  https://images.craigslist.org/00s0s_32yAwr0KMt...    NaN    ut   \n",
       "509576  https://images.craigslist.org/00E0E_3FtnUA2XPT...    NaN    ut   \n",
       "\n",
       "            lat     long  \n",
       "0       40.7372 -111.858  \n",
       "1       40.5881 -111.884  \n",
       "2       40.5881 -111.884  \n",
       "3       40.5881 -111.884  \n",
       "4       40.3744 -104.694  \n",
       "...         ...      ...  \n",
       "509572  39.6405 -104.961  \n",
       "509573  39.6405 -104.961  \n",
       "509574  45.1637 -113.894  \n",
       "509575  41.3112 -111.969  \n",
       "509576  40.3744 -104.694  \n",
       "\n",
       "[509577 rows x 22 columns]"
      ]
     },
     "execution_count": 2,
     "metadata": {},
     "output_type": "execute_result"
    }
   ],
   "source": [
    "df1 = pd.read_csv('https://raw.githubusercontent.com/JonNData/used-car-predictor/master/notebooks/vehicles_trimmed1.csv')\n",
    "df1"
   ]
  },
  {
   "cell_type": "markdown",
   "metadata": {
    "colab_type": "text",
    "id": "9-pm3HbEgfPE"
   },
   "source": [
    "Why & how were target, metric, and baseline chosen?How was leakage avoided. When & why is the model (or not) useful?\n",
    "\n",
    "\n",
    "Price was chosen as a natural target because it is information that would be most applicable to the user. Whether someone is looking to sell or buy a car, price is the bottom line.\n",
    "\n",
    "Columns did not contain leakage because the price of the post was declared at the time of making the post. The features included are not related to a sale price.\n",
    "\n",
    "Started with a baseline of 8613.48 MAE of a mean baseline or a 7829.12 MAE of the simplest linear regression based on ‘year’. Quickly beat these scores with a decision tree. For metrics, I chose R^2 for variance explainability and MAE for simple error comparison.\n",
    "\n",
    "Limitations: The model is mostly useful for a quick price estimation on used cars. Getting a specific model or sale price can be done on the larger original used cars dataset.\n"
   ]
  },
  {
   "cell_type": "code",
   "execution_count": 3,
   "metadata": {
    "colab": {},
    "colab_type": "code",
    "id": "AbJOhhdUgfPI"
   },
   "outputs": [],
   "source": [
    "# Choose target\n",
    "target = 'price'"
   ]
  },
  {
   "cell_type": "code",
   "execution_count": 4,
   "metadata": {
    "colab": {},
    "colab_type": "code",
    "id": "tMFg7zypgfPL"
   },
   "outputs": [],
   "source": [
    "# Is your problem regression or classification?\n",
    "# Regression, predicting a continuous variable with many levels"
   ]
  },
  {
   "cell_type": "code",
   "execution_count": 5,
   "metadata": {
    "colab": {},
    "colab_type": "code",
    "id": "IVLvKMO7gfPN",
    "outputId": "5c26f8ff-4ed8-4fea-f007-05504abc9b43"
   },
   "outputs": [
    {
     "data": {
      "text/plain": [
       "Text(0.5, 1.0, 'Price Distribution')"
      ]
     },
     "execution_count": 5,
     "metadata": {},
     "output_type": "execute_result"
    },
    {
     "data": {
      "image/png": "[encoded data removed]",
      "text/plain": [
       "<Figure size 432x288 with 1 Axes>"
      ]
     },
     "metadata": {
      "needs_background": "light"
     },
     "output_type": "display_data"
    }
   ],
   "source": [
    "# Target distribution\n",
    "fig, ax = plt.subplots()\n",
    "sns.distplot(df1['price'])\n",
    "ax.set_ylabel('proportion')\n",
    "ax.set_title('Price Distribution')"
   ]
  },
  {
   "cell_type": "code",
   "execution_count": 6,
   "metadata": {
    "colab": {},
    "colab_type": "code",
    "id": "qSYzPIobgfPQ"
   },
   "outputs": [],
   "source": [
    "pd.options.display.float_format = '{:.1f}'.format"
   ]
  },
  {
   "cell_type": "code",
   "execution_count": 7,
   "metadata": {
    "colab": {},
    "colab_type": "code",
    "id": "VeHpHStRgfPT",
    "outputId": "1fc1ae28-b9d5-47c1-beb1-c7bd9f119772"
   },
   "outputs": [
    {
     "name": "stdout",
     "output_type": "stream",
     "text": [
      "nan\n"
     ]
    },
    {
     "data": {
      "text/plain": [
       "count       465998.0\n",
       "mean         59921.3\n",
       "std       10012722.5\n",
       "min              1.0\n",
       "25%           5000.0\n",
       "50%          10500.0\n",
       "75%          18950.0\n",
       "max     3600028900.0\n",
       "Name: price, dtype: float64"
      ]
     },
     "execution_count": 7,
     "metadata": {},
     "output_type": "execute_result"
    }
   ],
   "source": [
    "print(np.median(df1['price']))\n",
    "y = df1['price']\n",
    "y.describe()\n",
    "# Very right skewed but the 0s are holding it back even more. \n",
    "# Let's look at logs"
   ]
  },
  {
   "cell_type": "code",
   "execution_count": 8,
   "metadata": {
    "colab": {},
    "colab_type": "code",
    "id": "synABLjQgfPW",
    "outputId": "00e96dc9-410d-4dd4-842c-f5620d1ab62e",
    "scrolled": true
   },
   "outputs": [
    {
     "data": {
      "text/plain": [
       "<matplotlib.axes._subplots.AxesSubplot at 0x2600f881308>"
      ]
     },
     "execution_count": 8,
     "metadata": {},
     "output_type": "execute_result"
    },
    {
     "data": {
      "image/png": "[encoded data removed]",
      "text/plain": [
       "<Figure size 432x288 with 1 Axes>"
      ]
     },
     "metadata": {
      "needs_background": "light"
     },
     "output_type": "display_data"
    }
   ],
   "source": [
    "y = y.replace(0, np.NaN)\n",
    "sns.distplot(y)"
   ]
  },
  {
   "cell_type": "code",
   "execution_count": 9,
   "metadata": {
    "colab": {},
    "colab_type": "code",
    "id": "glF63JwggfPZ"
   },
   "outputs": [],
   "source": [
    "# It was deemed not worth log transforming, I did some modeling below and R^2 was worse\n",
    "# y_log = np.log1p(y)\n",
    "# sns.distplot(y_log)"
   ]
  },
  {
   "cell_type": "code",
   "execution_count": 10,
   "metadata": {
    "colab": {},
    "colab_type": "code",
    "id": "97j60leCgfPc",
    "outputId": "c9c16647-e801-43ce-ef71-84d2069b6e79",
    "scrolled": true
   },
   "outputs": [
    {
     "data": {
      "text/plain": [
       "count   465765.0\n",
       "mean     13606.2\n",
       "std      11430.8\n",
       "min          1.0\n",
       "25%       5000.0\n",
       "50%      10500.0\n",
       "75%      18949.0\n",
       "max     149000.0\n",
       "Name: price, dtype: float64"
      ]
     },
     "execution_count": 10,
     "metadata": {},
     "output_type": "execute_result"
    }
   ],
   "source": [
    "# Chop out some outliers\n",
    "\n",
    "df2 = df1\n",
    "df2['price'] = df2['price'].replace(0,np.NaN)\n",
    "df2 = df2.dropna(subset=['price'])\n",
    "df2 = df2[(df2['price'] >= np.percentile(df2['price'], 0.05)) &\n",
    "          (df2['price'] <= np.percentile(df2['price'], 99.95))]\n",
    "df2['price'].describe()"
   ]
  },
  {
   "cell_type": "code",
   "execution_count": 11,
   "metadata": {
    "colab": {},
    "colab_type": "code",
    "id": "oQAM1ezrgfPe",
    "outputId": "67f9c319-6449-494d-e27d-6aca676a46d3"
   },
   "outputs": [
    {
     "data": {
      "text/plain": [
       "Text(0.5, 1.0, 'Price Distribution')"
      ]
     },
     "execution_count": 11,
     "metadata": {},
     "output_type": "execute_result"
    },
    {
     "data": {
      "image/png": "[encoded data removed]",
      "text/plain": [
       "<Figure size 432x288 with 1 Axes>"
      ]
     },
     "metadata": {
      "needs_background": "light"
     },
     "output_type": "display_data"
    }
   ],
   "source": [
    "fig, ax = plt.subplots()\n",
    "sns.distplot(df2['price'])\n",
    "ax.set_ylabel('proportion')\n",
    "ax.set_title('Price Distribution')"
   ]
  },
  {
   "cell_type": "code",
   "execution_count": 12,
   "metadata": {
    "colab": {},
    "colab_type": "code",
    "id": "KjrB0KTugfPh",
    "outputId": "102b60f6-98f8-454f-e083-76b385b1501e"
   },
   "outputs": [
    {
     "data": {
      "text/plain": [
       "<matplotlib.axes._subplots.AxesSubplot at 0x2600f677d48>"
      ]
     },
     "execution_count": 12,
     "metadata": {},
     "output_type": "execute_result"
    },
    {
     "data": {
      "image/png": "[encoded data removed]",
      "text/plain": [
       "<Figure size 432x288 with 1 Axes>"
      ]
     },
     "metadata": {
      "needs_background": "light"
     },
     "output_type": "display_data"
    }
   ],
   "source": [
    "y = np.log1p(df2['price'])\n",
    "sns.distplot(y)\n",
    "# Now it's left skewed. Perhaps not worth log transform"
   ]
  },
  {
   "cell_type": "code",
   "execution_count": 13,
   "metadata": {
    "colab": {},
    "colab_type": "code",
    "id": "0UOF1JFegfPj",
    "outputId": "5ec8078e-9de6-40c3-f17c-26d692d8701c"
   },
   "outputs": [
    {
     "data": {
      "text/plain": [
       "count   465765.0\n",
       "mean         9.1\n",
       "std          1.2\n",
       "min          0.7\n",
       "25%          8.5\n",
       "50%          9.3\n",
       "75%          9.8\n",
       "max         11.9\n",
       "Name: price, dtype: float64"
      ]
     },
     "execution_count": 13,
     "metadata": {},
     "output_type": "execute_result"
    }
   ],
   "source": [
    "y.describe()"
   ]
  },
  {
   "cell_type": "code",
   "execution_count": 14,
   "metadata": {
    "colab": {},
    "colab_type": "code",
    "id": "3cT_kNKGgfPm",
    "outputId": "bc893e38-f563-4f1b-fd22-6c3bfd61094f"
   },
   "outputs": [
    {
     "data": {
      "text/plain": [
       "8955.292703482504"
      ]
     },
     "execution_count": 14,
     "metadata": {},
     "output_type": "execute_result"
    }
   ],
   "source": [
    "# Dollar amount of the average\n",
    "np.e**9.1"
   ]
  },
  {
   "cell_type": "code",
   "execution_count": 15,
   "metadata": {
    "colab": {},
    "colab_type": "code",
    "id": "AG_fIccFgfPo"
   },
   "outputs": [],
   "source": [
    "# Choose your evaluation metric(s).\n",
    "\n",
    "#  I chose R^2 for variance explainability and MAE for simple error comparison."
   ]
  },
  {
   "cell_type": "code",
   "execution_count": 16,
   "metadata": {
    "colab": {},
    "colab_type": "code",
    "id": "46K-7578gfPr",
    "outputId": "010f3826-1446-421c-e463-1518cbb4c739"
   },
   "outputs": [
    {
     "data": {
      "text/html": [
       "<div>\n",
       "<style scoped>\n",
       "    .dataframe tbody tr th:only-of-type {\n",
       "        vertical-align: middle;\n",
       "    }\n",
       "\n",
       "    .dataframe tbody tr th {\n",
       "        vertical-align: top;\n",
       "    }\n",
       "\n",
       "    .dataframe thead th {\n",
       "        text-align: right;\n",
       "    }\n",
       "</style>\n",
       "<table border=\"1\" class=\"dataframe\">\n",
       "  <thead>\n",
       "    <tr style=\"text-align: right;\">\n",
       "      <th></th>\n",
       "      <th>id</th>\n",
       "      <th>region</th>\n",
       "      <th>price</th>\n",
       "      <th>year</th>\n",
       "      <th>manufacturer</th>\n",
       "      <th>model</th>\n",
       "      <th>condition</th>\n",
       "      <th>cylinders</th>\n",
       "      <th>fuel</th>\n",
       "      <th>odometer</th>\n",
       "      <th>title_status</th>\n",
       "      <th>transmission</th>\n",
       "      <th>drive</th>\n",
       "      <th>size</th>\n",
       "      <th>type</th>\n",
       "      <th>paint_color</th>\n",
       "      <th>image_url</th>\n",
       "      <th>state</th>\n",
       "      <th>lat</th>\n",
       "      <th>long</th>\n",
       "    </tr>\n",
       "  </thead>\n",
       "  <tbody>\n",
       "    <tr>\n",
       "      <th>344943</th>\n",
       "      <td>7041536673</td>\n",
       "      <td>lincoln</td>\n",
       "      <td>2800.0</td>\n",
       "      <td>2005.0</td>\n",
       "      <td>lincoln</td>\n",
       "      <td>navigator</td>\n",
       "      <td>NaN</td>\n",
       "      <td>NaN</td>\n",
       "      <td>gas</td>\n",
       "      <td>nan</td>\n",
       "      <td>clean</td>\n",
       "      <td>automatic</td>\n",
       "      <td>NaN</td>\n",
       "      <td>NaN</td>\n",
       "      <td>NaN</td>\n",
       "      <td>NaN</td>\n",
       "      <td>https://images.craigslist.org/00k0k_lg3IIXqHvt...</td>\n",
       "      <td>ne</td>\n",
       "      <td>40.8</td>\n",
       "      <td>-96.7</td>\n",
       "    </tr>\n",
       "    <tr>\n",
       "      <th>491444</th>\n",
       "      <td>7044615510</td>\n",
       "      <td>el paso</td>\n",
       "      <td>4995.0</td>\n",
       "      <td>2004.0</td>\n",
       "      <td>honda</td>\n",
       "      <td>pilot</td>\n",
       "      <td>good</td>\n",
       "      <td>6 cylinders</td>\n",
       "      <td>gas</td>\n",
       "      <td>230123.0</td>\n",
       "      <td>clean</td>\n",
       "      <td>automatic</td>\n",
       "      <td>NaN</td>\n",
       "      <td>NaN</td>\n",
       "      <td>SUV</td>\n",
       "      <td>silver</td>\n",
       "      <td>https://images.craigslist.org/00808_990qEgCycK...</td>\n",
       "      <td>tx</td>\n",
       "      <td>31.8</td>\n",
       "      <td>-106.4</td>\n",
       "    </tr>\n",
       "    <tr>\n",
       "      <th>256311</th>\n",
       "      <td>7045252753</td>\n",
       "      <td>new orleans</td>\n",
       "      <td>10500.0</td>\n",
       "      <td>2012.0</td>\n",
       "      <td>lexus</td>\n",
       "      <td>es350</td>\n",
       "      <td>good</td>\n",
       "      <td>6 cylinders</td>\n",
       "      <td>gas</td>\n",
       "      <td>45747.0</td>\n",
       "      <td>rebuilt</td>\n",
       "      <td>automatic</td>\n",
       "      <td>NaN</td>\n",
       "      <td>NaN</td>\n",
       "      <td>NaN</td>\n",
       "      <td>grey</td>\n",
       "      <td>https://images.craigslist.org/00U0U_hUwPo5ZF3x...</td>\n",
       "      <td>la</td>\n",
       "      <td>30.0</td>\n",
       "      <td>-89.9</td>\n",
       "    </tr>\n",
       "    <tr>\n",
       "      <th>295314</th>\n",
       "      <td>7034872563</td>\n",
       "      <td>saginaw-midland-baycity</td>\n",
       "      <td>14300.0</td>\n",
       "      <td>2014.0</td>\n",
       "      <td>toyota</td>\n",
       "      <td>prius</td>\n",
       "      <td>like new</td>\n",
       "      <td>4 cylinders</td>\n",
       "      <td>hybrid</td>\n",
       "      <td>56182.0</td>\n",
       "      <td>clean</td>\n",
       "      <td>automatic</td>\n",
       "      <td>fwd</td>\n",
       "      <td>mid-size</td>\n",
       "      <td>hatchback</td>\n",
       "      <td>silver</td>\n",
       "      <td>https://images.craigslist.org/00y0y_gBpPNbYdgG...</td>\n",
       "      <td>mi</td>\n",
       "      <td>43.6</td>\n",
       "      <td>-84.2</td>\n",
       "    </tr>\n",
       "    <tr>\n",
       "      <th>380021</th>\n",
       "      <td>7049689253</td>\n",
       "      <td>rochester</td>\n",
       "      <td>1450.0</td>\n",
       "      <td>2007.0</td>\n",
       "      <td>saturn</td>\n",
       "      <td>vue</td>\n",
       "      <td>good</td>\n",
       "      <td>6 cylinders</td>\n",
       "      <td>gas</td>\n",
       "      <td>151946.0</td>\n",
       "      <td>clean</td>\n",
       "      <td>automatic</td>\n",
       "      <td>fwd</td>\n",
       "      <td>NaN</td>\n",
       "      <td>NaN</td>\n",
       "      <td>NaN</td>\n",
       "      <td>https://images.craigslist.org/01313_frkRogI7J7...</td>\n",
       "      <td>ny</td>\n",
       "      <td>43.2</td>\n",
       "      <td>-77.6</td>\n",
       "    </tr>\n",
       "    <tr>\n",
       "      <th>...</th>\n",
       "      <td>...</td>\n",
       "      <td>...</td>\n",
       "      <td>...</td>\n",
       "      <td>...</td>\n",
       "      <td>...</td>\n",
       "      <td>...</td>\n",
       "      <td>...</td>\n",
       "      <td>...</td>\n",
       "      <td>...</td>\n",
       "      <td>...</td>\n",
       "      <td>...</td>\n",
       "      <td>...</td>\n",
       "      <td>...</td>\n",
       "      <td>...</td>\n",
       "      <td>...</td>\n",
       "      <td>...</td>\n",
       "      <td>...</td>\n",
       "      <td>...</td>\n",
       "      <td>...</td>\n",
       "      <td>...</td>\n",
       "    </tr>\n",
       "    <tr>\n",
       "      <th>390935</th>\n",
       "      <td>7045709663</td>\n",
       "      <td>akron / canton</td>\n",
       "      <td>2950.0</td>\n",
       "      <td>2005.0</td>\n",
       "      <td>gmc</td>\n",
       "      <td>envoy 4x4</td>\n",
       "      <td>NaN</td>\n",
       "      <td>6 cylinders</td>\n",
       "      <td>gas</td>\n",
       "      <td>106000.0</td>\n",
       "      <td>clean</td>\n",
       "      <td>automatic</td>\n",
       "      <td>4wd</td>\n",
       "      <td>NaN</td>\n",
       "      <td>SUV</td>\n",
       "      <td>NaN</td>\n",
       "      <td>https://images.craigslist.org/00i0i_4RN3BuPGI4...</td>\n",
       "      <td>oh</td>\n",
       "      <td>41.1</td>\n",
       "      <td>-81.2</td>\n",
       "    </tr>\n",
       "    <tr>\n",
       "      <th>372453</th>\n",
       "      <td>7040028090</td>\n",
       "      <td>hudson valley</td>\n",
       "      <td>15600.0</td>\n",
       "      <td>2016.0</td>\n",
       "      <td>subaru</td>\n",
       "      <td>legacy</td>\n",
       "      <td>NaN</td>\n",
       "      <td>4 cylinders</td>\n",
       "      <td>gas</td>\n",
       "      <td>22558.0</td>\n",
       "      <td>clean</td>\n",
       "      <td>automatic</td>\n",
       "      <td>4wd</td>\n",
       "      <td>NaN</td>\n",
       "      <td>sedan</td>\n",
       "      <td>NaN</td>\n",
       "      <td>https://images.craigslist.org/00d0d_ivvK7VOqec...</td>\n",
       "      <td>ny</td>\n",
       "      <td>41.6</td>\n",
       "      <td>-73.1</td>\n",
       "    </tr>\n",
       "    <tr>\n",
       "      <th>121288</th>\n",
       "      <td>7049704134</td>\n",
       "      <td>SF bay area</td>\n",
       "      <td>83994.0</td>\n",
       "      <td>2017.0</td>\n",
       "      <td>NaN</td>\n",
       "      <td>Porsche 911</td>\n",
       "      <td>excellent</td>\n",
       "      <td>6 cylinders</td>\n",
       "      <td>gas</td>\n",
       "      <td>12612.0</td>\n",
       "      <td>clean</td>\n",
       "      <td>automatic</td>\n",
       "      <td>rwd</td>\n",
       "      <td>sub-compact</td>\n",
       "      <td>convertible</td>\n",
       "      <td>blue</td>\n",
       "      <td>https://images.craigslist.org/00Y0Y_19jqs5kwVZ...</td>\n",
       "      <td>ca</td>\n",
       "      <td>37.4</td>\n",
       "      <td>-122.1</td>\n",
       "    </tr>\n",
       "    <tr>\n",
       "      <th>367759</th>\n",
       "      <td>7045885741</td>\n",
       "      <td>buffalo</td>\n",
       "      <td>18948.0</td>\n",
       "      <td>2016.0</td>\n",
       "      <td>hyundai</td>\n",
       "      <td>santa fe</td>\n",
       "      <td>NaN</td>\n",
       "      <td>6 cylinders</td>\n",
       "      <td>gas</td>\n",
       "      <td>48058.0</td>\n",
       "      <td>clean</td>\n",
       "      <td>automatic</td>\n",
       "      <td>4wd</td>\n",
       "      <td>compact</td>\n",
       "      <td>SUV</td>\n",
       "      <td>grey</td>\n",
       "      <td>https://images.craigslist.org/00K0K_1H5dFP2PNh...</td>\n",
       "      <td>ny</td>\n",
       "      <td>42.8</td>\n",
       "      <td>-78.8</td>\n",
       "    </tr>\n",
       "    <tr>\n",
       "      <th>72544</th>\n",
       "      <td>7040800214</td>\n",
       "      <td>fayetteville</td>\n",
       "      <td>18950.0</td>\n",
       "      <td>2011.0</td>\n",
       "      <td>mercedes-benz</td>\n",
       "      <td>gl-class gl 550</td>\n",
       "      <td>good</td>\n",
       "      <td>8 cylinders</td>\n",
       "      <td>gas</td>\n",
       "      <td>79985.0</td>\n",
       "      <td>clean</td>\n",
       "      <td>automatic</td>\n",
       "      <td>NaN</td>\n",
       "      <td>NaN</td>\n",
       "      <td>other</td>\n",
       "      <td>white</td>\n",
       "      <td>https://images.craigslist.org/00B0B_b9OCqP52HD...</td>\n",
       "      <td>ar</td>\n",
       "      <td>36.1</td>\n",
       "      <td>-94.2</td>\n",
       "    </tr>\n",
       "  </tbody>\n",
       "</table>\n",
       "<p>46577 rows × 20 columns</p>\n",
       "</div>"
      ],
      "text/plain": [
       "                id                   region   price   year   manufacturer  \\\n",
       "344943  7041536673                  lincoln  2800.0 2005.0        lincoln   \n",
       "491444  7044615510                  el paso  4995.0 2004.0          honda   \n",
       "256311  7045252753              new orleans 10500.0 2012.0          lexus   \n",
       "295314  7034872563  saginaw-midland-baycity 14300.0 2014.0         toyota   \n",
       "380021  7049689253                rochester  1450.0 2007.0         saturn   \n",
       "...            ...                      ...     ...    ...            ...   \n",
       "390935  7045709663           akron / canton  2950.0 2005.0            gmc   \n",
       "372453  7040028090            hudson valley 15600.0 2016.0         subaru   \n",
       "121288  7049704134              SF bay area 83994.0 2017.0            NaN   \n",
       "367759  7045885741                  buffalo 18948.0 2016.0        hyundai   \n",
       "72544   7040800214             fayetteville 18950.0 2011.0  mercedes-benz   \n",
       "\n",
       "                  model  condition    cylinders    fuel  odometer  \\\n",
       "344943        navigator        NaN          NaN     gas       nan   \n",
       "491444            pilot       good  6 cylinders     gas  230123.0   \n",
       "256311            es350       good  6 cylinders     gas   45747.0   \n",
       "295314            prius   like new  4 cylinders  hybrid   56182.0   \n",
       "380021              vue       good  6 cylinders     gas  151946.0   \n",
       "...                 ...        ...          ...     ...       ...   \n",
       "390935        envoy 4x4        NaN  6 cylinders     gas  106000.0   \n",
       "372453           legacy        NaN  4 cylinders     gas   22558.0   \n",
       "121288      Porsche 911  excellent  6 cylinders     gas   12612.0   \n",
       "367759         santa fe        NaN  6 cylinders     gas   48058.0   \n",
       "72544   gl-class gl 550       good  8 cylinders     gas   79985.0   \n",
       "\n",
       "       title_status transmission drive         size         type paint_color  \\\n",
       "344943        clean    automatic   NaN          NaN          NaN         NaN   \n",
       "491444        clean    automatic   NaN          NaN          SUV      silver   \n",
       "256311      rebuilt    automatic   NaN          NaN          NaN        grey   \n",
       "295314        clean    automatic   fwd     mid-size    hatchback      silver   \n",
       "380021        clean    automatic   fwd          NaN          NaN         NaN   \n",
       "...             ...          ...   ...          ...          ...         ...   \n",
       "390935        clean    automatic   4wd          NaN          SUV         NaN   \n",
       "372453        clean    automatic   4wd          NaN        sedan         NaN   \n",
       "121288        clean    automatic   rwd  sub-compact  convertible        blue   \n",
       "367759        clean    automatic   4wd      compact          SUV        grey   \n",
       "72544         clean    automatic   NaN          NaN        other       white   \n",
       "\n",
       "                                                image_url state  lat   long  \n",
       "344943  https://images.craigslist.org/00k0k_lg3IIXqHvt...    ne 40.8  -96.7  \n",
       "491444  https://images.craigslist.org/00808_990qEgCycK...    tx 31.8 -106.4  \n",
       "256311  https://images.craigslist.org/00U0U_hUwPo5ZF3x...    la 30.0  -89.9  \n",
       "295314  https://images.craigslist.org/00y0y_gBpPNbYdgG...    mi 43.6  -84.2  \n",
       "380021  https://images.craigslist.org/01313_frkRogI7J7...    ny 43.2  -77.6  \n",
       "...                                                   ...   ...  ...    ...  \n",
       "390935  https://images.craigslist.org/00i0i_4RN3BuPGI4...    oh 41.1  -81.2  \n",
       "372453  https://images.craigslist.org/00d0d_ivvK7VOqec...    ny 41.6  -73.1  \n",
       "121288  https://images.craigslist.org/00Y0Y_19jqs5kwVZ...    ca 37.4 -122.1  \n",
       "367759  https://images.craigslist.org/00K0K_1H5dFP2PNh...    ny 42.8  -78.8  \n",
       "72544   https://images.craigslist.org/00B0B_b9OCqP52HD...    ar 36.1  -94.2  \n",
       "\n",
       "[46577 rows x 20 columns]"
      ]
     },
     "execution_count": 16,
     "metadata": {},
     "output_type": "execute_result"
    }
   ],
   "source": [
    "#Choose which observations you will use to train, validate, and test your model.\n",
    "train_orig, test = train_test_split(df2.drop(columns=['county','Unnamed: 0']) , test_size = 0.1, train_size = 0.9)\n",
    "test"
   ]
  },
  {
   "cell_type": "code",
   "execution_count": 17,
   "metadata": {
    "colab": {},
    "colab_type": "code",
    "id": "MocP5S5fgfPt",
    "outputId": "a0a3884a-e27f-4cb8-cc62-f71a462c424b"
   },
   "outputs": [
    {
     "data": {
      "text/html": [
       "<div>\n",
       "<style scoped>\n",
       "    .dataframe tbody tr th:only-of-type {\n",
       "        vertical-align: middle;\n",
       "    }\n",
       "\n",
       "    .dataframe tbody tr th {\n",
       "        vertical-align: top;\n",
       "    }\n",
       "\n",
       "    .dataframe thead th {\n",
       "        text-align: right;\n",
       "    }\n",
       "</style>\n",
       "<table border=\"1\" class=\"dataframe\">\n",
       "  <thead>\n",
       "    <tr style=\"text-align: right;\">\n",
       "      <th></th>\n",
       "      <th>id</th>\n",
       "      <th>region</th>\n",
       "      <th>price</th>\n",
       "      <th>year</th>\n",
       "      <th>manufacturer</th>\n",
       "      <th>model</th>\n",
       "      <th>condition</th>\n",
       "      <th>cylinders</th>\n",
       "      <th>fuel</th>\n",
       "      <th>odometer</th>\n",
       "      <th>title_status</th>\n",
       "      <th>transmission</th>\n",
       "      <th>drive</th>\n",
       "      <th>size</th>\n",
       "      <th>type</th>\n",
       "      <th>paint_color</th>\n",
       "      <th>image_url</th>\n",
       "      <th>state</th>\n",
       "      <th>lat</th>\n",
       "      <th>long</th>\n",
       "    </tr>\n",
       "  </thead>\n",
       "  <tbody>\n",
       "    <tr>\n",
       "      <th>163659</th>\n",
       "      <td>7045181470</td>\n",
       "      <td>jacksonville</td>\n",
       "      <td>1.0</td>\n",
       "      <td>2015.0</td>\n",
       "      <td>audi</td>\n",
       "      <td>s4</td>\n",
       "      <td>excellent</td>\n",
       "      <td>6 cylinders</td>\n",
       "      <td>gas</td>\n",
       "      <td>58606.0</td>\n",
       "      <td>clean</td>\n",
       "      <td>automatic</td>\n",
       "      <td>4wd</td>\n",
       "      <td>compact</td>\n",
       "      <td>sedan</td>\n",
       "      <td>blue</td>\n",
       "      <td>https://images.craigslist.org/00n0n_htalgKOI22...</td>\n",
       "      <td>fl</td>\n",
       "      <td>28.5</td>\n",
       "      <td>-81.4</td>\n",
       "    </tr>\n",
       "    <tr>\n",
       "      <th>99214</th>\n",
       "      <td>7049425716</td>\n",
       "      <td>orange county</td>\n",
       "      <td>4600.0</td>\n",
       "      <td>2008.0</td>\n",
       "      <td>saturn</td>\n",
       "      <td>outlook</td>\n",
       "      <td>NaN</td>\n",
       "      <td>NaN</td>\n",
       "      <td>gas</td>\n",
       "      <td>158048.0</td>\n",
       "      <td>clean</td>\n",
       "      <td>automatic</td>\n",
       "      <td>fwd</td>\n",
       "      <td>NaN</td>\n",
       "      <td>SUV</td>\n",
       "      <td>red</td>\n",
       "      <td>https://images.craigslist.org/00B0B_gEV7MyzCrO...</td>\n",
       "      <td>ca</td>\n",
       "      <td>33.5</td>\n",
       "      <td>-117.7</td>\n",
       "    </tr>\n",
       "    <tr>\n",
       "      <th>17168</th>\n",
       "      <td>7047196337</td>\n",
       "      <td>bellingham</td>\n",
       "      <td>32500.0</td>\n",
       "      <td>2016.0</td>\n",
       "      <td>gmc</td>\n",
       "      <td>sierra 1500</td>\n",
       "      <td>NaN</td>\n",
       "      <td>8 cylinders</td>\n",
       "      <td>gas</td>\n",
       "      <td>64283.0</td>\n",
       "      <td>clean</td>\n",
       "      <td>automatic</td>\n",
       "      <td>4wd</td>\n",
       "      <td>NaN</td>\n",
       "      <td>truck</td>\n",
       "      <td>NaN</td>\n",
       "      <td>https://images.craigslist.org/01515_5Wa5xyn6Nn...</td>\n",
       "      <td>wa</td>\n",
       "      <td>48.8</td>\n",
       "      <td>-122.5</td>\n",
       "    </tr>\n",
       "    <tr>\n",
       "      <th>243024</th>\n",
       "      <td>7047380054</td>\n",
       "      <td>kansas city, MO</td>\n",
       "      <td>7995.0</td>\n",
       "      <td>2007.0</td>\n",
       "      <td>chevrolet</td>\n",
       "      <td>suburban 1500</td>\n",
       "      <td>NaN</td>\n",
       "      <td>8 cylinders</td>\n",
       "      <td>other</td>\n",
       "      <td>229220.0</td>\n",
       "      <td>clean</td>\n",
       "      <td>automatic</td>\n",
       "      <td>4wd</td>\n",
       "      <td>NaN</td>\n",
       "      <td>SUV</td>\n",
       "      <td>custom</td>\n",
       "      <td>https://images.craigslist.org/00Q0Q_gJQbgddNEC...</td>\n",
       "      <td>ks</td>\n",
       "      <td>38.6</td>\n",
       "      <td>-94.3</td>\n",
       "    </tr>\n",
       "    <tr>\n",
       "      <th>350397</th>\n",
       "      <td>7047793798</td>\n",
       "      <td>central NJ</td>\n",
       "      <td>19500.0</td>\n",
       "      <td>1968.0</td>\n",
       "      <td>NaN</td>\n",
       "      <td>oldsmobile cutlass</td>\n",
       "      <td>NaN</td>\n",
       "      <td>8 cylinders</td>\n",
       "      <td>gas</td>\n",
       "      <td>nan</td>\n",
       "      <td>clean</td>\n",
       "      <td>automatic</td>\n",
       "      <td>rwd</td>\n",
       "      <td>mid-size</td>\n",
       "      <td>coupe</td>\n",
       "      <td>silver</td>\n",
       "      <td>https://images.craigslist.org/00s0s_6FWx3fNQwd...</td>\n",
       "      <td>nj</td>\n",
       "      <td>40.5</td>\n",
       "      <td>-74.6</td>\n",
       "    </tr>\n",
       "    <tr>\n",
       "      <th>...</th>\n",
       "      <td>...</td>\n",
       "      <td>...</td>\n",
       "      <td>...</td>\n",
       "      <td>...</td>\n",
       "      <td>...</td>\n",
       "      <td>...</td>\n",
       "      <td>...</td>\n",
       "      <td>...</td>\n",
       "      <td>...</td>\n",
       "      <td>...</td>\n",
       "      <td>...</td>\n",
       "      <td>...</td>\n",
       "      <td>...</td>\n",
       "      <td>...</td>\n",
       "      <td>...</td>\n",
       "      <td>...</td>\n",
       "      <td>...</td>\n",
       "      <td>...</td>\n",
       "      <td>...</td>\n",
       "      <td>...</td>\n",
       "    </tr>\n",
       "    <tr>\n",
       "      <th>139059</th>\n",
       "      <td>7046271038</td>\n",
       "      <td>fort collins / north CO</td>\n",
       "      <td>27000.0</td>\n",
       "      <td>2014.0</td>\n",
       "      <td>jeep</td>\n",
       "      <td>grand cherokee</td>\n",
       "      <td>NaN</td>\n",
       "      <td>8 cylinders</td>\n",
       "      <td>gas</td>\n",
       "      <td>56906.0</td>\n",
       "      <td>clean</td>\n",
       "      <td>automatic</td>\n",
       "      <td>4wd</td>\n",
       "      <td>NaN</td>\n",
       "      <td>SUV</td>\n",
       "      <td>NaN</td>\n",
       "      <td>https://images.craigslist.org/00i0i_9eX4tkGy4T...</td>\n",
       "      <td>co</td>\n",
       "      <td>39.6</td>\n",
       "      <td>-105.0</td>\n",
       "    </tr>\n",
       "    <tr>\n",
       "      <th>106104</th>\n",
       "      <td>7038087478</td>\n",
       "      <td>redding</td>\n",
       "      <td>8914.0</td>\n",
       "      <td>2014.0</td>\n",
       "      <td>dodge</td>\n",
       "      <td>dart gt</td>\n",
       "      <td>excellent</td>\n",
       "      <td>4 cylinders</td>\n",
       "      <td>gas</td>\n",
       "      <td>153275.0</td>\n",
       "      <td>clean</td>\n",
       "      <td>manual</td>\n",
       "      <td>fwd</td>\n",
       "      <td>NaN</td>\n",
       "      <td>sedan</td>\n",
       "      <td>white</td>\n",
       "      <td>https://images.craigslist.org/00P0P_eTzrpuYCKF...</td>\n",
       "      <td>ca</td>\n",
       "      <td>40.5</td>\n",
       "      <td>-122.3</td>\n",
       "    </tr>\n",
       "    <tr>\n",
       "      <th>313559</th>\n",
       "      <td>7047449677</td>\n",
       "      <td>springfield</td>\n",
       "      <td>29998.0</td>\n",
       "      <td>2018.0</td>\n",
       "      <td>chevrolet</td>\n",
       "      <td>silverado 1500</td>\n",
       "      <td>excellent</td>\n",
       "      <td>8 cylinders</td>\n",
       "      <td>gas</td>\n",
       "      <td>31000.0</td>\n",
       "      <td>clean</td>\n",
       "      <td>automatic</td>\n",
       "      <td>4wd</td>\n",
       "      <td>NaN</td>\n",
       "      <td>truck</td>\n",
       "      <td>black</td>\n",
       "      <td>https://images.craigslist.org/00E0E_ag6Ji5DhKK...</td>\n",
       "      <td>mo</td>\n",
       "      <td>36.7</td>\n",
       "      <td>-91.8</td>\n",
       "    </tr>\n",
       "    <tr>\n",
       "      <th>300873</th>\n",
       "      <td>7036487274</td>\n",
       "      <td>fargo / moorhead</td>\n",
       "      <td>26490.0</td>\n",
       "      <td>2017.0</td>\n",
       "      <td>jeep</td>\n",
       "      <td>grand cherokee limited</td>\n",
       "      <td>like new</td>\n",
       "      <td>6 cylinders</td>\n",
       "      <td>gas</td>\n",
       "      <td>43926.0</td>\n",
       "      <td>clean</td>\n",
       "      <td>automatic</td>\n",
       "      <td>rwd</td>\n",
       "      <td>full-size</td>\n",
       "      <td>SUV</td>\n",
       "      <td>black</td>\n",
       "      <td>https://images.craigslist.org/00606_j82oRMZCWK...</td>\n",
       "      <td>mn</td>\n",
       "      <td>47.9</td>\n",
       "      <td>-97.0</td>\n",
       "    </tr>\n",
       "    <tr>\n",
       "      <th>327423</th>\n",
       "      <td>7048608404</td>\n",
       "      <td>charlotte</td>\n",
       "      <td>10490.0</td>\n",
       "      <td>2011.0</td>\n",
       "      <td>toyota</td>\n",
       "      <td>highlander 4w4</td>\n",
       "      <td>excellent</td>\n",
       "      <td>6 cylinders</td>\n",
       "      <td>gas</td>\n",
       "      <td>165800.0</td>\n",
       "      <td>clean</td>\n",
       "      <td>automatic</td>\n",
       "      <td>4wd</td>\n",
       "      <td>full-size</td>\n",
       "      <td>SUV</td>\n",
       "      <td>green</td>\n",
       "      <td>https://images.craigslist.org/00f0f_8MuX3WNzPg...</td>\n",
       "      <td>nc</td>\n",
       "      <td>35.1</td>\n",
       "      <td>-80.7</td>\n",
       "    </tr>\n",
       "  </tbody>\n",
       "</table>\n",
       "<p>377269 rows × 20 columns</p>\n",
       "</div>"
      ],
      "text/plain": [
       "                id                   region   price   year manufacturer  \\\n",
       "163659  7045181470             jacksonville     1.0 2015.0         audi   \n",
       "99214   7049425716            orange county  4600.0 2008.0       saturn   \n",
       "17168   7047196337               bellingham 32500.0 2016.0          gmc   \n",
       "243024  7047380054          kansas city, MO  7995.0 2007.0    chevrolet   \n",
       "350397  7047793798               central NJ 19500.0 1968.0          NaN   \n",
       "...            ...                      ...     ...    ...          ...   \n",
       "139059  7046271038  fort collins / north CO 27000.0 2014.0         jeep   \n",
       "106104  7038087478                  redding  8914.0 2014.0        dodge   \n",
       "313559  7047449677              springfield 29998.0 2018.0    chevrolet   \n",
       "300873  7036487274         fargo / moorhead 26490.0 2017.0         jeep   \n",
       "327423  7048608404                charlotte 10490.0 2011.0       toyota   \n",
       "\n",
       "                         model  condition    cylinders   fuel  odometer  \\\n",
       "163659                      s4  excellent  6 cylinders    gas   58606.0   \n",
       "99214                  outlook        NaN          NaN    gas  158048.0   \n",
       "17168              sierra 1500        NaN  8 cylinders    gas   64283.0   \n",
       "243024           suburban 1500        NaN  8 cylinders  other  229220.0   \n",
       "350397      oldsmobile cutlass        NaN  8 cylinders    gas       nan   \n",
       "...                        ...        ...          ...    ...       ...   \n",
       "139059          grand cherokee        NaN  8 cylinders    gas   56906.0   \n",
       "106104                 dart gt  excellent  4 cylinders    gas  153275.0   \n",
       "313559          silverado 1500  excellent  8 cylinders    gas   31000.0   \n",
       "300873  grand cherokee limited   like new  6 cylinders    gas   43926.0   \n",
       "327423          highlander 4w4  excellent  6 cylinders    gas  165800.0   \n",
       "\n",
       "       title_status transmission drive       size   type paint_color  \\\n",
       "163659        clean    automatic   4wd    compact  sedan        blue   \n",
       "99214         clean    automatic   fwd        NaN    SUV         red   \n",
       "17168         clean    automatic   4wd        NaN  truck         NaN   \n",
       "243024        clean    automatic   4wd        NaN    SUV      custom   \n",
       "350397        clean    automatic   rwd   mid-size  coupe      silver   \n",
       "...             ...          ...   ...        ...    ...         ...   \n",
       "139059        clean    automatic   4wd        NaN    SUV         NaN   \n",
       "106104        clean       manual   fwd        NaN  sedan       white   \n",
       "313559        clean    automatic   4wd        NaN  truck       black   \n",
       "300873        clean    automatic   rwd  full-size    SUV       black   \n",
       "327423        clean    automatic   4wd  full-size    SUV       green   \n",
       "\n",
       "                                                image_url state  lat   long  \n",
       "163659  https://images.craigslist.org/00n0n_htalgKOI22...    fl 28.5  -81.4  \n",
       "99214   https://images.craigslist.org/00B0B_gEV7MyzCrO...    ca 33.5 -117.7  \n",
       "17168   https://images.craigslist.org/01515_5Wa5xyn6Nn...    wa 48.8 -122.5  \n",
       "243024  https://images.craigslist.org/00Q0Q_gJQbgddNEC...    ks 38.6  -94.3  \n",
       "350397  https://images.craigslist.org/00s0s_6FWx3fNQwd...    nj 40.5  -74.6  \n",
       "...                                                   ...   ...  ...    ...  \n",
       "139059  https://images.craigslist.org/00i0i_9eX4tkGy4T...    co 39.6 -105.0  \n",
       "106104  https://images.craigslist.org/00P0P_eTzrpuYCKF...    ca 40.5 -122.3  \n",
       "313559  https://images.craigslist.org/00E0E_ag6Ji5DhKK...    mo 36.7  -91.8  \n",
       "300873  https://images.craigslist.org/00606_j82oRMZCWK...    mn 47.9  -97.0  \n",
       "327423  https://images.craigslist.org/00f0f_8MuX3WNzPg...    nc 35.1  -80.7  \n",
       "\n",
       "[377269 rows x 20 columns]"
      ]
     },
     "execution_count": 17,
     "metadata": {},
     "output_type": "execute_result"
    }
   ],
   "source": [
    "train, val = train_test_split(train_orig, train_size = 0.9, test_size = 0.1)\n",
    "train"
   ]
  },
  {
   "cell_type": "code",
   "execution_count": 18,
   "metadata": {
    "colab": {},
    "colab_type": "code",
    "id": "6Yu7kbougfP0",
    "outputId": "7c6f96e9-a9c0-442c-a96d-96a8740ef80f",
    "scrolled": true
   },
   "outputs": [
    {
     "data": {
      "text/plain": [
       "8618.535989332982"
      ]
     },
     "execution_count": 18,
     "metadata": {},
     "output_type": "execute_result"
    }
   ],
   "source": [
    "# MEAN BASELINE\n",
    "#  For the evaluation metric you chose, what score would you get just by guessing?\n",
    "# R^2 for a flat line of the mean would be 0. Let's look at the MAE\n",
    "list_of_mean = [train['price'].mean()] * len(val['price'])\n",
    "mean_absolute_error(val['price'], list_of_mean)"
   ]
  },
  {
   "cell_type": "code",
   "execution_count": 19,
   "metadata": {
    "colab": {},
    "colab_type": "code",
    "id": "_YlchVI7gfP3",
    "outputId": "dbeadc57-a993-4293-fc5a-66628bba3f7f"
   },
   "outputs": [
    {
     "name": "stdout",
     "output_type": "stream",
     "text": [
      "MAE: 7820.209774912651\n",
      "R^2: 0.10791712315490853\n"
     ]
    }
   ],
   "source": [
    "# LINEAR REGRESSION (to beat) BASELINE\n",
    "# Let's do a univariate linear regression as a baseline as well\n",
    "imp_mean = SimpleImputer(missing_values=np.nan, strategy='mean')\n",
    "imp_mean.fit(train[['year']])\n",
    "lr = LinearRegression()\n",
    "model = lr.fit(imp_mean.transform(train[['year']]),train['price'])\n",
    "\n",
    "print('MAE:', mean_absolute_error(val['price'], model.predict(imp_mean.transform(val[['year']]))))\n",
    "print('R^2:', r2_score(val['price'], model.predict(imp_mean.transform(val[['year']]))))\n",
    "# Alrighty then. Got some baselines!"
   ]
  },
  {
   "cell_type": "code",
   "execution_count": 20,
   "metadata": {
    "colab": {},
    "colab_type": "code",
    "id": "Bd1QXxcXgfP6"
   },
   "outputs": [],
   "source": [
    "target = 'price'\n",
    "features = ['region', 'year', 'manufacturer', 'model', 'condition',\n",
    "       'cylinders', 'fuel', 'odometer', 'title_status', 'transmission',\n",
    "       'drive', 'size', 'type', 'paint_color', 'state', 'lat',\n",
    "       'long']\n",
    "X_train = train[features]\n",
    "y_train = train[target]\n",
    "X_val = val[features]\n",
    "y_val = val[target]\n",
    "X_test = test[features]\n",
    "y_test = test[target]"
   ]
  },
  {
   "cell_type": "code",
   "execution_count": 21,
   "metadata": {
    "colab": {},
    "colab_type": "code",
    "id": "rTlQLnpKgfP8",
    "outputId": "203b85bf-2664-47b5-9eed-821b9f85b9b6"
   },
   "outputs": [
    {
     "data": {
      "text/plain": [
       "Pipeline(memory=None,\n",
       "         steps=[('ordinalencoder',\n",
       "                 OrdinalEncoder(cols=['region', 'manufacturer', 'model',\n",
       "                                      'condition', 'cylinders', 'fuel',\n",
       "                                      'title_status', 'transmission', 'drive',\n",
       "                                      'size', 'type', 'paint_color', 'state'],\n",
       "                                drop_invariant=False, handle_missing='value',\n",
       "                                handle_unknown='value',\n",
       "                                mapping=[{'col': 'region',\n",
       "                                          'data_type': dtype('O'),\n",
       "                                          'mapping': jacksonville              1\n",
       "orange c...\n",
       "                               missing_values=nan, strategy='median',\n",
       "                               verbose=0)),\n",
       "                ('decisiontreeregressor',\n",
       "                 DecisionTreeRegressor(ccp_alpha=0.0, criterion='mse',\n",
       "                                       max_depth=10, max_features=None,\n",
       "                                       max_leaf_nodes=None,\n",
       "                                       min_impurity_decrease=0.0,\n",
       "                                       min_impurity_split=None,\n",
       "                                       min_samples_leaf=1, min_samples_split=2,\n",
       "                                       min_weight_fraction_leaf=0.0,\n",
       "                                       presort='deprecated', random_state=None,\n",
       "                                       splitter='best'))],\n",
       "         verbose=False)"
      ]
     },
     "execution_count": 21,
     "metadata": {},
     "output_type": "execute_result"
    }
   ],
   "source": [
    "# Heck let's do a decision tree as a baseline too\n",
    "pipeline = make_pipeline(\n",
    "    ce.OrdinalEncoder(),\n",
    "    SimpleImputer(strategy='median'),\n",
    "    DecisionTreeRegressor(max_depth=10)\n",
    ")\n",
    "pipeline.fit(X_train, y_train)\n"
   ]
  },
  {
   "cell_type": "code",
   "execution_count": 22,
   "metadata": {
    "colab": {},
    "colab_type": "code",
    "id": "bCE3tCnogfP-",
    "outputId": "e3f73363-bb82-404b-eab0-256f89daa239"
   },
   "outputs": [
    {
     "name": "stdout",
     "output_type": "stream",
     "text": [
      "MAE: 4037.7797008017756\n",
      "R^2: 0.6651729638949174\n"
     ]
    }
   ],
   "source": [
    "y_pred = pipeline.predict(X_val)\n",
    "print('MAE:', mean_absolute_error(y_val, y_pred))\n",
    "print('R^2:', r2_score(y_val, y_pred))\n",
    "\n",
    "# Pretty dope tree"
   ]
  },
  {
   "cell_type": "code",
   "execution_count": 23,
   "metadata": {
    "colab": {},
    "colab_type": "code",
    "id": "Gu-3V6nHgfQD",
    "outputId": "bba27e4d-0e6f-4d47-ae57-c56906702a60"
   },
   "outputs": [
    {
     "data": {
      "text/plain": [
       "id                int64\n",
       "region           object\n",
       "price           float64\n",
       "year            float64\n",
       "manufacturer     object\n",
       "model            object\n",
       "condition        object\n",
       "cylinders        object\n",
       "fuel             object\n",
       "odometer        float64\n",
       "title_status     object\n",
       "transmission     object\n",
       "drive            object\n",
       "size             object\n",
       "type             object\n",
       "paint_color      object\n",
       "image_url        object\n",
       "state            object\n",
       "lat             float64\n",
       "long            float64\n",
       "dtype: object"
      ]
     },
     "execution_count": 23,
     "metadata": {},
     "output_type": "execute_result"
    }
   ],
   "source": [
    "# Explore more\n",
    "train.dtypes"
   ]
  },
  {
   "cell_type": "code",
   "execution_count": 24,
   "metadata": {
    "colab": {},
    "colab_type": "code",
    "id": "X6TQZrYygfQF",
    "outputId": "7cd732a4-ba9e-4dcc-9444-4554bf0a4c7a"
   },
   "outputs": [
    {
     "data": {
      "text/plain": [
       "Text(0.5, 1.0, 'price by year')"
      ]
     },
     "execution_count": 24,
     "metadata": {},
     "output_type": "execute_result"
    },
    {
     "data": {
      "image/png": "[encoded data removed]",
      "text/plain": [
       "<Figure size 432x288 with 1 Axes>"
      ]
     },
     "metadata": {
      "needs_background": "light"
     },
     "output_type": "display_data"
    }
   ],
   "source": [
    "sns.scatterplot(train['year'], train['price'])\n",
    "plt.title('price by year')"
   ]
  },
  {
   "cell_type": "code",
   "execution_count": 25,
   "metadata": {
    "colab": {},
    "colab_type": "code",
    "id": "jB-HuSa_gfQH",
    "outputId": "c8c26756-e280-4b8a-ae62-6799c71c79f0"
   },
   "outputs": [
    {
     "data": {
      "text/plain": [
       "<matplotlib.axes._subplots.AxesSubplot at 0x2600f475fc8>"
      ]
     },
     "execution_count": 25,
     "metadata": {},
     "output_type": "execute_result"
    },
    {
     "data": {
      "image/png": "[encoded data removed]",
      "text/plain": [
       "<Figure size 432x288 with 1 Axes>"
      ]
     },
     "metadata": {
      "needs_background": "light"
     },
     "output_type": "display_data"
    }
   ],
   "source": [
    "train['manufacturer'].value_counts().plot(kind='bar')"
   ]
  },
  {
   "cell_type": "code",
   "execution_count": 26,
   "metadata": {
    "colab": {},
    "colab_type": "code",
    "id": "ExMUBdH9gfQJ",
    "outputId": "78c21fc9-a113-4cd2-f9c2-84ea21880913"
   },
   "outputs": [
    {
     "data": {
      "text/plain": [
       "Text(0.5, 1.0, 'price by color')"
      ]
     },
     "execution_count": 26,
     "metadata": {},
     "output_type": "execute_result"
    },
    {
     "data": {
      "image/png": "[encoded data removed]",
      "text/plain": [
       "<Figure size 432x288 with 1 Axes>"
      ]
     },
     "metadata": {
      "needs_background": "light"
     },
     "output_type": "display_data"
    }
   ],
   "source": [
    "sns.scatterplot(train['paint_color'], train['price'])\n",
    "plt.title('price by color')"
   ]
  },
  {
   "cell_type": "code",
   "execution_count": 27,
   "metadata": {
    "colab": {},
    "colab_type": "code",
    "id": "j3UuPhgdgfQM",
    "outputId": "86ba2197-c719-48d8-cd42-7004e09721be"
   },
   "outputs": [
    {
     "name": "stdout",
     "output_type": "stream",
     "text": [
      "Wall time: 0 ns\n",
      "MAE: 2212.9079436941706\n",
      "R^2: 0.8390164797854873\n"
     ]
    }
   ],
   "source": [
    "# BEAT BASELINE WITH TREES\n",
    "%time\n",
    "# Random Forest model\n",
    "\n",
    "pipeline = make_pipeline(\n",
    "    ce.OrdinalEncoder(),\n",
    "    SimpleImputer(strategy='median'),\n",
    "    RandomForestRegressor(n_estimators=50)\n",
    ")\n",
    "pipeline.fit(X_train, y_train)\n",
    "\n",
    "y_pred = pipeline.predict(X_val)\n",
    "print('MAE:', mean_absolute_error(y_val, y_pred))\n",
    "print('R^2:', r2_score(y_val, y_pred))\n",
    "\n",
    "# lit, already happy about that"
   ]
  },
  {
   "cell_type": "code",
   "execution_count": 28,
   "metadata": {
    "colab": {},
    "colab_type": "code",
    "id": "BIyDTq1dgfQO"
   },
   "outputs": [],
   "source": [
    "# Earlier models that needed extra tuning\n",
    "# XGBoost\n",
    "\n",
    "# pipeline = make_pipeline(\n",
    "#     ce.OrdinalEncoder(), \n",
    "#     # SimpleImputer(strategy='median'),  missing values accepted in this\n",
    "#     XGBRegressor(n_estimators=70, random_state=42, n_jobs=-1)\n",
    "# )\n",
    "# pipeline.fit(X_train, y_train)\n",
    "\n",
    "# y_pred = pipeline.predict(X_val)\n",
    "# print('MAE:', mean_absolute_error(y_val, y_pred))\n",
    "# print('R^2:', r2_score(y_val, y_pred))\n",
    "\n",
    "# Much to tune"
   ]
  },
  {
   "cell_type": "code",
   "execution_count": 29,
   "metadata": {
    "colab": {},
    "colab_type": "code",
    "id": "Lf4BfMA5gfQR"
   },
   "outputs": [],
   "source": [
    "# Early stopping, \n",
    "# encoder = ce.OrdinalEncoder()\n",
    "# X_train_encoded = encoder.fit_transform(X_train)\n",
    "# X_val_encoded = encoder.transform(X_val)\n",
    "# model = XGBRegressor(\n",
    "#     n_estimators= 500, # up to 1000, depends on early stop\n",
    "#     max_depth = 7,\n",
    "#     learning_rate= 0.5, # try higher learning rate\n",
    "# )\n",
    "\n",
    "# eval_set = [(X_train_encoded, y_train), (X_val_encoded, y_val)]\n",
    "\n",
    "# model.fit(X_train_encoded,y_train,\n",
    "#           eval_set = eval_set,\n",
    "#           eval_metric = 'mae',\n",
    "#           early_stopping_rounds = 50)\n",
    "# Random forest still better, will have to play with it"
   ]
  },
  {
   "cell_type": "code",
   "execution_count": 30,
   "metadata": {
    "colab": {},
    "colab_type": "code",
    "id": "vzTktYN2gfQW",
    "outputId": "b0f26acc-d6cd-4d1a-934b-c23663306c56"
   },
   "outputs": [
    {
     "name": "stdout",
     "output_type": "stream",
     "text": [
      "Wall time: 0 ns\n",
      "[14:12:27] WARNING: src/objective/regression_obj.cu:152: reg:linear is now deprecated in favor of reg:squarederror.\n",
      "[0]\tvalidation_0-mae:12291.9\tvalidation_1-mae:12303.3\n",
      "Multiple eval metrics have been passed: 'validation_1-mae' will be used for early stopping.\n",
      "\n",
      "Will train until validation_1-mae hasn't improved in 2 rounds.\n",
      "[1]\tvalidation_0-mae:11115.2\tvalidation_1-mae:11153.9\n",
      "[2]\tvalidation_0-mae:10056\tvalidation_1-mae:10126.2\n",
      "[3]\tvalidation_0-mae:9101.54\tvalidation_1-mae:9210.38\n",
      "[4]\tvalidation_0-mae:8241.27\tvalidation_1-mae:8389.35\n",
      "[5]\tvalidation_0-mae:7465.21\tvalidation_1-mae:7653.97\n",
      "[6]\tvalidation_0-mae:6764.87\tvalidation_1-mae:7003.53\n",
      "[7]\tvalidation_0-mae:6134.88\tvalidation_1-mae:6426.61\n",
      "[8]\tvalidation_0-mae:5565.34\tvalidation_1-mae:5911.31\n",
      "[9]\tvalidation_0-mae:5052.28\tvalidation_1-mae:5454.05\n",
      "[10]\tvalidation_0-mae:4588.06\tvalidation_1-mae:5049.35\n",
      "[11]\tvalidation_0-mae:4169.25\tvalidation_1-mae:4692.45\n",
      "[12]\tvalidation_0-mae:3790.86\tvalidation_1-mae:4378.95\n",
      "[13]\tvalidation_0-mae:3448.56\tvalidation_1-mae:4103.6\n",
      "[14]\tvalidation_0-mae:3139.12\tvalidation_1-mae:3859.99\n",
      "[15]\tvalidation_0-mae:2858.98\tvalidation_1-mae:3645.36\n",
      "[16]\tvalidation_0-mae:2605.3\tvalidation_1-mae:3456.11\n",
      "[17]\tvalidation_0-mae:2375.48\tvalidation_1-mae:3289.27\n",
      "[18]\tvalidation_0-mae:2167.3\tvalidation_1-mae:3143.84\n",
      "[19]\tvalidation_0-mae:1978.12\tvalidation_1-mae:3015.18\n",
      "[20]\tvalidation_0-mae:1806.05\tvalidation_1-mae:2901.84\n",
      "[21]\tvalidation_0-mae:1649.81\tvalidation_1-mae:2801\n",
      "[22]\tvalidation_0-mae:1508.24\tvalidation_1-mae:2712.89\n",
      "[23]\tvalidation_0-mae:1379.54\tvalidation_1-mae:2634.99\n",
      "[24]\tvalidation_0-mae:1262.56\tvalidation_1-mae:2566.75\n",
      "[25]\tvalidation_0-mae:1156.5\tvalidation_1-mae:2506.44\n",
      "[26]\tvalidation_0-mae:1059.96\tvalidation_1-mae:2453.34\n",
      "[27]\tvalidation_0-mae:971.841\tvalidation_1-mae:2405.9\n",
      "[28]\tvalidation_0-mae:891.576\tvalidation_1-mae:2364.1\n",
      "[29]\tvalidation_0-mae:818.604\tvalidation_1-mae:2327.28\n",
      "[30]\tvalidation_0-mae:752.025\tvalidation_1-mae:2294.43\n",
      "[31]\tvalidation_0-mae:691.434\tvalidation_1-mae:2265.14\n",
      "[32]\tvalidation_0-mae:636.254\tvalidation_1-mae:2239.34\n",
      "[33]\tvalidation_0-mae:586.009\tvalidation_1-mae:2216.52\n",
      "[34]\tvalidation_0-mae:539.93\tvalidation_1-mae:2195.8\n",
      "[35]\tvalidation_0-mae:497.883\tvalidation_1-mae:2177.38\n",
      "[36]\tvalidation_0-mae:459.494\tvalidation_1-mae:2161.04\n",
      "[37]\tvalidation_0-mae:424.382\tvalidation_1-mae:2146.82\n",
      "[38]\tvalidation_0-mae:392.238\tvalidation_1-mae:2134.1\n",
      "[39]\tvalidation_0-mae:362.959\tvalidation_1-mae:2122.91\n",
      "[40]\tvalidation_0-mae:336.1\tvalidation_1-mae:2112.51\n",
      "[41]\tvalidation_0-mae:311.545\tvalidation_1-mae:2103.17\n",
      "[42]\tvalidation_0-mae:289.129\tvalidation_1-mae:2094.89\n",
      "[43]\tvalidation_0-mae:268.616\tvalidation_1-mae:2087.5\n",
      "[44]\tvalidation_0-mae:249.741\tvalidation_1-mae:2081.07\n",
      "[45]\tvalidation_0-mae:232.346\tvalidation_1-mae:2075.09\n",
      "[46]\tvalidation_0-mae:216.432\tvalidation_1-mae:2069.77\n",
      "[47]\tvalidation_0-mae:201.859\tvalidation_1-mae:2065.17\n",
      "[48]\tvalidation_0-mae:188.495\tvalidation_1-mae:2061.07\n",
      "[49]\tvalidation_0-mae:176.18\tvalidation_1-mae:2057.48\n",
      "[50]\tvalidation_0-mae:164.909\tvalidation_1-mae:2054.18\n",
      "[51]\tvalidation_0-mae:154.536\tvalidation_1-mae:2051.2\n",
      "[52]\tvalidation_0-mae:145.008\tvalidation_1-mae:2048.63\n",
      "[53]\tvalidation_0-mae:136.136\tvalidation_1-mae:2046.06\n",
      "[54]\tvalidation_0-mae:127.998\tvalidation_1-mae:2043.84\n",
      "[55]\tvalidation_0-mae:120.369\tvalidation_1-mae:2041.64\n",
      "[56]\tvalidation_0-mae:113.364\tvalidation_1-mae:2039.64\n",
      "[57]\tvalidation_0-mae:106.912\tvalidation_1-mae:2037.92\n",
      "[58]\tvalidation_0-mae:100.956\tvalidation_1-mae:2036.34\n",
      "[59]\tvalidation_0-mae:95.4061\tvalidation_1-mae:2034.88\n",
      "[60]\tvalidation_0-mae:90.2826\tvalidation_1-mae:2033.59\n",
      "[61]\tvalidation_0-mae:85.5865\tvalidation_1-mae:2032.52\n",
      "[62]\tvalidation_0-mae:81.2492\tvalidation_1-mae:2031.55\n",
      "[63]\tvalidation_0-mae:77.2\tvalidation_1-mae:2030.56\n",
      "[64]\tvalidation_0-mae:73.4675\tvalidation_1-mae:2029.65\n",
      "[65]\tvalidation_0-mae:70.0232\tvalidation_1-mae:2028.86\n",
      "[66]\tvalidation_0-mae:66.8339\tvalidation_1-mae:2028.15\n",
      "[67]\tvalidation_0-mae:63.8715\tvalidation_1-mae:2027.46\n",
      "[68]\tvalidation_0-mae:61.0948\tvalidation_1-mae:2026.82\n",
      "[69]\tvalidation_0-mae:58.5404\tvalidation_1-mae:2026.26\n",
      "[70]\tvalidation_0-mae:56.1732\tvalidation_1-mae:2025.75\n",
      "[71]\tvalidation_0-mae:53.9888\tvalidation_1-mae:2025.29\n",
      "[72]\tvalidation_0-mae:51.9473\tvalidation_1-mae:2024.88\n",
      "[73]\tvalidation_0-mae:50.0578\tvalidation_1-mae:2024.51\n",
      "[74]\tvalidation_0-mae:48.2974\tvalidation_1-mae:2024.15\n",
      "[75]\tvalidation_0-mae:46.648\tvalidation_1-mae:2023.81\n",
      "[76]\tvalidation_0-mae:45.1241\tvalidation_1-mae:2023.48\n",
      "[77]\tvalidation_0-mae:43.6786\tvalidation_1-mae:2023.15\n",
      "[78]\tvalidation_0-mae:42.3357\tvalidation_1-mae:2022.88\n",
      "[79]\tvalidation_0-mae:41.0991\tvalidation_1-mae:2022.62\n",
      "[80]\tvalidation_0-mae:39.9193\tvalidation_1-mae:2022.39\n",
      "[81]\tvalidation_0-mae:38.8227\tvalidation_1-mae:2022.16\n",
      "[82]\tvalidation_0-mae:37.7969\tvalidation_1-mae:2021.94\n",
      "[83]\tvalidation_0-mae:36.8377\tvalidation_1-mae:2021.74\n",
      "[84]\tvalidation_0-mae:35.956\tvalidation_1-mae:2021.57\n",
      "[85]\tvalidation_0-mae:35.1339\tvalidation_1-mae:2021.41\n",
      "[86]\tvalidation_0-mae:34.3677\tvalidation_1-mae:2021.27\n",
      "[87]\tvalidation_0-mae:33.6551\tvalidation_1-mae:2021.11\n",
      "[88]\tvalidation_0-mae:32.9977\tvalidation_1-mae:2020.99\n",
      "[89]\tvalidation_0-mae:32.3804\tvalidation_1-mae:2020.87\n",
      "[90]\tvalidation_0-mae:31.8026\tvalidation_1-mae:2020.76\n",
      "[91]\tvalidation_0-mae:31.2553\tvalidation_1-mae:2020.67\n",
      "[92]\tvalidation_0-mae:30.7414\tvalidation_1-mae:2020.58\n",
      "[93]\tvalidation_0-mae:30.252\tvalidation_1-mae:2020.5\n",
      "[94]\tvalidation_0-mae:29.7952\tvalidation_1-mae:2020.42\n",
      "[95]\tvalidation_0-mae:29.3469\tvalidation_1-mae:2020.33\n",
      "[96]\tvalidation_0-mae:28.9185\tvalidation_1-mae:2020.23\n",
      "[97]\tvalidation_0-mae:28.5089\tvalidation_1-mae:2020.14\n",
      "[98]\tvalidation_0-mae:28.1308\tvalidation_1-mae:2020.07\n",
      "[99]\tvalidation_0-mae:27.7766\tvalidation_1-mae:2020\n"
     ]
    },
    {
     "data": {
      "text/plain": [
       "XGBRegressor(base_score=0.5, booster='gbtree', colsample_bylevel=1,\n",
       "             colsample_bynode=1, colsample_bytree=1, gamma=0,\n",
       "             importance_type='gain', learning_rate=0.1, max_delta_step=0,\n",
       "             max_depth=35, min_child_weight=1, missing=None, n_estimators=100,\n",
       "             n_jobs=-3, nthread=None, objective='reg:linear', random_state=0,\n",
       "             reg_alpha=0, reg_lambda=1, scale_pos_weight=1, seed=None,\n",
       "             silent=None, subsample=1, verbosity=1)"
      ]
     },
     "execution_count": 30,
     "metadata": {},
     "output_type": "execute_result"
    }
   ],
   "source": [
    "# Early stopping, TUNED\n",
    "%time\n",
    "encoder = ce.OrdinalEncoder()\n",
    "X_train_encoded = encoder.fit_transform(X_train)\n",
    "X_val_encoded = encoder.transform(X_val)\n",
    "model = XGBRegressor(\n",
    "    n_estimators= 100, # up to 100, depends on early stop\n",
    "    max_depth = 35,\n",
    "    learning_rate= 0.10, # Lower rate helps with overfitting.\n",
    "    n_jobs=-3\n",
    ")\n",
    "\n",
    "eval_set = [(X_train_encoded, y_train), (X_val_encoded, y_val)]\n",
    "\n",
    "model.fit(X_train_encoded,y_train,\n",
    "          eval_set = eval_set, # This is what is being scored (why we have two col)\n",
    "          eval_metric = 'mae',\n",
    "          early_stopping_rounds = 2) #stop if score not improved in n rounds\n",
    "    "
   ]
  },
  {
   "cell_type": "code",
   "execution_count": 31,
   "metadata": {
    "colab": {},
    "colab_type": "code",
    "id": "odxGIoWBgfQY",
    "outputId": "620518c7-73b0-480b-cd29-b49303788933"
   },
   "outputs": [
    {
     "data": {
      "text/plain": [
       "Text(0.5, 1.0, 'XGBoost MAE by Round')"
      ]
     },
     "execution_count": 31,
     "metadata": {},
     "output_type": "execute_result"
    },
    {
     "data": {
      "image/png": "[encoded data removed]",
      "text/plain": [
       "<Figure size 432x288 with 1 Axes>"
      ]
     },
     "metadata": {
      "needs_background": "light"
     },
     "output_type": "display_data"
    }
   ],
   "source": [
    "# Let's plot XGBoost's journey\n",
    "\n",
    "results = model.evals_result_\n",
    "training_err = results['validation_0']['mae']\n",
    "validation_err = results['validation_1']['mae']\n",
    "epoch = list(range(0,len(training_err)))\n",
    "\n",
    "plt.plot(epoch,training_err, label = 'Training Error')\n",
    "plt.plot(epoch,validation_err, label = 'Validation Error')\n",
    "plt.legend()\n",
    "plt.xlabel('Epoch')\n",
    "plt.ylabel('Mean Average Error')\n",
    "plt.title('XGBoost MAE by Round')"
   ]
  },
  {
   "cell_type": "code",
   "execution_count": null,
   "metadata": {
    "colab": {},
    "colab_type": "code",
    "id": "PUDvFlMEgfQa",
    "outputId": "62db5658-ec9d-4bc9-d2ea-d387d7f592d2"
   },
   "outputs": [
    {
     "name": "stdout",
     "output_type": "stream",
     "text": [
      "Wall time: 0 ns\n",
      "[14:15:46] WARNING: src/objective/regression_obj.cu:152: reg:linear is now deprecated in favor of reg:squarederror.\n"
     ]
    }
   ],
   "source": [
    "# Can we just take the output model and use that??\n",
    "%time\n",
    "encoder = ce.OrdinalEncoder()\n",
    "X_train_encoded = encoder.fit_transform(X_train)\n",
    "X_val_encoded = encoder.transform(X_val)\n",
    "\n",
    "model = XGBRegressor(base_score=0.5, booster='gbtree', colsample_bylevel=1,\n",
    "             colsample_bynode=1, colsample_bytree=1, gamma=0,\n",
    "             importance_type='gain', learning_rate=0.1, max_delta_step=0,\n",
    "             max_depth=35, min_child_weight=1, missing=None, n_estimators=350,\n",
    "             n_jobs=-3, nthread=None, objective='reg:linear', random_state=0,\n",
    "             reg_alpha=0, reg_lambda=1, scale_pos_weight=1, seed=None,\n",
    "             silent=None, subsample=1, verbosity=1)\n",
    "model.fit(X_train_encoded, y_train)"
   ]
  },
  {
   "cell_type": "code",
   "execution_count": null,
   "metadata": {
    "colab": {},
    "colab_type": "code",
    "id": "u4yXFT1ZgfQd",
    "outputId": "d16103d9-6b51-4e22-e197-05271286fa0d"
   },
   "outputs": [],
   "source": [
    "# XGBoost R^2\n",
    "y_pred = model.predict(X_val_encoded)\n",
    "print('R^2:', r2_score(y_val, y_pred))\n",
    "\n",
    "# BEAT BASELINE, slightly better than RF R^2= 0.8407 (scores vary with iteration)"
   ]
  },
  {
   "cell_type": "code",
   "execution_count": null,
   "metadata": {
    "colab": {},
    "colab_type": "code",
    "id": "KS-rbTDJgfQf",
    "outputId": "fb157569-3c75-44ee-8450-b97556304535"
   },
   "outputs": [],
   "source": [
    "# Clean up for permutation importances/ pdp\n",
    "\n",
    "imputer = SimpleImputer(strategy='median')\n",
    "X_val_imputed = imputer.fit_transform(X_val_encoded)\n",
    "#df_val_imputed = pd.DataFrame(data= val_imputed, columns=val.columns)\n",
    "# X_val_imputed = df_val_imputed[features]\n",
    "\n",
    "\n",
    "xgb = model.fit(X_val_imputed, y_val)"
   ]
  },
  {
   "cell_type": "code",
   "execution_count": null,
   "metadata": {
    "colab": {},
    "colab_type": "code",
    "id": "ENQ5e8BUgfQh",
    "outputId": "cf896a62-c238-4fc0-b2d8-b02daa7337e0"
   },
   "outputs": [],
   "source": [
    "# Permutation importances\n",
    "permuter = PermutationImportance(\n",
    "    model,\n",
    "    scoring= 'r2',\n",
    "    n_iter = 5,\n",
    "    random_state=42\n",
    "\n",
    ")\n",
    "\n",
    "permuter.fit(X_val_imputed, y_val)"
   ]
  },
  {
   "cell_type": "code",
   "execution_count": null,
   "metadata": {
    "colab": {},
    "colab_type": "code",
    "id": "yJshVuOZgfQj",
    "outputId": "543c9d90-bce8-4f4a-bca4-ac1c4e8fd340",
    "scrolled": true
   },
   "outputs": [],
   "source": [
    "feature_names = X_val.columns.tolist()\n",
    "pd.Series(permuter.feature_importances_, feature_names).sort_values(ascending=False)\n",
    "\n",
    "# Here I can consider cutting down columns, would it make a better app?\n",
    "# predictively I'm ok, not great, so should I prioritize user experience"
   ]
  },
  {
   "cell_type": "code",
   "execution_count": null,
   "metadata": {
    "colab": {},
    "colab_type": "code",
    "id": "qzbuPJ-JgfQl",
    "outputId": "9174316c-fe9b-407b-f360-fb188b38f2b3"
   },
   "outputs": [],
   "source": [
    "eli5.show_weights(\n",
    "    permuter,\n",
    "    top=11, # number of features to show, no limit\n",
    "    feature_names= feature_names, # must be a list\n",
    ")"
   ]
  },
  {
   "cell_type": "code",
   "execution_count": null,
   "metadata": {
    "colab": {},
    "colab_type": "code",
    "id": "R8CLGAPfgfQq",
    "outputId": "a71e8161-adcf-4f71-a60b-0aa148b0156b"
   },
   "outputs": [],
   "source": [
    "# x Make at least 1 partial dependence plot to explain your model.\n",
    "\n",
    "val_imp_df = pd.DataFrame(X_val_imputed, columns = X_val.columns)\n",
    "feature = 'year'\n",
    "\n",
    "isolated = pdp_isolate(\n",
    "    model = pipeline,\n",
    "    dataset= val_imp_df,\n",
    "    model_features= X_val.columns,\n",
    "    feature = feature\n",
    ")\n",
    "pdp_plot(isolated, feature_name= feature)\n",
    "\n",
    "# neat. You can kinda see what cars people put up for sale have value."
   ]
  },
  {
   "cell_type": "code",
   "execution_count": null,
   "metadata": {
    "colab": {},
    "colab_type": "code",
    "id": "FAGtdcqDgfQs",
    "outputId": "ec21a9ff-04de-48dd-9915-ad3d86378135"
   },
   "outputs": [],
   "source": [
    "# let's look at that old year\n",
    "val.sort_values(by='year').head(4)"
   ]
  },
  {
   "cell_type": "code",
   "execution_count": null,
   "metadata": {
    "colab": {},
    "colab_type": "code",
    "id": "Rntu4hWAgfQv",
    "outputId": "38be43d8-fb34-4af1-a807-b0961bc61396"
   },
   "outputs": [],
   "source": [
    "# STRETCH\n",
    "#  Make multiple PDPs with 2 features in interaction.\n",
    "\n",
    "feature= ['year', 'odometer']\n",
    "\n",
    "interaction = pdp_interact(\n",
    "    model = pipeline,\n",
    "    dataset = val_imp_df,\n",
    "    model_features= X_val.columns,\n",
    "    features= feature\n",
    ")\n",
    "pdp_interact_plot(interaction, plot_type='grid', feature_names=feature)\n",
    "# Kinda meaningless without the drive dictionary"
   ]
  },
  {
   "cell_type": "code",
   "execution_count": null,
   "metadata": {
    "colab": {},
    "colab_type": "code",
    "id": "eu7odbFIgfQ0",
    "outputId": "50dc1476-48d1-4fe0-a04c-3cfc2a4d56fb"
   },
   "outputs": [],
   "source": [
    "#  Make at least 1 Shapley force plot to explain an individual prediction.\n",
    "\n",
    "row = X_val_encoded.iloc[5]\n",
    "y_val.iloc[[5]], model.predict(row)"
   ]
  },
  {
   "cell_type": "code",
   "execution_count": null,
   "metadata": {
    "colab": {},
    "colab_type": "code",
    "id": "MB3HFYFvgfQ1",
    "outputId": "55b27385-d525-4f28-88fa-516f8d18b5bf"
   },
   "outputs": [],
   "source": [
    "explainer = shap.TreeExplainer(model)\n",
    "shap_values = explainer.shap_values(row)\n",
    "\n",
    "shap.initjs()\n",
    "shap.force_plot(\n",
    "    base_value= explainer.expected_value,\n",
    "    shap_values = shap_values,\n",
    "    features= row\n",
    "\n",
    ")\n"
   ]
  },
  {
   "cell_type": "code",
   "execution_count": null,
   "metadata": {
    "colab": {},
    "colab_type": "code",
    "id": "gBIdEZ-7gfQ3"
   },
   "outputs": [],
   "source": [
    "## Final model for app usage\n",
    "\n",
    "target = 'price'\n",
    "features1 = ['year', 'manufacturer', 'cylinders','fuel', 'odometer', 'drive']\n",
    "X_train1 = train[features1]\n",
    "y_train = train[target]\n",
    "X_val1 = val[features1]\n",
    "y_val = val[target]\n",
    "X_test1 = test[features1]\n",
    "y_test = test[target]"
   ]
  },
  {
   "cell_type": "code",
   "execution_count": null,
   "metadata": {
    "colab": {},
    "colab_type": "code",
    "id": "gjf7gswogfQ5"
   },
   "outputs": [],
   "source": [
    "# pipeline1 = make_pipeline(\n",
    "#     ce.TargetEncoder(),\n",
    "#     SimpleImputer(strategy='median'),\n",
    "#     RandomForestRegressor(bootstrap=True, ccp_alpha=0.0,\n",
    "#                                        criterion='mae', max_depth=18,\n",
    "#                                        max_features='auto', max_leaf_nodes=None,\n",
    "#                                        max_samples=None,\n",
    "#                                        min_impurity_decrease=0.0,\n",
    "#                                        min_impurity_split=None,\n",
    "#                                        min_samples_leaf=1, min_samples_split=2,\n",
    "#                                        min_weight_fraction_leaf=0.0,\n",
    "#                                        n_estimators=35, n_jobs=None,\n",
    "#                                        oob_score=False, random_state=42,\n",
    "#                                        verbose=0, warm_start=False)\n",
    "# )\n",
    "# pipeline1.fit(X_train1, y_train)\n",
    "\n",
    "# y_pred = pipeline1.predict(X_val1)\n",
    "# print('MAE:', mean_absolute_error(y_val, y_pred))\n",
    "# print('R^2:', r2_score(y_val, y_pred))\n",
    "\n"
   ]
  },
  {
   "cell_type": "code",
   "execution_count": null,
   "metadata": {
    "colab": {},
    "colab_type": "code",
    "id": "WHUQ4TDZgfQ7"
   },
   "outputs": [],
   "source": [
    "# pickle the chosen model\n",
    "# dump(pipeline1, 'pipeline_drive.joblib', compress=True)"
   ]
  },
  {
   "cell_type": "code",
   "execution_count": null,
   "metadata": {
    "colab": {},
    "colab_type": "code",
    "id": "7jVSpOtEgfQ9"
   },
   "outputs": [],
   "source": []
  }
 ],
 "metadata": {
  "colab": {
   "name": "Used_cars_Build.ipynb",
   "provenance": []
  },
  "kernelspec": {
   "display_name": "Python 3",
   "language": "python",
   "name": "python3"
  },
  "language_info": {
   "codemirror_mode": {
    "name": "ipython",
    "version": 3
   },
   "file_extension": ".py",
   "mimetype": "text/x-python",
   "name": "python",
   "nbconvert_exporter": "python",
   "pygments_lexer": "ipython3",
   "version": "3.7.6"
  }
 },
 "nbformat": 4,
 "nbformat_minor": 1
}
