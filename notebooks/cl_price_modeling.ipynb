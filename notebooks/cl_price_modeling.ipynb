{
  "nbformat": 4,
  "nbformat_minor": 0,
  "metadata": {
    "colab": {
      "name": "cl_price_modeling.ipynb",
      "provenance": [],
      "collapsed_sections": [],
      "include_colab_link": true
    },
    "kernelspec": {
      "name": "python3",
      "display_name": "Python 3"
    }
  },
  "cells": [
    {
      "cell_type": "markdown",
      "metadata": {
        "id": "view-in-github",
        "colab_type": "text"
      },
      "source": [
        "<a href=\"https://colab.research.google.com/github/JonNData/used-car-predictor/blob/master/notebooks/cl_price_modeling.ipynb\" target=\"_parent\"><img src=\"https://colab.research.google.com/assets/colab-badge.svg\" alt=\"Open In Colab\"/></a>"
      ]
    },
    {
      "cell_type": "code",
      "metadata": {
        "id": "0FPd6zPTz8co",
        "colab_type": "code",
        "colab": {}
      },
      "source": [
        "import pandas as pd\n",
        "import numpy as np\n",
        "!pip install -U -q PyDrive\n",
        " \n",
        "from pydrive.auth import GoogleAuth\n",
        "from pydrive.drive import GoogleDrive\n",
        "from google.colab import auth\n",
        "from oauth2client.client import GoogleCredentials\n",
        " "
      ],
      "execution_count": 0,
      "outputs": []
    },
    {
      "cell_type": "code",
      "metadata": {
        "id": "tR9qVzogn6xf",
        "colab_type": "code",
        "colab": {
          "base_uri": "https://localhost:8080/",
          "height": 272
        },
        "outputId": "2e9ace40-8e93-4d29-80e0-4d8e89187905"
      },
      "source": [
        "pip install category_encoders"
      ],
      "execution_count": 25,
      "outputs": [
        {
          "output_type": "stream",
          "text": [
            "Collecting category_encoders\n",
            "\u001b[?25l  Downloading https://files.pythonhosted.org/packages/44/57/fcef41c248701ee62e8325026b90c432adea35555cbc870aff9cfba23727/category_encoders-2.2.2-py2.py3-none-any.whl (80kB)\n",
            "\r\u001b[K     |████                            | 10kB 16.9MB/s eta 0:00:01\r\u001b[K     |████████▏                       | 20kB 1.7MB/s eta 0:00:01\r\u001b[K     |████████████▏                   | 30kB 2.0MB/s eta 0:00:01\r\u001b[K     |████████████████▎               | 40kB 2.3MB/s eta 0:00:01\r\u001b[K     |████████████████████▎           | 51kB 1.9MB/s eta 0:00:01\r\u001b[K     |████████████████████████▍       | 61kB 2.2MB/s eta 0:00:01\r\u001b[K     |████████████████████████████▍   | 71kB 2.4MB/s eta 0:00:01\r\u001b[K     |████████████████████████████████| 81kB 2.1MB/s \n",
            "\u001b[?25hRequirement already satisfied: numpy>=1.14.0 in /usr/local/lib/python3.6/dist-packages (from category_encoders) (1.18.4)\n",
            "Requirement already satisfied: pandas>=0.21.1 in /usr/local/lib/python3.6/dist-packages (from category_encoders) (1.0.3)\n",
            "Requirement already satisfied: statsmodels>=0.9.0 in /usr/local/lib/python3.6/dist-packages (from category_encoders) (0.10.2)\n",
            "Requirement already satisfied: patsy>=0.5.1 in /usr/local/lib/python3.6/dist-packages (from category_encoders) (0.5.1)\n",
            "Requirement already satisfied: scikit-learn>=0.20.0 in /usr/local/lib/python3.6/dist-packages (from category_encoders) (0.22.2.post1)\n",
            "Requirement already satisfied: scipy>=1.0.0 in /usr/local/lib/python3.6/dist-packages (from category_encoders) (1.4.1)\n",
            "Requirement already satisfied: python-dateutil>=2.6.1 in /usr/local/lib/python3.6/dist-packages (from pandas>=0.21.1->category_encoders) (2.8.1)\n",
            "Requirement already satisfied: pytz>=2017.2 in /usr/local/lib/python3.6/dist-packages (from pandas>=0.21.1->category_encoders) (2018.9)\n",
            "Requirement already satisfied: six in /usr/local/lib/python3.6/dist-packages (from patsy>=0.5.1->category_encoders) (1.12.0)\n",
            "Requirement already satisfied: joblib>=0.11 in /usr/local/lib/python3.6/dist-packages (from scikit-learn>=0.20.0->category_encoders) (0.15.1)\n",
            "Installing collected packages: category-encoders\n",
            "Successfully installed category-encoders-2.2.2\n"
          ],
          "name": "stdout"
        }
      ]
    },
    {
      "cell_type": "code",
      "metadata": {
        "id": "b3jS7sNLnEmP",
        "colab_type": "code",
        "colab": {}
      },
      "source": [
        "from sklearn.model_selection import train_test_split\n",
        "from sklearn.metrics import mean_absolute_error\n",
        "\n",
        "from category_encoders.target_encoder import TargetEncoder\n",
        "from sklearn.preprocessing import RobustScaler\n",
        "\n",
        "from sklearn.linear_model import RidgeCV\n",
        "\n",
        "from sklearn.ensemble import RandomForestRegressor"
      ],
      "execution_count": 0,
      "outputs": []
    },
    {
      "cell_type": "code",
      "metadata": {
        "id": "rkzyX87hWF30",
        "colab_type": "code",
        "colab": {}
      },
      "source": [
        "# 1. Authenticate and create the PyDrive client.\n",
        "auth.authenticate_user()\n",
        "gauth = GoogleAuth()\n",
        "gauth.credentials = GoogleCredentials.get_application_default()\n",
        "drive = GoogleDrive(gauth)\n",
        "\n",
        "# Go to link, sign in, and paste in result"
      ],
      "execution_count": 0,
      "outputs": []
    },
    {
      "cell_type": "code",
      "metadata": {
        "id": "EaLV8zfKWIeo",
        "colab_type": "code",
        "outputId": "348491d8-b02b-43f0-fe17-6cd11b37fe25",
        "colab": {
          "base_uri": "https://localhost:8080/",
          "height": 119
        }
      },
      "source": [
        "file_list = drive.ListFile({'q': \"'1kE03N5LwmWDDsDescCPmlQxGsY7ZKEnT' in parents and trashed=false\"}).GetList()\n",
        "for file1 in file_list:\n",
        "  print('title: %s, id: %s' % (file1['title'], file1['id']))"
      ],
      "execution_count": 3,
      "outputs": [
        {
          "output_type": "stream",
          "text": [
            "title: craigslist_df_cleaned, id: 1NT6IPKm1EwNeH5PBVt8HqRMtO_oJemnC\n",
            "title: Weekly_U.S._All_Grades_All_Formulations_Retail_Gasoline_Prices, id: 1cmGfdjaAd7RXYa_9S8RcraEDBA1fJKoKzB17KcaEo7Y\n",
            "title: Weekly_U.S._All_Grades_All_Formulations_Retail_Gasoline_Prices.csv, id: 1pBHxMMMbUXZfFhNj5c2KqFq_dm4EkYOK\n",
            "title: vehicles.csv, id: 12aa_5F_dECaFGjQR5KYZwToAqhHouUNi\n",
            "title: carfullspecs.csv, id: 1Y9oQ0huvw3LYnbafa-AM7Ig5cOK95DkD\n",
            "title: vehicles_cl.csv, id: 1BKZfd5WBLkryOSWI6t4g50bloTD8P6f3\n"
          ],
          "name": "stdout"
        }
      ]
    },
    {
      "cell_type": "code",
      "metadata": {
        "id": "soEgaVRYWQXj",
        "colab_type": "code",
        "colab": {}
      },
      "source": [
        "downloaded = drive.CreateFile({'id':\"1NT6IPKm1EwNeH5PBVt8HqRMtO_oJemnC\"})  \n",
        "downloaded.GetContentFile('craigslist_df_cleaned.csv')       "
      ],
      "execution_count": 0,
      "outputs": []
    },
    {
      "cell_type": "code",
      "metadata": {
        "id": "vzEB9eGkWWld",
        "colab_type": "code",
        "outputId": "342d6f0f-d16e-4217-ba83-696cd0a1b868",
        "colab": {
          "base_uri": "https://localhost:8080/",
          "height": 419
        }
      },
      "source": [
        "df_orig = pd.read_csv('craigslist_df_cleaned.csv')\n",
        "df_orig"
      ],
      "execution_count": 5,
      "outputs": [
        {
          "output_type": "execute_result",
          "data": {
            "text/html": [
              "<div>\n",
              "<style scoped>\n",
              "    .dataframe tbody tr th:only-of-type {\n",
              "        vertical-align: middle;\n",
              "    }\n",
              "\n",
              "    .dataframe tbody tr th {\n",
              "        vertical-align: top;\n",
              "    }\n",
              "\n",
              "    .dataframe thead th {\n",
              "        text-align: right;\n",
              "    }\n",
              "</style>\n",
              "<table border=\"1\" class=\"dataframe\">\n",
              "  <thead>\n",
              "    <tr style=\"text-align: right;\">\n",
              "      <th></th>\n",
              "      <th>Unnamed: 0</th>\n",
              "      <th>price</th>\n",
              "      <th>year</th>\n",
              "      <th>manufacturer</th>\n",
              "      <th>model</th>\n",
              "      <th>condition</th>\n",
              "      <th>fuel</th>\n",
              "      <th>odometer</th>\n",
              "      <th>state</th>\n",
              "    </tr>\n",
              "  </thead>\n",
              "  <tbody>\n",
              "    <tr>\n",
              "      <th>0</th>\n",
              "      <td>0</td>\n",
              "      <td>10299.0</td>\n",
              "      <td>2012.0</td>\n",
              "      <td>acura</td>\n",
              "      <td>tl</td>\n",
              "      <td>NaN</td>\n",
              "      <td>gas</td>\n",
              "      <td>90186.0</td>\n",
              "      <td>nc</td>\n",
              "    </tr>\n",
              "    <tr>\n",
              "      <th>1</th>\n",
              "      <td>2</td>\n",
              "      <td>9500.0</td>\n",
              "      <td>2011.0</td>\n",
              "      <td>jaguar</td>\n",
              "      <td>xf</td>\n",
              "      <td>excellent</td>\n",
              "      <td>gas</td>\n",
              "      <td>85000.0</td>\n",
              "      <td>nc</td>\n",
              "    </tr>\n",
              "    <tr>\n",
              "      <th>2</th>\n",
              "      <td>3</td>\n",
              "      <td>3995.0</td>\n",
              "      <td>2004.0</td>\n",
              "      <td>honda</td>\n",
              "      <td>element</td>\n",
              "      <td>NaN</td>\n",
              "      <td>gas</td>\n",
              "      <td>212526.0</td>\n",
              "      <td>nc</td>\n",
              "    </tr>\n",
              "    <tr>\n",
              "      <th>3</th>\n",
              "      <td>4</td>\n",
              "      <td>41988.0</td>\n",
              "      <td>2016.0</td>\n",
              "      <td>chevrolet</td>\n",
              "      <td>silverado k2500hd</td>\n",
              "      <td>NaN</td>\n",
              "      <td>gas</td>\n",
              "      <td>NaN</td>\n",
              "      <td>ne</td>\n",
              "    </tr>\n",
              "    <tr>\n",
              "      <th>4</th>\n",
              "      <td>5</td>\n",
              "      <td>12995.0</td>\n",
              "      <td>2015.0</td>\n",
              "      <td>kia</td>\n",
              "      <td>sportage</td>\n",
              "      <td>NaN</td>\n",
              "      <td>gas</td>\n",
              "      <td>85127.0</td>\n",
              "      <td>nc</td>\n",
              "    </tr>\n",
              "    <tr>\n",
              "      <th>...</th>\n",
              "      <td>...</td>\n",
              "      <td>...</td>\n",
              "      <td>...</td>\n",
              "      <td>...</td>\n",
              "      <td>...</td>\n",
              "      <td>...</td>\n",
              "      <td>...</td>\n",
              "      <td>...</td>\n",
              "      <td>...</td>\n",
              "    </tr>\n",
              "    <tr>\n",
              "      <th>458626</th>\n",
              "      <td>539753</td>\n",
              "      <td>12955.0</td>\n",
              "      <td>2015.0</td>\n",
              "      <td>mazda</td>\n",
              "      <td>cx-5</td>\n",
              "      <td>NaN</td>\n",
              "      <td>gas</td>\n",
              "      <td>74508.0</td>\n",
              "      <td>nc</td>\n",
              "    </tr>\n",
              "    <tr>\n",
              "      <th>458627</th>\n",
              "      <td>539755</td>\n",
              "      <td>13995.0</td>\n",
              "      <td>2016.0</td>\n",
              "      <td>nissan</td>\n",
              "      <td>frontier</td>\n",
              "      <td>NaN</td>\n",
              "      <td>gas</td>\n",
              "      <td>97545.0</td>\n",
              "      <td>nc</td>\n",
              "    </tr>\n",
              "    <tr>\n",
              "      <th>458628</th>\n",
              "      <td>539756</td>\n",
              "      <td>10995.0</td>\n",
              "      <td>2010.0</td>\n",
              "      <td>bmw</td>\n",
              "      <td>335i</td>\n",
              "      <td>NaN</td>\n",
              "      <td>gas</td>\n",
              "      <td>80328.0</td>\n",
              "      <td>nc</td>\n",
              "    </tr>\n",
              "    <tr>\n",
              "      <th>458629</th>\n",
              "      <td>539757</td>\n",
              "      <td>6495.0</td>\n",
              "      <td>2015.0</td>\n",
              "      <td>dodge</td>\n",
              "      <td>dart</td>\n",
              "      <td>NaN</td>\n",
              "      <td>other</td>\n",
              "      <td>83521.0</td>\n",
              "      <td>nc</td>\n",
              "    </tr>\n",
              "    <tr>\n",
              "      <th>458630</th>\n",
              "      <td>539758</td>\n",
              "      <td>8990.0</td>\n",
              "      <td>2008.0</td>\n",
              "      <td>gmc</td>\n",
              "      <td>acadia</td>\n",
              "      <td>NaN</td>\n",
              "      <td>gas</td>\n",
              "      <td>168000.0</td>\n",
              "      <td>mn</td>\n",
              "    </tr>\n",
              "  </tbody>\n",
              "</table>\n",
              "<p>458631 rows × 9 columns</p>\n",
              "</div>"
            ],
            "text/plain": [
              "        Unnamed: 0    price    year  ...   fuel  odometer state\n",
              "0                0  10299.0  2012.0  ...    gas   90186.0    nc\n",
              "1                2   9500.0  2011.0  ...    gas   85000.0    nc\n",
              "2                3   3995.0  2004.0  ...    gas  212526.0    nc\n",
              "3                4  41988.0  2016.0  ...    gas       NaN    ne\n",
              "4                5  12995.0  2015.0  ...    gas   85127.0    nc\n",
              "...            ...      ...     ...  ...    ...       ...   ...\n",
              "458626      539753  12955.0  2015.0  ...    gas   74508.0    nc\n",
              "458627      539755  13995.0  2016.0  ...    gas   97545.0    nc\n",
              "458628      539756  10995.0  2010.0  ...    gas   80328.0    nc\n",
              "458629      539757   6495.0  2015.0  ...  other   83521.0    nc\n",
              "458630      539758   8990.0  2008.0  ...    gas  168000.0    mn\n",
              "\n",
              "[458631 rows x 9 columns]"
            ]
          },
          "metadata": {
            "tags": []
          },
          "execution_count": 5
        }
      ]
    },
    {
      "cell_type": "code",
      "metadata": {
        "id": "CYjTshSac6GI",
        "colab_type": "code",
        "colab": {}
      },
      "source": [
        "df = df_orig.copy()\n",
        "df.rename(columns={'Unnamed: 0': 'original_index'}, inplace=True)"
      ],
      "execution_count": 0,
      "outputs": []
    },
    {
      "cell_type": "code",
      "metadata": {
        "id": "wG3F_N1ndHBL",
        "colab_type": "code",
        "colab": {
          "base_uri": "https://localhost:8080/",
          "height": 297
        },
        "outputId": "90c0c2a9-d3dc-4d5a-b368-beaebd2fc77e"
      },
      "source": [
        "df.describe()"
      ],
      "execution_count": 16,
      "outputs": [
        {
          "output_type": "execute_result",
          "data": {
            "text/html": [
              "<div>\n",
              "<style scoped>\n",
              "    .dataframe tbody tr th:only-of-type {\n",
              "        vertical-align: middle;\n",
              "    }\n",
              "\n",
              "    .dataframe tbody tr th {\n",
              "        vertical-align: top;\n",
              "    }\n",
              "\n",
              "    .dataframe thead th {\n",
              "        text-align: right;\n",
              "    }\n",
              "</style>\n",
              "<table border=\"1\" class=\"dataframe\">\n",
              "  <thead>\n",
              "    <tr style=\"text-align: right;\">\n",
              "      <th></th>\n",
              "      <th>original_index</th>\n",
              "      <th>price</th>\n",
              "      <th>year</th>\n",
              "      <th>odometer</th>\n",
              "    </tr>\n",
              "  </thead>\n",
              "  <tbody>\n",
              "    <tr>\n",
              "      <th>count</th>\n",
              "      <td>458631.000000</td>\n",
              "      <td>458631.000000</td>\n",
              "      <td>458631.000000</td>\n",
              "      <td>3.815300e+05</td>\n",
              "    </tr>\n",
              "    <tr>\n",
              "      <th>mean</th>\n",
              "      <td>269437.912121</td>\n",
              "      <td>13282.017940</td>\n",
              "      <td>2009.863936</td>\n",
              "      <td>1.026567e+05</td>\n",
              "    </tr>\n",
              "    <tr>\n",
              "      <th>std</th>\n",
              "      <td>155904.234715</td>\n",
              "      <td>9814.956853</td>\n",
              "      <td>8.601419</td>\n",
              "      <td>1.815791e+05</td>\n",
              "    </tr>\n",
              "    <tr>\n",
              "      <th>min</th>\n",
              "      <td>0.000000</td>\n",
              "      <td>199.000000</td>\n",
              "      <td>0.000000</td>\n",
              "      <td>0.000000e+00</td>\n",
              "    </tr>\n",
              "    <tr>\n",
              "      <th>25%</th>\n",
              "      <td>134560.000000</td>\n",
              "      <td>5590.000000</td>\n",
              "      <td>2007.000000</td>\n",
              "      <td>5.010400e+04</td>\n",
              "    </tr>\n",
              "    <tr>\n",
              "      <th>50%</th>\n",
              "      <td>268329.000000</td>\n",
              "      <td>10900.000000</td>\n",
              "      <td>2011.000000</td>\n",
              "      <td>9.608600e+04</td>\n",
              "    </tr>\n",
              "    <tr>\n",
              "      <th>75%</th>\n",
              "      <td>404575.500000</td>\n",
              "      <td>18500.000000</td>\n",
              "      <td>2015.000000</td>\n",
              "      <td>1.400000e+05</td>\n",
              "    </tr>\n",
              "    <tr>\n",
              "      <th>max</th>\n",
              "      <td>539758.000000</td>\n",
              "      <td>52000.000000</td>\n",
              "      <td>2021.000000</td>\n",
              "      <td>6.480922e+07</td>\n",
              "    </tr>\n",
              "  </tbody>\n",
              "</table>\n",
              "</div>"
            ],
            "text/plain": [
              "       original_index          price           year      odometer\n",
              "count   458631.000000  458631.000000  458631.000000  3.815300e+05\n",
              "mean    269437.912121   13282.017940    2009.863936  1.026567e+05\n",
              "std     155904.234715    9814.956853       8.601419  1.815791e+05\n",
              "min          0.000000     199.000000       0.000000  0.000000e+00\n",
              "25%     134560.000000    5590.000000    2007.000000  5.010400e+04\n",
              "50%     268329.000000   10900.000000    2011.000000  9.608600e+04\n",
              "75%     404575.500000   18500.000000    2015.000000  1.400000e+05\n",
              "max     539758.000000   52000.000000    2021.000000  6.480922e+07"
            ]
          },
          "metadata": {
            "tags": []
          },
          "execution_count": 16
        }
      ]
    },
    {
      "cell_type": "code",
      "metadata": {
        "id": "9u29m6dx7d_c",
        "colab_type": "code",
        "colab": {
          "base_uri": "https://localhost:8080/",
          "height": 187
        },
        "outputId": "74c11b0f-6bc9-4dc4-ce56-94c0a9e0f4c6"
      },
      "source": [
        "df.dtypes"
      ],
      "execution_count": 45,
      "outputs": [
        {
          "output_type": "execute_result",
          "data": {
            "text/plain": [
              "original_index      int64\n",
              "price             float64\n",
              "year              float64\n",
              "manufacturer       object\n",
              "model              object\n",
              "condition          object\n",
              "fuel               object\n",
              "odometer          float64\n",
              "state              object\n",
              "dtype: object"
            ]
          },
          "metadata": {
            "tags": []
          },
          "execution_count": 45
        }
      ]
    },
    {
      "cell_type": "code",
      "metadata": {
        "id": "ibGhIS4iitGj",
        "colab_type": "code",
        "outputId": "4e911c81-532a-4dd6-d537-35aed564b1ef",
        "colab": {
          "base_uri": "https://localhost:8080/",
          "height": 187
        }
      },
      "source": [
        "df.isnull().sum()"
      ],
      "execution_count": 14,
      "outputs": [
        {
          "output_type": "execute_result",
          "data": {
            "text/plain": [
              "original_index         0\n",
              "price                  0\n",
              "year                   0\n",
              "manufacturer           0\n",
              "model                  0\n",
              "condition         188861\n",
              "fuel                2578\n",
              "odometer           77101\n",
              "state                  0\n",
              "dtype: int64"
            ]
          },
          "metadata": {
            "tags": []
          },
          "execution_count": 14
        }
      ]
    },
    {
      "cell_type": "markdown",
      "metadata": {
        "id": "4FDeIa2UppFg",
        "colab_type": "text"
      },
      "source": [
        "## Split and define features + target \n",
        "3 features"
      ]
    },
    {
      "cell_type": "code",
      "metadata": {
        "id": "6qSxpTBPpsqn",
        "colab_type": "code",
        "colab": {}
      },
      "source": [
        "train, test = train_test_split(df, test_size=0.15, random_state=11)\n",
        "\n",
        "X_features = ['model', 'manufacturer', 'year']\n",
        "target = 'price'\n",
        "\n",
        "X_train = train[X_features]\n",
        "y_train = train[target]\n",
        "\n",
        "X_test = test[X_features]\n",
        "y_test = test[target]"
      ],
      "execution_count": 0,
      "outputs": []
    },
    {
      "cell_type": "markdown",
      "metadata": {
        "id": "rNJp6_SjnUQn",
        "colab_type": "text"
      },
      "source": [
        "## Preprocessing"
      ]
    },
    {
      "cell_type": "code",
      "metadata": {
        "id": "pH0FyIXrmyso",
        "colab_type": "code",
        "colab": {}
      },
      "source": [
        "te = TargetEncoder()\n",
        "X_train_encoded = te.fit_transform(X_train, y_train)\n",
        "X_test_encoded = te.transform(X_test)\n",
        "\n",
        "rs = RobustScaler()\n",
        "X_train_scaled = rs.fit_transform(X_train_encoded)\n",
        "X_test_scaled = rs.transform(X_test_encoded)"
      ],
      "execution_count": 0,
      "outputs": []
    },
    {
      "cell_type": "markdown",
      "metadata": {
        "id": "SlN8f6R4tPce",
        "colab_type": "text"
      },
      "source": [
        "## Ridge Regression"
      ]
    },
    {
      "cell_type": "code",
      "metadata": {
        "id": "dmNtLtqFtOsh",
        "colab_type": "code",
        "colab": {
          "base_uri": "https://localhost:8080/",
          "height": 34
        },
        "outputId": "ef66a1d8-5343-4dbd-c233-bcef870aded8"
      },
      "source": [
        "rcv = RidgeCV()\n",
        "rcv.fit(X_train_scaled, y_train)\n",
        "rcv.score(X_train_scaled, y_train)"
      ],
      "execution_count": 39,
      "outputs": [
        {
          "output_type": "execute_result",
          "data": {
            "text/plain": [
              "0.5476627579471244"
            ]
          },
          "metadata": {
            "tags": []
          },
          "execution_count": 39
        }
      ]
    },
    {
      "cell_type": "code",
      "metadata": {
        "id": "tN0D_0_6uH-R",
        "colab_type": "code",
        "colab": {
          "base_uri": "https://localhost:8080/",
          "height": 34
        },
        "outputId": "c12bab02-ef87-4dec-f77b-5a8fbbcf8b4c"
      },
      "source": [
        "y_pred_ridge = rcv.predict(X_test_scaled)\n",
        "mean_absolute_error(y_test, y_pred_ridge)"
      ],
      "execution_count": 41,
      "outputs": [
        {
          "output_type": "execute_result",
          "data": {
            "text/plain": [
              "4687.762296107629"
            ]
          },
          "metadata": {
            "tags": []
          },
          "execution_count": 41
        }
      ]
    },
    {
      "cell_type": "markdown",
      "metadata": {
        "id": "jXqhrpQBuvZT",
        "colab_type": "text"
      },
      "source": [
        "## Random Forest"
      ]
    },
    {
      "cell_type": "code",
      "metadata": {
        "id": "JxmZ2seDu2Pn",
        "colab_type": "code",
        "colab": {}
      },
      "source": [
        "rf = RandomForestRegressor()\n",
        "rf.fit(X_train_scaled, y_train)\n",
        "y_pred_rf = rf.predict(X_test_scaled)\n",
        "\n",
        "mean_absolute_error(y_test, y_pred_rf)"
      ],
      "execution_count": 0,
      "outputs": []
    },
    {
      "cell_type": "code",
      "metadata": {
        "id": "zLoJLVKMvx4p",
        "colab_type": "code",
        "colab": {
          "base_uri": "https://localhost:8080/",
          "height": 34
        },
        "outputId": "9d76a681-b3cb-459c-cee1-11f8814d83e7"
      },
      "source": [
        "y_pred_rf = rf.predict(X_test_scaled)\n",
        "\n",
        "mean_absolute_error(y_test, y_pred_rf)"
      ],
      "execution_count": 44,
      "outputs": [
        {
          "output_type": "execute_result",
          "data": {
            "text/plain": [
              "2658.7233082867547"
            ]
          },
          "metadata": {
            "tags": []
          },
          "execution_count": 44
        }
      ]
    },
    {
      "cell_type": "code",
      "metadata": {
        "id": "lK3Nh91a61gK",
        "colab_type": "code",
        "colab": {}
      },
      "source": [
        ""
      ],
      "execution_count": 0,
      "outputs": []
    },
    {
      "cell_type": "markdown",
      "metadata": {
        "id": "NMEzE-X_w-xX",
        "colab_type": "text"
      },
      "source": [
        "## Fuzzy Wuzzy attemps"
      ]
    },
    {
      "cell_type": "code",
      "metadata": {
        "id": "UBm6OewWwI7X",
        "colab_type": "code",
        "outputId": "159a597c-37b3-41ee-bb78-72b3902de403",
        "colab": {
          "base_uri": "https://localhost:8080/",
          "height": 85
        }
      },
      "source": [
        "pip install fuzzywuzzy"
      ],
      "execution_count": 0,
      "outputs": [
        {
          "output_type": "stream",
          "text": [
            "Collecting fuzzywuzzy\n",
            "  Downloading https://files.pythonhosted.org/packages/43/ff/74f23998ad2f93b945c0309f825be92e04e0348e062026998b5eefef4c33/fuzzywuzzy-0.18.0-py2.py3-none-any.whl\n",
            "Installing collected packages: fuzzywuzzy\n",
            "Successfully installed fuzzywuzzy-0.18.0\n"
          ],
          "name": "stdout"
        }
      ]
    },
    {
      "cell_type": "code",
      "metadata": {
        "id": "Zb1YD564yerY",
        "colab_type": "code",
        "outputId": "53804483-cc27-45ee-e162-3d10a3a9cbaf",
        "colab": {
          "base_uri": "https://localhost:8080/",
          "height": 51
        }
      },
      "source": [
        "from fuzzywuzzy import fuzz, process"
      ],
      "execution_count": 0,
      "outputs": [
        {
          "output_type": "stream",
          "text": [
            "/usr/local/lib/python3.6/dist-packages/fuzzywuzzy/fuzz.py:11: UserWarning: Using slow pure-python SequenceMatcher. Install python-Levenshtein to remove this warning\n",
            "  warnings.warn('Using slow pure-python SequenceMatcher. Install python-Levenshtein to remove this warning')\n"
          ],
          "name": "stderr"
        }
      ]
    },
    {
      "cell_type": "code",
      "metadata": {
        "id": "feJB5HTL1Ri1",
        "colab_type": "code",
        "colab": {}
      },
      "source": [
        "# Start with epa, compare models where year and make is the same\n",
        "\n",
        "# for row in df_epa:\n",
        "#   if df_epa.year == df_cl.year:\n",
        "#     print(fuzz.ratio(df_epa['model'][row], df_cl['model'][row]))\n",
        "\n"
      ],
      "execution_count": 0,
      "outputs": []
    },
    {
      "cell_type": "code",
      "metadata": {
        "id": "StraKlHs35qw",
        "colab_type": "code",
        "colab": {}
      },
      "source": [
        "# Lets look at a simplified list\n",
        "\n",
        "epa_models = sorted(df_epa['model'].unique())\n",
        "cl_models = sorted(df_cl.model.unique())\n",
        "\n",
        "\n",
        "for model in epa_models:\n",
        "  for x  in range(len(cl_models)):\n",
        "    print(fuzz.ratio(model, cl_models[x]))"
      ],
      "execution_count": 0,
      "outputs": []
    },
    {
      "cell_type": "code",
      "metadata": {
        "id": "t5iFCXUnDXpC",
        "colab_type": "code",
        "outputId": "1a2aa24e-8972-4b94-8b9d-864c024b7676",
        "colab": {
          "base_uri": "https://localhost:8080/",
          "height": 34
        }
      },
      "source": [
        "df_epa['model'].nunique(), df['model'].nunique()"
      ],
      "execution_count": 0,
      "outputs": [
        {
          "output_type": "execute_result",
          "data": {
            "text/plain": [
              "(4186, 26904)"
            ]
          },
          "metadata": {
            "tags": []
          },
          "execution_count": 62
        }
      ]
    },
    {
      "cell_type": "code",
      "metadata": {
        "id": "qa9zerhnve4v",
        "colab_type": "code",
        "outputId": "1767d064-b56e-4092-e03b-ea8f14cea951",
        "colab": {
          "base_uri": "https://localhost:8080/",
          "height": 34
        }
      },
      "source": [
        "epa_models[2888]"
      ],
      "execution_count": 0,
      "outputs": [
        {
          "output_type": "execute_result",
          "data": {
            "text/plain": [
              "'q60 red sport awd'"
            ]
          },
          "metadata": {
            "tags": []
          },
          "execution_count": 113
        }
      ]
    },
    {
      "cell_type": "code",
      "metadata": {
        "id": "vZ0m0UVBuhm5",
        "colab_type": "code",
        "outputId": "c92ff1d6-01cf-4649-8e15-b95ad395b0af",
        "colab": {
          "base_uri": "https://localhost:8080/",
          "height": 34
        }
      },
      "source": [
        "grand_cherokee_ratios = []\n",
        "for model in cl_models:\n",
        "  grand_cherokee_ratios.append(fuzz.ratio(epa_models[2888], model))\n",
        "max(grand_cherokee_ratios)"
      ],
      "execution_count": 0,
      "outputs": [
        {
          "output_type": "execute_result",
          "data": {
            "text/plain": [
              "84"
            ]
          },
          "metadata": {
            "tags": []
          },
          "execution_count": 114
        }
      ]
    },
    {
      "cell_type": "code",
      "metadata": {
        "id": "R7hABMP-b8tZ",
        "colab_type": "code",
        "outputId": "4444a1d3-ccd9-43b6-8428-4b3739648858",
        "colab": {
          "base_uri": "https://localhost:8080/",
          "height": 34
        }
      },
      "source": [
        "grand_cherokee_ratios.index(84)"
      ],
      "execution_count": 0,
      "outputs": [
        {
          "output_type": "execute_result",
          "data": {
            "text/plain": [
              "18845"
            ]
          },
          "metadata": {
            "tags": []
          },
          "execution_count": 115
        }
      ]
    },
    {
      "cell_type": "code",
      "metadata": {
        "id": "pP28GkJvwkn_",
        "colab_type": "code",
        "outputId": "317eb1c2-d018-43d0-ef69-dbb91fa5e57b",
        "colab": {
          "base_uri": "https://localhost:8080/",
          "height": 34
        }
      },
      "source": [
        "cl_models[18845]"
      ],
      "execution_count": 0,
      "outputs": [
        {
          "output_type": "execute_result",
          "data": {
            "text/plain": [
              "'q50 red sport 400 awd'"
            ]
          },
          "metadata": {
            "tags": []
          },
          "execution_count": 116
        }
      ]
    },
    {
      "cell_type": "code",
      "metadata": {
        "id": "eUhjwTg03EWB",
        "colab_type": "code",
        "colab": {}
      },
      "source": [
        "# Input Make model Year get a prediction?\n",
        "sample_model = 'sivics'\n",
        "\n",
        "cl_models = sorted(df_cl.model.unique())\n",
        "\n",
        "def match_models(sample_model):\n",
        "  model_ratios = []\n",
        "  for model in cl_models:\n",
        "    model_ratios.append(fuzz.ratio(sample_model, model))\n",
        "  max_match = max(model_ratios)\n",
        "  index_of_match = model_ratios.index(max_match)\n",
        "  return cl_models[index_of_match]"
      ],
      "execution_count": 0,
      "outputs": []
    },
    {
      "cell_type": "code",
      "metadata": {
        "id": "0_DleqwI4Ymj",
        "colab_type": "code",
        "outputId": "23dba090-861e-4d3f-a71e-0b5a45fc73f7",
        "colab": {
          "base_uri": "https://localhost:8080/",
          "height": 34
        }
      },
      "source": [
        "match_models('Range Rover Evoque')"
      ],
      "execution_count": 0,
      "outputs": [
        {
          "output_type": "execute_result",
          "data": {
            "text/plain": [
              "'range evoque'"
            ]
          },
          "metadata": {
            "tags": []
          },
          "execution_count": 126
        }
      ]
    },
    {
      "cell_type": "code",
      "metadata": {
        "id": "fg8P19wnKqBF",
        "colab_type": "code",
        "colab": {}
      },
      "source": [
        "def match_models(sample_model):\n",
        "  model_ratios = []\n",
        "  for model in cl_models:\n",
        "    model_ratios.append(fuzz.ratio(sample_model, model))\n",
        "  max_match = max(model_ratios)\n",
        "  index_of_match = model_ratios.index(max_match)\n",
        "  return cl_models[index_of_match]"
      ],
      "execution_count": 0,
      "outputs": []
    }
  ]
}