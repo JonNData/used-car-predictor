{
  "nbformat": 4,
  "nbformat_minor": 0,
  "metadata": {
    "colab": {
      "name": "6-3_cl_price_modeling.ipynb",
      "provenance": [],
      "collapsed_sections": [],
      "include_colab_link": true
    },
    "kernelspec": {
      "name": "python3",
      "display_name": "Python 3"
    },
    "accelerator": "GPU"
  },
  "cells": [
    {
      "cell_type": "markdown",
      "metadata": {
        "id": "view-in-github",
        "colab_type": "text"
      },
      "source": [
        "<a href=\"https://colab.research.google.com/github/JonNData/used-car-predictor/blob/master/notebooks/6_3_cl_price_modeling.ipynb\" target=\"_parent\"><img src=\"https://colab.research.google.com/assets/colab-badge.svg\" alt=\"Open In Colab\"/></a>"
      ]
    },
    {
      "cell_type": "code",
      "metadata": {
        "id": "0FPd6zPTz8co",
        "colab_type": "code",
        "colab": {}
      },
      "source": [
        "import pandas as pd\n",
        "import numpy as np\n",
        "import requests"
      ],
      "execution_count": 0,
      "outputs": []
    },
    {
      "cell_type": "code",
      "metadata": {
        "id": "tR9qVzogn6xf",
        "colab_type": "code",
        "outputId": "155210af-c44c-4290-fd24-e8884a5dffbb",
        "colab": {
          "base_uri": "https://localhost:8080/",
          "height": 272
        }
      },
      "source": [
        "pip install category_encoders"
      ],
      "execution_count": 2,
      "outputs": [
        {
          "output_type": "stream",
          "text": [
            "Collecting category_encoders\n",
            "\u001b[?25l  Downloading https://files.pythonhosted.org/packages/44/57/fcef41c248701ee62e8325026b90c432adea35555cbc870aff9cfba23727/category_encoders-2.2.2-py2.py3-none-any.whl (80kB)\n",
            "\r\u001b[K     |████                            | 10kB 17.9MB/s eta 0:00:01\r\u001b[K     |████████▏                       | 20kB 4.2MB/s eta 0:00:01\r\u001b[K     |████████████▏                   | 30kB 5.5MB/s eta 0:00:01\r\u001b[K     |████████████████▎               | 40kB 5.6MB/s eta 0:00:01\r\u001b[K     |████████████████████▎           | 51kB 4.8MB/s eta 0:00:01\r\u001b[K     |████████████████████████▍       | 61kB 5.3MB/s eta 0:00:01\r\u001b[K     |████████████████████████████▍   | 71kB 5.7MB/s eta 0:00:01\r\u001b[K     |████████████████████████████████| 81kB 4.0MB/s \n",
            "\u001b[?25hRequirement already satisfied: pandas>=0.21.1 in /usr/local/lib/python3.6/dist-packages (from category_encoders) (1.0.4)\n",
            "Requirement already satisfied: numpy>=1.14.0 in /usr/local/lib/python3.6/dist-packages (from category_encoders) (1.18.4)\n",
            "Requirement already satisfied: patsy>=0.5.1 in /usr/local/lib/python3.6/dist-packages (from category_encoders) (0.5.1)\n",
            "Requirement already satisfied: scikit-learn>=0.20.0 in /usr/local/lib/python3.6/dist-packages (from category_encoders) (0.22.2.post1)\n",
            "Requirement already satisfied: statsmodels>=0.9.0 in /usr/local/lib/python3.6/dist-packages (from category_encoders) (0.10.2)\n",
            "Requirement already satisfied: scipy>=1.0.0 in /usr/local/lib/python3.6/dist-packages (from category_encoders) (1.4.1)\n",
            "Requirement already satisfied: pytz>=2017.2 in /usr/local/lib/python3.6/dist-packages (from pandas>=0.21.1->category_encoders) (2018.9)\n",
            "Requirement already satisfied: python-dateutil>=2.6.1 in /usr/local/lib/python3.6/dist-packages (from pandas>=0.21.1->category_encoders) (2.8.1)\n",
            "Requirement already satisfied: six in /usr/local/lib/python3.6/dist-packages (from patsy>=0.5.1->category_encoders) (1.12.0)\n",
            "Requirement already satisfied: joblib>=0.11 in /usr/local/lib/python3.6/dist-packages (from scikit-learn>=0.20.0->category_encoders) (0.15.1)\n",
            "Installing collected packages: category-encoders\n",
            "Successfully installed category-encoders-2.2.2\n"
          ],
          "name": "stdout"
        }
      ]
    },
    {
      "cell_type": "code",
      "metadata": {
        "id": "b3jS7sNLnEmP",
        "colab_type": "code",
        "outputId": "87867b63-612d-415f-bf8f-2776bd3d1a6d",
        "colab": {
          "base_uri": "https://localhost:8080/",
          "height": 51
        }
      },
      "source": [
        "from sklearn.model_selection import train_test_split\n",
        "from sklearn.metrics import mean_absolute_error\n",
        "\n",
        "from category_encoders.target_encoder import TargetEncoder\n",
        "from sklearn.preprocessing import RobustScaler\n",
        "# explicitly require this experimental feature\n",
        "from sklearn.experimental import enable_iterative_imputer  # noqa\n",
        "# now you can import normally from sklearn.impute\n",
        "from sklearn.impute import IterativeImputer\n",
        "from sklearn.linear_model import BayesianRidge\n",
        "\n",
        "from sklearn.linear_model import RidgeCV\n",
        "from sklearn.ensemble import RandomForestRegressor\n",
        "import xgboost as xgb\n",
        "\n",
        "from sklearn.model_selection import RandomizedSearchCV"
      ],
      "execution_count": 3,
      "outputs": [
        {
          "output_type": "stream",
          "text": [
            "/usr/local/lib/python3.6/dist-packages/statsmodels/tools/_testing.py:19: FutureWarning: pandas.util.testing is deprecated. Use the functions in the public API at pandas.testing instead.\n",
            "  import pandas.util.testing as tm\n"
          ],
          "name": "stderr"
        }
      ]
    },
    {
      "cell_type": "code",
      "metadata": {
        "id": "rkzyX87hWF30",
        "colab_type": "code",
        "colab": {}
      },
      "source": [
        "# !pip install -U -q PyDrive\n",
        " \n",
        "# from pydrive.auth import GoogleAuth\n",
        "# from pydrive.drive import GoogleDrive\n",
        "# from google.colab import auth\n",
        "# from oauth2client.client import GoogleCredentials\n",
        " \n",
        "# 1. Authenticate and create the PyDrive client.\n",
        "# auth.authenticate_user()\n",
        "# gauth = GoogleAuth()\n",
        "# gauth.credentials = GoogleCredentials.get_application_default()\n",
        "# drive = GoogleDrive(gauth)\n",
        "\n",
        "# Go to link, sign in, and paste in result"
      ],
      "execution_count": 0,
      "outputs": []
    },
    {
      "cell_type": "code",
      "metadata": {
        "id": "EaLV8zfKWIeo",
        "colab_type": "code",
        "colab": {}
      },
      "source": [
        "# file_list = drive.ListFile({'q': \"'1kE03N5LwmWDDsDescCPmlQxGsY7ZKEnT' in parents and trashed=false\"}).GetList()\n",
        "# for file1 in file_list:\n",
        "#   print('title: %s, id: %s' % (file1['title'], file1['id']))"
      ],
      "execution_count": 0,
      "outputs": []
    },
    {
      "cell_type": "code",
      "metadata": {
        "id": "QRbE5dF6--hY",
        "colab_type": "code",
        "colab": {}
      },
      "source": [
        "# downloaded = drive.CreateFile({'id':\"1q_L-LMSE29jp64wP32VvJ8brX23L88NM\"})  \n",
        "# downloaded.GetContentFile('craigslist_cleaned_df_img.csv')    "
      ],
      "execution_count": 0,
      "outputs": []
    },
    {
      "cell_type": "code",
      "metadata": {
        "id": "soEgaVRYWQXj",
        "colab_type": "code",
        "colab": {}
      },
      "source": [
        "# downloaded = drive.CreateFile({'id':\"1BKZfd5WBLkryOSWI6t4g50bloTD8P6f3\"})  \n",
        "# downloaded.GetContentFile('vehicles_cl.csv')       "
      ],
      "execution_count": 0,
      "outputs": []
    },
    {
      "cell_type": "code",
      "metadata": {
        "id": "OpE9gnNM5V4l",
        "colab_type": "code",
        "colab": {}
      },
      "source": [
        "# downloaded = drive.CreateFile({'id':\"12aa_5F_dECaFGjQR5KYZwToAqhHouUNi\"})  \n",
        "# downloaded.GetContentFile('vehicles.csv')       "
      ],
      "execution_count": 0,
      "outputs": []
    },
    {
      "cell_type": "code",
      "metadata": {
        "id": "vzEB9eGkWWld",
        "colab_type": "code",
        "outputId": "7f4d622f-9294-4fd5-f869-bd567979c202",
        "colab": {
          "base_uri": "https://localhost:8080/",
          "height": 419
        }
      },
      "source": [
        "df_orig = pd.read_csv('df_std_clean.csv')\n",
        "df_orig"
      ],
      "execution_count": 4,
      "outputs": [
        {
          "output_type": "execute_result",
          "data": {
            "text/html": [
              "<div>\n",
              "<style scoped>\n",
              "    .dataframe tbody tr th:only-of-type {\n",
              "        vertical-align: middle;\n",
              "    }\n",
              "\n",
              "    .dataframe tbody tr th {\n",
              "        vertical-align: top;\n",
              "    }\n",
              "\n",
              "    .dataframe thead th {\n",
              "        text-align: right;\n",
              "    }\n",
              "</style>\n",
              "<table border=\"1\" class=\"dataframe\">\n",
              "  <thead>\n",
              "    <tr style=\"text-align: right;\">\n",
              "      <th></th>\n",
              "      <th>Unnamed: 0</th>\n",
              "      <th>price</th>\n",
              "      <th>year</th>\n",
              "      <th>manufacturer</th>\n",
              "      <th>model</th>\n",
              "      <th>image_url</th>\n",
              "      <th>odometer</th>\n",
              "      <th>state</th>\n",
              "      <th>condition</th>\n",
              "    </tr>\n",
              "  </thead>\n",
              "  <tbody>\n",
              "    <tr>\n",
              "      <th>0</th>\n",
              "      <td>0</td>\n",
              "      <td>10299.0</td>\n",
              "      <td>2012.0</td>\n",
              "      <td>acura</td>\n",
              "      <td>tl</td>\n",
              "      <td>https://images.craigslist.org/01414_3LIXs9EO33...</td>\n",
              "      <td>90186.0</td>\n",
              "      <td>nc</td>\n",
              "      <td>NaN</td>\n",
              "    </tr>\n",
              "    <tr>\n",
              "      <th>1</th>\n",
              "      <td>2</td>\n",
              "      <td>9500.0</td>\n",
              "      <td>2011.0</td>\n",
              "      <td>jaguar</td>\n",
              "      <td>xf</td>\n",
              "      <td>https://images.craigslist.org/00505_f22HGItCRp...</td>\n",
              "      <td>85000.0</td>\n",
              "      <td>nc</td>\n",
              "      <td>excellent</td>\n",
              "    </tr>\n",
              "    <tr>\n",
              "      <th>2</th>\n",
              "      <td>3</td>\n",
              "      <td>3995.0</td>\n",
              "      <td>2004.0</td>\n",
              "      <td>honda</td>\n",
              "      <td>element</td>\n",
              "      <td>https://images.craigslist.org/00E0E_eAUnhFF86M...</td>\n",
              "      <td>212526.0</td>\n",
              "      <td>nc</td>\n",
              "      <td>NaN</td>\n",
              "    </tr>\n",
              "    <tr>\n",
              "      <th>3</th>\n",
              "      <td>4</td>\n",
              "      <td>41988.0</td>\n",
              "      <td>2016.0</td>\n",
              "      <td>chevrolet</td>\n",
              "      <td>silverado k2500hd</td>\n",
              "      <td>https://images.craigslist.org/00S0S_8msT7RQquO...</td>\n",
              "      <td>NaN</td>\n",
              "      <td>ne</td>\n",
              "      <td>NaN</td>\n",
              "    </tr>\n",
              "    <tr>\n",
              "      <th>4</th>\n",
              "      <td>5</td>\n",
              "      <td>12995.0</td>\n",
              "      <td>2015.0</td>\n",
              "      <td>kia</td>\n",
              "      <td>sportage</td>\n",
              "      <td>https://images.craigslist.org/00000_2qdQpZA2hK...</td>\n",
              "      <td>85127.0</td>\n",
              "      <td>nc</td>\n",
              "      <td>NaN</td>\n",
              "    </tr>\n",
              "    <tr>\n",
              "      <th>...</th>\n",
              "      <td>...</td>\n",
              "      <td>...</td>\n",
              "      <td>...</td>\n",
              "      <td>...</td>\n",
              "      <td>...</td>\n",
              "      <td>...</td>\n",
              "      <td>...</td>\n",
              "      <td>...</td>\n",
              "      <td>...</td>\n",
              "    </tr>\n",
              "    <tr>\n",
              "      <th>82754</th>\n",
              "      <td>107192</td>\n",
              "      <td>12900.0</td>\n",
              "      <td>2014.0</td>\n",
              "      <td>jeep</td>\n",
              "      <td>grand cherokee 4x4 limited</td>\n",
              "      <td>https://images.craigslist.org/00u0u_HoWAULNCuA...</td>\n",
              "      <td>NaN</td>\n",
              "      <td>ks</td>\n",
              "      <td>NaN</td>\n",
              "    </tr>\n",
              "    <tr>\n",
              "      <th>82755</th>\n",
              "      <td>107193</td>\n",
              "      <td>8995.0</td>\n",
              "      <td>2013.0</td>\n",
              "      <td>nissan</td>\n",
              "      <td>altima</td>\n",
              "      <td>https://images.craigslist.org/00A0A_7iuUB9ivSi...</td>\n",
              "      <td>91791.0</td>\n",
              "      <td>co</td>\n",
              "      <td>NaN</td>\n",
              "    </tr>\n",
              "    <tr>\n",
              "      <th>82756</th>\n",
              "      <td>107197</td>\n",
              "      <td>2900.0</td>\n",
              "      <td>2009.0</td>\n",
              "      <td>dodge</td>\n",
              "      <td>journey</td>\n",
              "      <td>https://images.craigslist.org/00303_d9Kt7IsDan...</td>\n",
              "      <td>180000.0</td>\n",
              "      <td>tx</td>\n",
              "      <td>good</td>\n",
              "    </tr>\n",
              "    <tr>\n",
              "      <th>82757</th>\n",
              "      <td>107198</td>\n",
              "      <td>19995.0</td>\n",
              "      <td>2008.0</td>\n",
              "      <td>ram</td>\n",
              "      <td>3500 laramie 4x4</td>\n",
              "      <td>https://images.craigslist.org/00G0G_6FkEJ2Ye2E...</td>\n",
              "      <td>140954.0</td>\n",
              "      <td>ks</td>\n",
              "      <td>excellent</td>\n",
              "    </tr>\n",
              "    <tr>\n",
              "      <th>82758</th>\n",
              "      <td>107199</td>\n",
              "      <td>11750.0</td>\n",
              "      <td>2008.0</td>\n",
              "      <td>ford</td>\n",
              "      <td>f250 lariat crew cab 4x4</td>\n",
              "      <td>https://images.craigslist.org/012</td>\n",
              "      <td>NaN</td>\n",
              "      <td>NaN</td>\n",
              "      <td>NaN</td>\n",
              "    </tr>\n",
              "  </tbody>\n",
              "</table>\n",
              "<p>82759 rows × 9 columns</p>\n",
              "</div>"
            ],
            "text/plain": [
              "       Unnamed: 0    price    year  ...  odometer state  condition\n",
              "0               0  10299.0  2012.0  ...   90186.0    nc        NaN\n",
              "1               2   9500.0  2011.0  ...   85000.0    nc  excellent\n",
              "2               3   3995.0  2004.0  ...  212526.0    nc        NaN\n",
              "3               4  41988.0  2016.0  ...       NaN    ne        NaN\n",
              "4               5  12995.0  2015.0  ...   85127.0    nc        NaN\n",
              "...           ...      ...     ...  ...       ...   ...        ...\n",
              "82754      107192  12900.0  2014.0  ...       NaN    ks        NaN\n",
              "82755      107193   8995.0  2013.0  ...   91791.0    co        NaN\n",
              "82756      107197   2900.0  2009.0  ...  180000.0    tx       good\n",
              "82757      107198  19995.0  2008.0  ...  140954.0    ks  excellent\n",
              "82758      107199  11750.0  2008.0  ...       NaN   NaN        NaN\n",
              "\n",
              "[82759 rows x 9 columns]"
            ]
          },
          "metadata": {
            "tags": []
          },
          "execution_count": 4
        }
      ]
    },
    {
      "cell_type": "code",
      "metadata": {
        "id": "wG3F_N1ndHBL",
        "colab_type": "code",
        "outputId": "d3fca7c7-c49a-413a-ed38-476efed3f58d",
        "colab": {
          "base_uri": "https://localhost:8080/",
          "height": 297
        }
      },
      "source": [
        "df = df_orig.copy()\n",
        "df.rename(columns={\"Unnamed: 0\": 'original_index'}, inplace=True)\n",
        "df.describe()"
      ],
      "execution_count": 5,
      "outputs": [
        {
          "output_type": "execute_result",
          "data": {
            "text/html": [
              "<div>\n",
              "<style scoped>\n",
              "    .dataframe tbody tr th:only-of-type {\n",
              "        vertical-align: middle;\n",
              "    }\n",
              "\n",
              "    .dataframe tbody tr th {\n",
              "        vertical-align: top;\n",
              "    }\n",
              "\n",
              "    .dataframe thead th {\n",
              "        text-align: right;\n",
              "    }\n",
              "</style>\n",
              "<table border=\"1\" class=\"dataframe\">\n",
              "  <thead>\n",
              "    <tr style=\"text-align: right;\">\n",
              "      <th></th>\n",
              "      <th>original_index</th>\n",
              "      <th>price</th>\n",
              "      <th>year</th>\n",
              "      <th>odometer</th>\n",
              "    </tr>\n",
              "  </thead>\n",
              "  <tbody>\n",
              "    <tr>\n",
              "      <th>count</th>\n",
              "      <td>82759.000000</td>\n",
              "      <td>82759.000000</td>\n",
              "      <td>82759.000000</td>\n",
              "      <td>7.045100e+04</td>\n",
              "    </tr>\n",
              "    <tr>\n",
              "      <th>mean</th>\n",
              "      <td>53947.484092</td>\n",
              "      <td>14567.587658</td>\n",
              "      <td>2011.491705</td>\n",
              "      <td>9.756842e+04</td>\n",
              "    </tr>\n",
              "    <tr>\n",
              "      <th>std</th>\n",
              "      <td>30875.114470</td>\n",
              "      <td>10833.215944</td>\n",
              "      <td>4.877107</td>\n",
              "      <td>8.810755e+04</td>\n",
              "    </tr>\n",
              "    <tr>\n",
              "      <th>min</th>\n",
              "      <td>0.000000</td>\n",
              "      <td>500.000000</td>\n",
              "      <td>2000.000000</td>\n",
              "      <td>0.000000e+00</td>\n",
              "    </tr>\n",
              "    <tr>\n",
              "      <th>25%</th>\n",
              "      <td>27318.500000</td>\n",
              "      <td>6200.000000</td>\n",
              "      <td>2008.000000</td>\n",
              "      <td>4.610050e+04</td>\n",
              "    </tr>\n",
              "    <tr>\n",
              "      <th>50%</th>\n",
              "      <td>54071.000000</td>\n",
              "      <td>12100.000000</td>\n",
              "      <td>2012.000000</td>\n",
              "      <td>9.200000e+04</td>\n",
              "    </tr>\n",
              "    <tr>\n",
              "      <th>75%</th>\n",
              "      <td>80468.500000</td>\n",
              "      <td>19991.000000</td>\n",
              "      <td>2016.000000</td>\n",
              "      <td>1.350480e+05</td>\n",
              "    </tr>\n",
              "    <tr>\n",
              "      <th>max</th>\n",
              "      <td>107199.000000</td>\n",
              "      <td>189000.000000</td>\n",
              "      <td>2021.000000</td>\n",
              "      <td>8.343040e+06</td>\n",
              "    </tr>\n",
              "  </tbody>\n",
              "</table>\n",
              "</div>"
            ],
            "text/plain": [
              "       original_index          price          year      odometer\n",
              "count    82759.000000   82759.000000  82759.000000  7.045100e+04\n",
              "mean     53947.484092   14567.587658   2011.491705  9.756842e+04\n",
              "std      30875.114470   10833.215944      4.877107  8.810755e+04\n",
              "min          0.000000     500.000000   2000.000000  0.000000e+00\n",
              "25%      27318.500000    6200.000000   2008.000000  4.610050e+04\n",
              "50%      54071.000000   12100.000000   2012.000000  9.200000e+04\n",
              "75%      80468.500000   19991.000000   2016.000000  1.350480e+05\n",
              "max     107199.000000  189000.000000   2021.000000  8.343040e+06"
            ]
          },
          "metadata": {
            "tags": []
          },
          "execution_count": 5
        }
      ]
    },
    {
      "cell_type": "code",
      "metadata": {
        "id": "9u29m6dx7d_c",
        "colab_type": "code",
        "outputId": "cd4745b2-d438-4bc8-b73e-877a7386d07c",
        "colab": {
          "base_uri": "https://localhost:8080/",
          "height": 187
        }
      },
      "source": [
        "df.dtypes"
      ],
      "execution_count": 0,
      "outputs": [
        {
          "output_type": "execute_result",
          "data": {
            "text/plain": [
              "original_index      int64\n",
              "price             float64\n",
              "year              float64\n",
              "manufacturer       object\n",
              "model              object\n",
              "image_url          object\n",
              "odometer          float64\n",
              "state              object\n",
              "condition          object\n",
              "dtype: object"
            ]
          },
          "metadata": {
            "tags": []
          },
          "execution_count": 11
        }
      ]
    },
    {
      "cell_type": "code",
      "metadata": {
        "id": "ibGhIS4iitGj",
        "colab_type": "code",
        "outputId": "0c7a6313-bd2d-4eeb-fc73-3bc48fe4150d",
        "colab": {
          "base_uri": "https://localhost:8080/",
          "height": 187
        }
      },
      "source": [
        "df.isnull().sum()"
      ],
      "execution_count": 0,
      "outputs": [
        {
          "output_type": "execute_result",
          "data": {
            "text/plain": [
              "original_index        0\n",
              "price                 0\n",
              "year                  0\n",
              "manufacturer          0\n",
              "model                 0\n",
              "image_url             0\n",
              "odometer          16144\n",
              "state                 1\n",
              "condition         45485\n",
              "dtype: int64"
            ]
          },
          "metadata": {
            "tags": []
          },
          "execution_count": 12
        }
      ]
    },
    {
      "cell_type": "markdown",
      "metadata": {
        "id": "4FDeIa2UppFg",
        "colab_type": "text"
      },
      "source": [
        "## Split and define features + target \n",
        "3 features"
      ]
    },
    {
      "cell_type": "code",
      "metadata": {
        "id": "6qSxpTBPpsqn",
        "colab_type": "code",
        "colab": {}
      },
      "source": [
        "train, test = train_test_split(df, test_size=0.15, random_state=11)\n",
        "\n",
        "X_features = ['odometer', 'year', 'model', 'manufacturer']\n",
        "target = 'price'\n",
        "\n",
        "X_train = train[X_features]\n",
        "y_train = train[target]\n",
        "\n",
        "X_test = test[X_features]\n",
        "y_test = test[target]"
      ],
      "execution_count": 0,
      "outputs": []
    },
    {
      "cell_type": "markdown",
      "metadata": {
        "id": "rNJp6_SjnUQn",
        "colab_type": "text"
      },
      "source": [
        "## Preprocessing"
      ]
    },
    {
      "cell_type": "code",
      "metadata": {
        "id": "pH0FyIXrmyso",
        "colab_type": "code",
        "colab": {}
      },
      "source": [
        "te = TargetEncoder()\n",
        "X_train_encoded = te.fit_transform(X_train, y_train)\n",
        "X_test_encoded = te.transform(X_test)\n",
        "\n",
        "imputer = IterativeImputer(BayesianRidge())\n",
        "X_train_imputed = imputer.fit_transform(X_train_encoded, y_train)\n",
        "X_test_imputed = imputer.transform(X_test_encoded)\n",
        "\n",
        "rs = RobustScaler()\n",
        "X_train_scaled = rs.fit_transform(X_train_imputed)\n",
        "X_test_scaled = rs.transform(X_test_imputed)"
      ],
      "execution_count": 0,
      "outputs": []
    },
    {
      "cell_type": "code",
      "metadata": {
        "id": "Q2_ppPQNDZNX",
        "colab_type": "code",
        "outputId": "806493a0-5a72-4bee-fa7b-a60c95e12a8b",
        "colab": {
          "base_uri": "https://localhost:8080/",
          "height": 54
        }
      },
      "source": [
        "from scipy import stats\n",
        "stats.describe(X_train_scaled)"
      ],
      "execution_count": 0,
      "outputs": [
        {
          "output_type": "execute_result",
          "data": {
            "text/plain": [
              "DescribeResult(nobs=93447, minmax=(array([-1.08523058, -1.5       , -1.26569763, -2.2738415 ]), array([52.92754087,  1.125     ,  6.95809273, 12.56858859])), mean=array([ 0.04873011, -0.05688652,  0.11804261, -0.28892646]), variance=array([0.69562929, 0.37346357, 0.59475417, 0.49771459]), skewness=array([12.97830263, -0.43981846,  1.16123417,  0.64210231]), kurtosis=array([569.40681425,  -0.76048592,   2.86920501,   7.10180028]))"
            ]
          },
          "metadata": {
            "tags": []
          },
          "execution_count": 28
        }
      ]
    },
    {
      "cell_type": "markdown",
      "metadata": {
        "id": "SlN8f6R4tPce",
        "colab_type": "text"
      },
      "source": [
        "## Ridge Regression"
      ]
    },
    {
      "cell_type": "code",
      "metadata": {
        "id": "dmNtLtqFtOsh",
        "colab_type": "code",
        "colab": {}
      },
      "source": [
        "rcv = RidgeCV()\n",
        "rcv.fit(X_train_scaled, y_train)\n",
        "rcv.score(X_train_scaled, y_train)"
      ],
      "execution_count": 0,
      "outputs": []
    },
    {
      "cell_type": "code",
      "metadata": {
        "id": "tN0D_0_6uH-R",
        "colab_type": "code",
        "colab": {}
      },
      "source": [
        "y_pred_ridge = rcv.predict(X_test_scaled)\n",
        "mean_absolute_error(y_test, y_pred_ridge)"
      ],
      "execution_count": 0,
      "outputs": []
    },
    {
      "cell_type": "markdown",
      "metadata": {
        "id": "jXqhrpQBuvZT",
        "colab_type": "text"
      },
      "source": [
        "## Random Forest"
      ]
    },
    {
      "cell_type": "code",
      "metadata": {
        "id": "JxmZ2seDu2Pn",
        "colab_type": "code",
        "outputId": "b68d4193-9255-4358-a1a2-d381e507d122",
        "colab": {
          "base_uri": "https://localhost:8080/",
          "height": 34
        }
      },
      "source": [
        "rf = RandomForestRegressor()\n",
        "rf.fit(X_train_scaled, y_train)\n",
        "y_pred_rf = rf.predict(X_test_scaled)\n",
        "\n",
        "mean_absolute_error(y_test, y_pred_rf)"
      ],
      "execution_count": 0,
      "outputs": [
        {
          "output_type": "execute_result",
          "data": {
            "text/plain": [
              "1760.547211313215"
            ]
          },
          "metadata": {
            "tags": []
          },
          "execution_count": 8
        }
      ]
    },
    {
      "cell_type": "code",
      "metadata": {
        "id": "jgSFZmkHVNcY",
        "colab_type": "code",
        "outputId": "48b29dca-ba66-4e60-d1b9-d1adfc5ad047",
        "colab": {
          "base_uri": "https://localhost:8080/",
          "height": 34
        }
      },
      "source": [
        "rf.feature_importances_"
      ],
      "execution_count": 0,
      "outputs": [
        {
          "output_type": "execute_result",
          "data": {
            "text/plain": [
              "array([0.12774785, 0.28118137, 0.54667324, 0.04439754])"
            ]
          },
          "metadata": {
            "tags": []
          },
          "execution_count": 9
        }
      ]
    },
    {
      "cell_type": "code",
      "metadata": {
        "id": "C3Gvn1BIPxuF",
        "colab_type": "code",
        "outputId": "b49e628c-ba4f-42d8-e956-b948c2036f3b",
        "colab": {
          "base_uri": "https://localhost:8080/",
          "height": 425
        }
      },
      "source": [
        "from sklearn.pipeline import make_pipeline\n",
        "\n",
        "pipe = make_pipeline(\n",
        "    TargetEncoder(),\n",
        "    IterativeImputer(BayesianRidge()),\n",
        "    RobustScaler(),\n",
        "    RandomForestRegressor(n_estimators=20, max_depth=20)\n",
        ")\n",
        "pipe.fit(X_train, y_train)\n"
      ],
      "execution_count": 0,
      "outputs": [
        {
          "output_type": "execute_result",
          "data": {
            "text/plain": [
              "Pipeline(memory=None,\n",
              "         steps=[('targetencoder',\n",
              "                 TargetEncoder(cols=['model', 'manufacturer'],\n",
              "                               drop_invariant=False, handle_missing='value',\n",
              "                               handle_unknown='value', min_samples_leaf=1,\n",
              "                               return_df=True, smoothing=1.0, verbose=0)),\n",
              "                ('iterativeimputer',\n",
              "                 IterativeImputer(add_indicator=False,\n",
              "                                  estimator=BayesianRidge(alpha_1=1e-06,\n",
              "                                                          alpha_2=1e-06,\n",
              "                                                          alpha_init=None,\n",
              "                                                          compute_s...\n",
              "                 RandomForestRegressor(bootstrap=True, ccp_alpha=0.0,\n",
              "                                       criterion='mse', max_depth=20,\n",
              "                                       max_features='auto', max_leaf_nodes=None,\n",
              "                                       max_samples=None,\n",
              "                                       min_impurity_decrease=0.0,\n",
              "                                       min_impurity_split=None,\n",
              "                                       min_samples_leaf=1, min_samples_split=2,\n",
              "                                       min_weight_fraction_leaf=0.0,\n",
              "                                       n_estimators=20, n_jobs=None,\n",
              "                                       oob_score=False, random_state=None,\n",
              "                                       verbose=0, warm_start=False))],\n",
              "         verbose=False)"
            ]
          },
          "metadata": {
            "tags": []
          },
          "execution_count": 24
        }
      ]
    },
    {
      "cell_type": "code",
      "metadata": {
        "id": "xkQKQU8FQaQw",
        "colab_type": "code",
        "outputId": "30e60f04-2309-44e4-9ece-b600be57b6e2",
        "colab": {
          "base_uri": "https://localhost:8080/",
          "height": 34
        }
      },
      "source": [
        "y_pred_pipe = pipe.predict(X_test)\n",
        "mean_absolute_error(y_test, y_pred_pipe)\n"
      ],
      "execution_count": 0,
      "outputs": [
        {
          "output_type": "execute_result",
          "data": {
            "text/plain": [
              "2014.429288274469"
            ]
          },
          "metadata": {
            "tags": []
          },
          "execution_count": 25
        }
      ]
    },
    {
      "cell_type": "code",
      "metadata": {
        "id": "nfs8HDUgQ2CI",
        "colab_type": "code",
        "outputId": "cc460e4f-8739-40ec-c61e-e30b5322c922",
        "colab": {
          "base_uri": "https://localhost:8080/",
          "height": 34
        }
      },
      "source": [
        "from joblib import load, dump\n",
        "\n",
        "dump(pipe, 'targetiterrobustforest.joblib', compress=True)\n"
      ],
      "execution_count": 0,
      "outputs": [
        {
          "output_type": "execute_result",
          "data": {
            "text/plain": [
              "['targetiterrobustforest.joblib']"
            ]
          },
          "metadata": {
            "tags": []
          },
          "execution_count": 26
        }
      ]
    },
    {
      "cell_type": "code",
      "metadata": {
        "id": "zLoJLVKMvx4p",
        "colab_type": "code",
        "outputId": "37c8c3df-8c3f-4b15-cd57-81acd04a7ea9",
        "colab": {
          "base_uri": "https://localhost:8080/",
          "height": 615
        }
      },
      "source": [
        "# Tune it?\n",
        "\n",
        "# Create the random grid\n",
        "random_grid = {'n_estimators': [100, 150],\n",
        "               'max_depth': [25, 40],\n",
        "               'min_samples_split': [2, 5, 10],\n",
        "               'min_samples_leaf': [1, 2, 4],\n",
        "               'bootstrap': [True, False]}\n",
        "rf1 = RandomForestRegressor()\n",
        "rf_random = RandomizedSearchCV(\n",
        "            estimator = rf1, param_distributions = random_grid, \n",
        "            n_iter = 100, cv = 3, verbose=2, random_state=42, n_jobs = -1)\n",
        "\n",
        "# Fit the random search model\n",
        "rf_random.fit(X_train_scaled, y_train)\n"
      ],
      "execution_count": 0,
      "outputs": [
        {
          "output_type": "stream",
          "text": [
            "Fitting 3 folds for each of 72 candidates, totalling 216 fits\n"
          ],
          "name": "stdout"
        },
        {
          "output_type": "stream",
          "text": [
            "/usr/local/lib/python3.6/dist-packages/sklearn/model_selection/_search.py:281: UserWarning: The total space of parameters 72 is smaller than n_iter=100. Running 72 iterations. For exhaustive searches, use GridSearchCV.\n",
            "  % (grid_size, self.n_iter, grid_size), UserWarning)\n",
            "[Parallel(n_jobs=-1)]: Using backend LokyBackend with 2 concurrent workers.\n",
            "[Parallel(n_jobs=-1)]: Done  37 tasks      | elapsed:  9.2min\n",
            "/usr/local/lib/python3.6/dist-packages/joblib/externals/loky/process_executor.py:691: UserWarning: A worker stopped while some jobs were given to the executor. This can be caused by a too short worker timeout or by a memory leak.\n",
            "  \"timeout or by a memory leak.\", UserWarning\n",
            "[Parallel(n_jobs=-1)]: Done 158 tasks      | elapsed: 44.4min\n",
            "[Parallel(n_jobs=-1)]: Done 216 out of 216 | elapsed: 65.6min finished\n"
          ],
          "name": "stderr"
        },
        {
          "output_type": "execute_result",
          "data": {
            "text/plain": [
              "RandomizedSearchCV(cv=3, error_score=nan,\n",
              "                   estimator=RandomForestRegressor(bootstrap=True,\n",
              "                                                   ccp_alpha=0.0,\n",
              "                                                   criterion='mse',\n",
              "                                                   max_depth=None,\n",
              "                                                   max_features='auto',\n",
              "                                                   max_leaf_nodes=None,\n",
              "                                                   max_samples=None,\n",
              "                                                   min_impurity_decrease=0.0,\n",
              "                                                   min_impurity_split=None,\n",
              "                                                   min_samples_leaf=1,\n",
              "                                                   min_samples_split=2,\n",
              "                                                   min_weight_fraction_leaf=0.0,\n",
              "                                                   n_estimators=100,\n",
              "                                                   n_jobs=None, oob_score=False,\n",
              "                                                   random_state=None, verbose=0,\n",
              "                                                   warm_start=False),\n",
              "                   iid='deprecated', n_iter=100, n_jobs=-1,\n",
              "                   param_distributions={'bootstrap': [True, False],\n",
              "                                        'max_depth': [25, 40],\n",
              "                                        'min_samples_leaf': [1, 2, 4],\n",
              "                                        'min_samples_split': [2, 5, 10],\n",
              "                                        'n_estimators': [100, 150]},\n",
              "                   pre_dispatch='2*n_jobs', random_state=42, refit=True,\n",
              "                   return_train_score=False, scoring=None, verbose=2)"
            ]
          },
          "metadata": {
            "tags": []
          },
          "execution_count": 15
        }
      ]
    },
    {
      "cell_type": "code",
      "metadata": {
        "id": "-AGiF3jNT_FS",
        "colab_type": "code",
        "outputId": "e7327bce-7f3b-4f0f-eeb0-b20370bb0ae9",
        "colab": {
          "base_uri": "https://localhost:8080/",
          "height": 34
        }
      },
      "source": [
        "rf_random.best_score_"
      ],
      "execution_count": 0,
      "outputs": [
        {
          "output_type": "execute_result",
          "data": {
            "text/plain": [
              "0.8195643283673594"
            ]
          },
          "metadata": {
            "tags": []
          },
          "execution_count": 18
        }
      ]
    },
    {
      "cell_type": "code",
      "metadata": {
        "id": "4MeFqNkMUN2H",
        "colab_type": "code",
        "outputId": "7b488bd9-3a26-44fa-c1dd-53b0b6d6d784",
        "colab": {
          "base_uri": "https://localhost:8080/",
          "height": 102
        }
      },
      "source": [
        "rf_random.best_params_"
      ],
      "execution_count": 0,
      "outputs": [
        {
          "output_type": "execute_result",
          "data": {
            "text/plain": [
              "{'bootstrap': True,\n",
              " 'max_depth': 25,\n",
              " 'min_samples_leaf': 2,\n",
              " 'min_samples_split': 2,\n",
              " 'n_estimators': 100}"
            ]
          },
          "metadata": {
            "tags": []
          },
          "execution_count": 17
        }
      ]
    },
    {
      "cell_type": "code",
      "metadata": {
        "id": "9SiQExxCUe7e",
        "colab_type": "code",
        "outputId": "362c0005-de9d-4a0f-ee78-906c483f1546",
        "colab": {
          "base_uri": "https://localhost:8080/",
          "height": 34
        }
      },
      "source": [
        "y_pred_search = rf_random.predict(X_test_scaled)\n",
        "mean_absolute_error(y_test, y_pred_search)"
      ],
      "execution_count": 0,
      "outputs": [
        {
          "output_type": "execute_result",
          "data": {
            "text/plain": [
              "2456.4202428938074"
            ]
          },
          "metadata": {
            "tags": []
          },
          "execution_count": 26
        }
      ]
    },
    {
      "cell_type": "markdown",
      "metadata": {
        "id": "c5hP0Sj8Kwd7",
        "colab_type": "text"
      },
      "source": [
        "## XGBoost\n"
      ]
    },
    {
      "cell_type": "code",
      "metadata": {
        "id": "CCXNnyEULQ18",
        "colab_type": "code",
        "colab": {}
      },
      "source": [
        "#%% split training set to validation set \n",
        "data_tr  = xgb.DMatrix(X_train_scaled, label=y_train)\n",
        "data_cv  = xgb.DMatrix(X_test_scaled   , label=y_test)\n",
        "evallist = [(data_tr, 'train'), (data_cv, 'valid')]"
      ],
      "execution_count": 0,
      "outputs": []
    },
    {
      "cell_type": "code",
      "metadata": {
        "id": "6wTc5CMjKyMb",
        "colab_type": "code",
        "outputId": "1a0b7680-60cc-4baa-fedb-f996099b8192",
        "colab": {
          "base_uri": "https://localhost:8080/",
          "height": 935
        }
      },
      "source": [
        "parms = {'max_depth':25, #maximum depth of a tree\n",
        "         'objective':'reg:squarederror',\n",
        "         'eval_metric': 'mae',\n",
        "         'eta'      :0.1,\n",
        "         'subsample':0.8,#SGD will use this percentage of data\n",
        "         'lambda '  :1, #L2 regularization term,>1 more conservative \n",
        "         'colsample_bytree ':0.9,\n",
        "         'colsample_bylevel':1,\n",
        "         'min_child_weight': 5}\n",
        "modelx = xgb.train(parms, data_tr, num_boost_round=500, evals = evallist,\n",
        "                  early_stopping_rounds=10, maximize=False, \n",
        "                  verbose_eval=10)"
      ],
      "execution_count": 0,
      "outputs": [
        {
          "output_type": "stream",
          "text": [
            "[0]\ttrain-mae:12722.1\tvalid-mae:12687.8\n",
            "Multiple eval metrics have been passed: 'valid-mae' will be used for early stopping.\n",
            "\n",
            "Will train until valid-mae hasn't improved in 10 rounds.\n",
            "[10]\ttrain-mae:4810.53\tvalid-mae:4891.95\n",
            "[20]\ttrain-mae:2317.47\tvalid-mae:2653.34\n",
            "[30]\ttrain-mae:1539.05\tvalid-mae:2075.41\n",
            "[40]\ttrain-mae:1279.74\tvalid-mae:1916.57\n",
            "[50]\ttrain-mae:1186.35\tvalid-mae:1869.82\n",
            "[60]\ttrain-mae:1145.15\tvalid-mae:1852.51\n",
            "[70]\ttrain-mae:1118.02\tvalid-mae:1841.06\n",
            "[80]\ttrain-mae:1096.06\tvalid-mae:1831.71\n",
            "[90]\ttrain-mae:1075.76\tvalid-mae:1824.01\n",
            "[100]\ttrain-mae:1061.19\tvalid-mae:1818.27\n",
            "[110]\ttrain-mae:1035.15\tvalid-mae:1808.98\n",
            "[120]\ttrain-mae:1017.32\tvalid-mae:1802.37\n",
            "[130]\ttrain-mae:999.455\tvalid-mae:1796.2\n",
            "[140]\ttrain-mae:980.111\tvalid-mae:1789.05\n",
            "[150]\ttrain-mae:962.014\tvalid-mae:1782.5\n",
            "[160]\ttrain-mae:942.437\tvalid-mae:1775.94\n",
            "[170]\ttrain-mae:925.171\tvalid-mae:1769.8\n",
            "[180]\ttrain-mae:906.683\tvalid-mae:1763.5\n",
            "[190]\ttrain-mae:886.114\tvalid-mae:1756.79\n",
            "[200]\ttrain-mae:865.711\tvalid-mae:1750.62\n",
            "[210]\ttrain-mae:846.171\tvalid-mae:1744.94\n",
            "[220]\ttrain-mae:824.296\tvalid-mae:1737.53\n",
            "[230]\ttrain-mae:805.255\tvalid-mae:1731.96\n",
            "[240]\ttrain-mae:787.613\tvalid-mae:1727.69\n",
            "[250]\ttrain-mae:763.009\tvalid-mae:1720.49\n",
            "[260]\ttrain-mae:744.611\tvalid-mae:1715.69\n",
            "[270]\ttrain-mae:723.61\tvalid-mae:1710.62\n",
            "[280]\ttrain-mae:705.372\tvalid-mae:1706\n",
            "[290]\ttrain-mae:687.878\tvalid-mae:1701.49\n",
            "[300]\ttrain-mae:671.078\tvalid-mae:1698.14\n",
            "[310]\ttrain-mae:654.031\tvalid-mae:1693.86\n",
            "[320]\ttrain-mae:637.292\tvalid-mae:1689.83\n",
            "[330]\ttrain-mae:619.226\tvalid-mae:1685.42\n",
            "[340]\ttrain-mae:605.078\tvalid-mae:1682.35\n",
            "[350]\ttrain-mae:590.854\tvalid-mae:1679.32\n",
            "[360]\ttrain-mae:578.667\tvalid-mae:1676.88\n",
            "[370]\ttrain-mae:565.829\tvalid-mae:1674.28\n",
            "[380]\ttrain-mae:554.953\tvalid-mae:1671.83\n",
            "[390]\ttrain-mae:545.462\tvalid-mae:1669.94\n",
            "[400]\ttrain-mae:534.259\tvalid-mae:1667.37\n",
            "[410]\ttrain-mae:524.831\tvalid-mae:1665.36\n",
            "[420]\ttrain-mae:514.751\tvalid-mae:1663.16\n",
            "[430]\ttrain-mae:505.708\tvalid-mae:1661.9\n",
            "[440]\ttrain-mae:497.979\tvalid-mae:1660.42\n",
            "[450]\ttrain-mae:489.112\tvalid-mae:1658.7\n",
            "[460]\ttrain-mae:482.755\tvalid-mae:1657.22\n",
            "[470]\ttrain-mae:475.415\tvalid-mae:1656.2\n",
            "[480]\ttrain-mae:468.892\tvalid-mae:1655.18\n",
            "[490]\ttrain-mae:462.196\tvalid-mae:1654.06\n",
            "[499]\ttrain-mae:456.659\tvalid-mae:1653.16\n"
          ],
          "name": "stdout"
        }
      ]
    },
    {
      "cell_type": "code",
      "metadata": {
        "id": "kyA-susaMuvl",
        "colab_type": "code",
        "colab": {}
      },
      "source": [
        "# [999]\ttrain-mae:1697.07\tvalid-mae:2067.33 max_depth 8\n",
        "# [499]\ttrain-mae:1034.21\tvalid-mae:1844.92 max_depth 15\n",
        "# [499]\ttrain-mae:1511.85\tvalid-mae:1967.65 lambda 2 eta 0.1(same exact for lambda1) \n",
        "# [499]\ttrain-mae:787.267\tvalid-mae:1735.56 max_depth 25\n",
        "# [499]\ttrain-mae:456.659\tvalid-mae:1653.16 min_child_weight 5"
      ],
      "execution_count": 0,
      "outputs": []
    },
    {
      "cell_type": "markdown",
      "metadata": {
        "id": "NMEzE-X_w-xX",
        "colab_type": "text"
      },
      "source": [
        "## Fuzzy Wuzzy attemps"
      ]
    },
    {
      "cell_type": "code",
      "metadata": {
        "id": "UBm6OewWwI7X",
        "colab_type": "code",
        "colab": {
          "base_uri": "https://localhost:8080/",
          "height": 85
        },
        "outputId": "7ffa6eb9-d397-4467-d7e9-e8759a2219d7"
      },
      "source": [
        "pip install fuzzywuzzy"
      ],
      "execution_count": 6,
      "outputs": [
        {
          "output_type": "stream",
          "text": [
            "Collecting fuzzywuzzy\n",
            "  Downloading https://files.pythonhosted.org/packages/43/ff/74f23998ad2f93b945c0309f825be92e04e0348e062026998b5eefef4c33/fuzzywuzzy-0.18.0-py2.py3-none-any.whl\n",
            "Installing collected packages: fuzzywuzzy\n",
            "Successfully installed fuzzywuzzy-0.18.0\n"
          ],
          "name": "stdout"
        }
      ]
    },
    {
      "cell_type": "code",
      "metadata": {
        "id": "Zb1YD564yerY",
        "colab_type": "code",
        "colab": {
          "base_uri": "https://localhost:8080/",
          "height": 51
        },
        "outputId": "2a31792c-28bb-4935-81d0-00743d425f83"
      },
      "source": [
        "from fuzzywuzzy import fuzz, process"
      ],
      "execution_count": 7,
      "outputs": [
        {
          "output_type": "stream",
          "text": [
            "/usr/local/lib/python3.6/dist-packages/fuzzywuzzy/fuzz.py:11: UserWarning: Using slow pure-python SequenceMatcher. Install python-Levenshtein to remove this warning\n",
            "  warnings.warn('Using slow pure-python SequenceMatcher. Install python-Levenshtein to remove this warning')\n"
          ],
          "name": "stderr"
        }
      ]
    },
    {
      "cell_type": "code",
      "metadata": {
        "id": "BjCRpFXj5cnl",
        "colab_type": "code",
        "colab": {}
      },
      "source": [
        "df_epa = pd.read_csv('vehicles.csv')"
      ],
      "execution_count": 0,
      "outputs": []
    },
    {
      "cell_type": "code",
      "metadata": {
        "id": "feJB5HTL1Ri1",
        "colab_type": "code",
        "colab": {}
      },
      "source": [
        "# Start with epa, compare models where year and make is the same\n",
        "\n",
        "# for row in df_epa:\n",
        "#   if df_epa.year == df_cl.year:\n",
        "#     print(fuzz.ratio(df_epa['model'][row], df_cl['model'][row]))\n",
        "\n"
      ],
      "execution_count": 0,
      "outputs": []
    },
    {
      "cell_type": "code",
      "metadata": {
        "id": "-ne82t0d5rFV",
        "colab_type": "code",
        "colab": {}
      },
      "source": [
        "df_cl = df"
      ],
      "execution_count": 0,
      "outputs": []
    },
    {
      "cell_type": "code",
      "metadata": {
        "id": "StraKlHs35qw",
        "colab_type": "code",
        "colab": {}
      },
      "source": [
        "# Lets look at a simplified list\n",
        "\n",
        "epa_models = sorted(df_epa['model'].unique())\n",
        "cl_models = sorted(df_cl.model.unique())\n",
        "\n",
        "\n",
        "for model in epa_models:\n",
        "  for x  in range(len(cl_models)):\n",
        "    print(fuzz.ratio(model, cl_models[x]))"
      ],
      "execution_count": 0,
      "outputs": []
    },
    {
      "cell_type": "code",
      "metadata": {
        "id": "qa9zerhnve4v",
        "colab_type": "code",
        "colab": {}
      },
      "source": [
        "epa_models[2888]"
      ],
      "execution_count": 0,
      "outputs": []
    },
    {
      "cell_type": "code",
      "metadata": {
        "id": "vZ0m0UVBuhm5",
        "colab_type": "code",
        "colab": {}
      },
      "source": [
        "grand_cherokee_ratios = []\n",
        "for model in cl_models:\n",
        "  grand_cherokee_ratios.append(fuzz.ratio(epa_models[2888], model))\n",
        "max(grand_cherokee_ratios)"
      ],
      "execution_count": 0,
      "outputs": []
    },
    {
      "cell_type": "code",
      "metadata": {
        "id": "R7hABMP-b8tZ",
        "colab_type": "code",
        "colab": {}
      },
      "source": [
        "grand_cherokee_ratios.index(84)"
      ],
      "execution_count": 0,
      "outputs": []
    },
    {
      "cell_type": "code",
      "metadata": {
        "id": "pP28GkJvwkn_",
        "colab_type": "code",
        "colab": {}
      },
      "source": [
        "cl_models[18845]"
      ],
      "execution_count": 0,
      "outputs": []
    },
    {
      "cell_type": "code",
      "metadata": {
        "id": "t5iFCXUnDXpC",
        "colab_type": "code",
        "colab": {}
      },
      "source": [
        "df_epa['model'].nunique(), df['model'].nunique()"
      ],
      "execution_count": 0,
      "outputs": []
    },
    {
      "cell_type": "code",
      "metadata": {
        "id": "eUhjwTg03EWB",
        "colab_type": "code",
        "colab": {}
      },
      "source": [
        "# Input Make model Year get a prediction\n",
        "# sample_model = 'sivics'\n",
        "\n",
        "cl_models = sorted(df_cl.model.unique())\n",
        "\n",
        "def match_models(sample_model):\n",
        "  model_ratios = []\n",
        "  for model in cl_models:\n",
        "    model_ratios.append(fuzz.ratio(sample_model, model))\n",
        "  max_match = max(model_ratios)\n",
        "  index_of_match = model_ratios.index(max_match)\n",
        "  return cl_models[index_of_match]"
      ],
      "execution_count": 0,
      "outputs": []
    },
    {
      "cell_type": "code",
      "metadata": {
        "id": "0_DleqwI4Ymj",
        "colab_type": "code",
        "colab": {}
      },
      "source": [
        "match_models('Wrangler Rubicon 4wd')"
      ],
      "execution_count": 0,
      "outputs": []
    },
    {
      "cell_type": "code",
      "metadata": {
        "id": "fg8P19wnKqBF",
        "colab_type": "code",
        "colab": {}
      },
      "source": [
        "def match_models(sample_model):\n",
        "  model_ratios = []\n",
        "  for model in cl_models:\n",
        "    model_ratios.append(fuzz.ratio(sample_model, model))\n",
        "  max_match = max(model_ratios)\n",
        "  index_of_match = model_ratios.index(max_match)\n",
        "  return cl_models[index_of_match]"
      ],
      "execution_count": 0,
      "outputs": []
    },
    {
      "cell_type": "markdown",
      "metadata": {
        "id": "qzMXRiHUKbfF",
        "colab_type": "text"
      },
      "source": [
        "### Refactor to us the process.extract fuzzy"
      ]
    },
    {
      "cell_type": "code",
      "metadata": {
        "id": "ccHo-FgILQR_",
        "colab_type": "code",
        "colab": {}
      },
      "source": [
        "df_cl = df\n",
        "cl_models = sorted(df_cl.model.unique())"
      ],
      "execution_count": 0,
      "outputs": []
    },
    {
      "cell_type": "code",
      "metadata": {
        "id": "KlU0Xm6CLdgU",
        "colab_type": "code",
        "colab": {
          "base_uri": "https://localhost:8080/",
          "height": 68
        },
        "outputId": "97ce2461-625a-4814-f5e2-c9776e446c2d"
      },
      "source": [
        "%time\n",
        "process.extractOne('civic 4wd', cl_models, scorer=fuzz.token_sort_ratio)"
      ],
      "execution_count": 61,
      "outputs": [
        {
          "output_type": "stream",
          "text": [
            "CPU times: user 2 µs, sys: 0 ns, total: 2 µs\n",
            "Wall time: 4.53 µs\n"
          ],
          "name": "stdout"
        },
        {
          "output_type": "execute_result",
          "data": {
            "text/plain": [
              "('civic lx 4dr', 76)"
            ]
          },
          "metadata": {
            "tags": []
          },
          "execution_count": 61
        }
      ]
    },
    {
      "cell_type": "code",
      "metadata": {
        "id": "bYvdoXn7MrQQ",
        "colab_type": "code",
        "colab": {
          "base_uri": "https://localhost:8080/",
          "height": 68
        },
        "outputId": "50e8efe4-70fd-4014-f63c-3a950517a747"
      },
      "source": [
        "%time\n",
        "match_models('civic 4wd')"
      ],
      "execution_count": 48,
      "outputs": [
        {
          "output_type": "stream",
          "text": [
            "CPU times: user 5 µs, sys: 0 ns, total: 5 µs\n",
            "Wall time: 9.06 µs\n"
          ],
          "name": "stdout"
        },
        {
          "output_type": "execute_result",
          "data": {
            "text/plain": [
              "'civic dx'"
            ]
          },
          "metadata": {
            "tags": []
          },
          "execution_count": 48
        }
      ]
    },
    {
      "cell_type": "code",
      "metadata": {
        "id": "kvcgyjHONhrG",
        "colab_type": "code",
        "colab": {
          "base_uri": "https://localhost:8080/",
          "height": 136
        },
        "outputId": "ff217b06-8179-45ce-800a-9c7742b56b42"
      },
      "source": [
        "%time\n",
        "process.extract('z3 coupe', cl_models, scorer=fuzz.partial_ratio)"
      ],
      "execution_count": 65,
      "outputs": [
        {
          "output_type": "stream",
          "text": [
            "CPU times: user 4 µs, sys: 0 ns, total: 4 µs\n",
            "Wall time: 6.44 µs\n"
          ],
          "name": "stdout"
        },
        {
          "output_type": "execute_result",
          "data": {
            "text/plain": [
              "[('3', 100),\n",
              " ('z3', 100),\n",
              " ('370z coupe', 93),\n",
              " ('370z coupe 2d', 88),\n",
              " ('cr-z coupe 2d', 88)]"
            ]
          },
          "metadata": {
            "tags": []
          },
          "execution_count": 65
        }
      ]
    },
    {
      "cell_type": "code",
      "metadata": {
        "id": "mcal_BHUN0Q-",
        "colab_type": "code",
        "colab": {
          "base_uri": "https://localhost:8080/",
          "height": 68
        },
        "outputId": "72e08199-3c42-490c-f38a-4437003eca02"
      },
      "source": [
        "%time\n",
        "match_models('z3 coupe')"
      ],
      "execution_count": 50,
      "outputs": [
        {
          "output_type": "stream",
          "text": [
            "CPU times: user 3 µs, sys: 0 ns, total: 3 µs\n",
            "Wall time: 5.48 µs\n"
          ],
          "name": "stdout"
        },
        {
          "output_type": "execute_result",
          "data": {
            "text/plain": [
              "'m3 coupe'"
            ]
          },
          "metadata": {
            "tags": []
          },
          "execution_count": 50
        }
      ]
    },
    {
      "cell_type": "code",
      "metadata": {
        "id": "OfFfE1-qPwGw",
        "colab_type": "code",
        "colab": {
          "base_uri": "https://localhost:8080/",
          "height": 136
        },
        "outputId": "b0d45e92-43b5-4c9d-fa36-bd7bd2968732"
      },
      "source": [
        "%time\n",
        "process.extract('cx-9 4wd', cl_models, scorer=fuzz.token_sort_ratio)"
      ],
      "execution_count": 51,
      "outputs": [
        {
          "output_type": "stream",
          "text": [
            "CPU times: user 2 µs, sys: 0 ns, total: 2 µs\n",
            "Wall time: 5.01 µs\n"
          ],
          "name": "stdout"
        },
        {
          "output_type": "execute_result",
          "data": {
            "text/plain": [
              "[('crv ex 4wd', 67),\n",
              " ('cx-9', 67),\n",
              " ('crv exl 4wd', 63),\n",
              " ('cr-v 4wd', 62),\n",
              " ('cx-5 awd', 62)]"
            ]
          },
          "metadata": {
            "tags": []
          },
          "execution_count": 51
        }
      ]
    },
    {
      "cell_type": "code",
      "metadata": {
        "id": "-zokzmFYPyYH",
        "colab_type": "code",
        "colab": {
          "base_uri": "https://localhost:8080/",
          "height": 68
        },
        "outputId": "047dd091-6267-4c55-a288-8ac9fb1b3f49"
      },
      "source": [
        "%time\n",
        "match_models('cx-9 4wd')"
      ],
      "execution_count": 52,
      "outputs": [
        {
          "output_type": "stream",
          "text": [
            "CPU times: user 3 µs, sys: 0 ns, total: 3 µs\n",
            "Wall time: 5.01 µs\n"
          ],
          "name": "stdout"
        },
        {
          "output_type": "execute_result",
          "data": {
            "text/plain": [
              "'cr-v 4wd'"
            ]
          },
          "metadata": {
            "tags": []
          },
          "execution_count": 52
        }
      ]
    },
    {
      "cell_type": "code",
      "metadata": {
        "id": "0LQVXyHiQwja",
        "colab_type": "code",
        "colab": {
          "base_uri": "https://localhost:8080/",
          "height": 136
        },
        "outputId": "71121848-6a0c-4295-da9a-697bb10e00ec"
      },
      "source": [
        "%time\n",
        "process.extract('range rover evoque cabriolet', cl_models, scorer=fuzz.token_set_ratio)"
      ],
      "execution_count": 72,
      "outputs": [
        {
          "output_type": "stream",
          "text": [
            "CPU times: user 4 µs, sys: 0 ns, total: 4 µs\n",
            "Wall time: 7.87 µs\n"
          ],
          "name": "stdout"
        },
        {
          "output_type": "execute_result",
          "data": {
            "text/plain": [
              "[('cabriolet', 100),\n",
              " ('evoque', 100),\n",
              " ('evoque d', 86),\n",
              " ('s5 cabriolet', 86),\n",
              " ('clk350 cabriolet', 72)]"
            ]
          },
          "metadata": {
            "tags": []
          },
          "execution_count": 72
        }
      ]
    },
    {
      "cell_type": "code",
      "metadata": {
        "id": "Q93WHGOUQxcF",
        "colab_type": "code",
        "colab": {
          "base_uri": "https://localhost:8080/",
          "height": 68
        },
        "outputId": "baab1385-44ca-403d-df5d-67829ac535b2"
      },
      "source": [
        "%time\n",
        "match_models('range rover evoque cabriolet')"
      ],
      "execution_count": 68,
      "outputs": [
        {
          "output_type": "stream",
          "text": [
            "CPU times: user 2 µs, sys: 1 µs, total: 3 µs\n",
            "Wall time: 5.01 µs\n"
          ],
          "name": "stdout"
        },
        {
          "output_type": "execute_result",
          "data": {
            "text/plain": [
              "'murano crosscabriolet'"
            ]
          },
          "metadata": {
            "tags": []
          },
          "execution_count": 68
        }
      ]
    },
    {
      "cell_type": "code",
      "metadata": {
        "id": "O2hK6w8TRbv9",
        "colab_type": "code",
        "colab": {
          "base_uri": "https://localhost:8080/",
          "height": 136
        },
        "outputId": "9ade080f-6572-4501-84f5-d58970d21431"
      },
      "source": [
        "%time\n",
        "process.extract('e500 4matic (wagon)', cl_models, scorer=fuzz.token_sort_ratio)"
      ],
      "execution_count": 55,
      "outputs": [
        {
          "output_type": "stream",
          "text": [
            "CPU times: user 3 µs, sys: 0 ns, total: 3 µs\n",
            "Wall time: 5.01 µs\n"
          ],
          "name": "stdout"
        },
        {
          "output_type": "execute_result",
          "data": {
            "text/plain": [
              "[('e350 4matic', 71),\n",
              " ('e350 club wagon', 69),\n",
              " ('benz e500 4matic', 67),\n",
              " ('benz s500 4matic', 67),\n",
              " ('c300 4matic sport', 65)]"
            ]
          },
          "metadata": {
            "tags": []
          },
          "execution_count": 55
        }
      ]
    },
    {
      "cell_type": "code",
      "metadata": {
        "id": "i-3SQw-uRgYy",
        "colab_type": "code",
        "colab": {
          "base_uri": "https://localhost:8080/",
          "height": 68
        },
        "outputId": "713fbc33-daa9-4324-9185-2a89ccd75548"
      },
      "source": [
        "%time\n",
        "match_models('e500 4matic (wagon)')"
      ],
      "execution_count": 56,
      "outputs": [
        {
          "output_type": "stream",
          "text": [
            "CPU times: user 4 µs, sys: 0 ns, total: 4 µs\n",
            "Wall time: 7.87 µs\n"
          ],
          "name": "stdout"
        },
        {
          "output_type": "execute_result",
          "data": {
            "text/plain": [
              "'e350 4matic'"
            ]
          },
          "metadata": {
            "tags": []
          },
          "execution_count": 56
        }
      ]
    },
    {
      "cell_type": "markdown",
      "metadata": {
        "id": "oeG7_DKCmIPY",
        "colab_type": "text"
      },
      "source": [
        "### Fuzzy makes\n"
      ]
    },
    {
      "cell_type": "code",
      "metadata": {
        "id": "xXpPP5B4mK3w",
        "colab_type": "code",
        "colab": {}
      },
      "source": [
        "# Try to get rid of rare makes S and S represent\n",
        "\n",
        "cl_makes = sorted(df_cl.manufacturer.unique())\n",
        "\n",
        "def match_makes(sample_make):\n",
        "  make_ratios = []\n",
        "  for make in cl_makes:\n",
        "    make_sublist.append(fuzz.ratio(sample_make, make))\n",
        "\n",
        "  max_match = max(make_ratios)\n",
        "  index_of_match = make_ratios.index(max_match)\n",
        "  return cl_makes[index_of_match]"
      ],
      "execution_count": 0,
      "outputs": []
    },
    {
      "cell_type": "code",
      "metadata": {
        "id": "jkg3V0emmqoh",
        "colab_type": "code",
        "colab": {}
      },
      "source": [
        "df_cl.shape"
      ],
      "execution_count": 0,
      "outputs": []
    },
    {
      "cell_type": "code",
      "metadata": {
        "id": "V-gVHdGymhaL",
        "colab_type": "code",
        "colab": {}
      },
      "source": [
        "match_makes('Aston Martin')"
      ],
      "execution_count": 0,
      "outputs": []
    },
    {
      "cell_type": "markdown",
      "metadata": {
        "id": "nVDnv7JW4z90",
        "colab_type": "text"
      },
      "source": [
        "## Image Retrieval"
      ]
    },
    {
      "cell_type": "code",
      "metadata": {
        "id": "ASj1aCYm285c",
        "colab_type": "code",
        "outputId": "418078a2-4dd7-4ab0-a4ae-d8a7c3bf44cf",
        "colab": {
          "base_uri": "https://localhost:8080/",
          "height": 204
        }
      },
      "source": [
        "df_cl_orig = pd.read_csv('vehicles_cl.csv')\n",
        "df_cl_orig.head()"
      ],
      "execution_count": 0,
      "outputs": [
        {
          "output_type": "execute_result",
          "data": {
            "text/html": [
              "<div>\n",
              "<style scoped>\n",
              "    .dataframe tbody tr th:only-of-type {\n",
              "        vertical-align: middle;\n",
              "    }\n",
              "\n",
              "    .dataframe tbody tr th {\n",
              "        vertical-align: top;\n",
              "    }\n",
              "\n",
              "    .dataframe thead th {\n",
              "        text-align: right;\n",
              "    }\n",
              "</style>\n",
              "<table border=\"1\" class=\"dataframe\">\n",
              "  <thead>\n",
              "    <tr style=\"text-align: right;\">\n",
              "      <th></th>\n",
              "      <th>Unnamed: 0</th>\n",
              "      <th>year</th>\n",
              "      <th>manufacturer</th>\n",
              "      <th>model</th>\n",
              "      <th>image_url</th>\n",
              "    </tr>\n",
              "  </thead>\n",
              "  <tbody>\n",
              "    <tr>\n",
              "      <th>0</th>\n",
              "      <td>0</td>\n",
              "      <td>2012.0</td>\n",
              "      <td>acura</td>\n",
              "      <td>tl</td>\n",
              "      <td>https://images.craigslist.org/01414_3LIXs9EO33...</td>\n",
              "    </tr>\n",
              "    <tr>\n",
              "      <th>1</th>\n",
              "      <td>2</td>\n",
              "      <td>2011.0</td>\n",
              "      <td>jaguar</td>\n",
              "      <td>xf</td>\n",
              "      <td>https://images.craigslist.org/00505_f22HGItCRp...</td>\n",
              "    </tr>\n",
              "    <tr>\n",
              "      <th>2</th>\n",
              "      <td>3</td>\n",
              "      <td>2004.0</td>\n",
              "      <td>honda</td>\n",
              "      <td>element</td>\n",
              "      <td>https://images.craigslist.org/00E0E_eAUnhFF86M...</td>\n",
              "    </tr>\n",
              "    <tr>\n",
              "      <th>3</th>\n",
              "      <td>4</td>\n",
              "      <td>2016.0</td>\n",
              "      <td>chevrolet</td>\n",
              "      <td>silverado k2500hd</td>\n",
              "      <td>https://images.craigslist.org/00S0S_8msT7RQquO...</td>\n",
              "    </tr>\n",
              "    <tr>\n",
              "      <th>4</th>\n",
              "      <td>5</td>\n",
              "      <td>2015.0</td>\n",
              "      <td>kia</td>\n",
              "      <td>sportage</td>\n",
              "      <td>https://images.craigslist.org/00000_2qdQpZA2hK...</td>\n",
              "    </tr>\n",
              "  </tbody>\n",
              "</table>\n",
              "</div>"
            ],
            "text/plain": [
              "   Unnamed: 0  ...                                          image_url\n",
              "0           0  ...  https://images.craigslist.org/01414_3LIXs9EO33...\n",
              "1           2  ...  https://images.craigslist.org/00505_f22HGItCRp...\n",
              "2           3  ...  https://images.craigslist.org/00E0E_eAUnhFF86M...\n",
              "3           4  ...  https://images.craigslist.org/00S0S_8msT7RQquO...\n",
              "4           5  ...  https://images.craigslist.org/00000_2qdQpZA2hK...\n",
              "\n",
              "[5 rows x 5 columns]"
            ]
          },
          "metadata": {
            "tags": []
          },
          "execution_count": 15
        }
      ]
    },
    {
      "cell_type": "code",
      "metadata": {
        "id": "qc20PThD42bS",
        "colab_type": "code",
        "colab": {}
      },
      "source": [
        "df_img = df_cl_orig.copy()\n",
        "df_img = df_img[['price', 'year', 'manufacturer', 'model', 'image_url']]\n",
        "df_img.head()"
      ],
      "execution_count": 0,
      "outputs": []
    },
    {
      "cell_type": "code",
      "metadata": {
        "id": "rXjyge045RNU",
        "colab_type": "code",
        "colab": {}
      },
      "source": [
        "## Cleaning\n",
        "\n",
        "df_img['price'] = df_img['price'].replace(0, np.NaN)\n",
        "df_img = df_img.dropna(subset=['price'])\n",
        "df_img = df_img[(df_img['price'] >= np.percentile(df_img['price'], 1)) &\n",
        "          (df_img['price'] <= np.percentile(df_img['price'], 99))]\n",
        "df_img = df_img.dropna(subset=['manufacturer', 'model', 'year'])\n",
        "\n",
        "df_img[df_img['price']<500]\n",
        "df_img = df_img.groupby(\"model\").filter(lambda x: len(x) > 2)\n"
      ],
      "execution_count": 0,
      "outputs": []
    },
    {
      "cell_type": "code",
      "metadata": {
        "id": "i7NRVHVi58u_",
        "colab_type": "code",
        "colab": {}
      },
      "source": [
        "df_img = df_img[df_img.year >= 2000]\n",
        "df_img.shape"
      ],
      "execution_count": 0,
      "outputs": []
    },
    {
      "cell_type": "code",
      "metadata": {
        "id": "fmFK0BWaMQRa",
        "colab_type": "code",
        "colab": {}
      },
      "source": [
        "df_img = df_img[['year', 'manufacturer', 'model', 'image_url']]\n",
        "df_img"
      ],
      "execution_count": 0,
      "outputs": []
    },
    {
      "cell_type": "code",
      "metadata": {
        "id": "nH5jOosSMHW2",
        "colab_type": "code",
        "colab": {}
      },
      "source": [
        "# df_img.to_csv('craigslist_cleaned_df_img')"
      ],
      "execution_count": 0,
      "outputs": []
    },
    {
      "cell_type": "code",
      "metadata": {
        "id": "UD4EIdBg7JWs",
        "colab_type": "code",
        "colab": {}
      },
      "source": [
        "def match_models(sample_model):\n",
        "    '''\n",
        "    This function takes in a given model from the EPA dataset and\n",
        "    uses the Fuzzy Wuzzy library to match the input string to the closest\n",
        "    string in the Craigslist dataset.\n",
        "    '''\n",
        "    model_ratios = []\n",
        "    for car in cl_models:\n",
        "        model_ratios.append(fuzz.ratio(sample_model, car))\n",
        "    max_match = max(model_ratios)\n",
        "    index_of_match = model_ratios.index(max_match)\n",
        "    return cl_models[index_of_match]\n"
      ],
      "execution_count": 0,
      "outputs": []
    },
    {
      "cell_type": "code",
      "metadata": {
        "id": "3VVsEwWX7MCz",
        "colab_type": "code",
        "colab": {}
      },
      "source": [
        "# Call the function to get the CL equivalent car\n",
        "model_fz = match_models(model_lower)"
      ],
      "execution_count": 0,
      "outputs": []
    },
    {
      "cell_type": "code",
      "metadata": {
        "id": "_3k0yEdb7VhD",
        "colab_type": "code",
        "colab": {}
      },
      "source": [
        "def fetch_img(car_model, year):\n",
        "  \"\"\"\n",
        "  Get from sample input car to return the url. If none found,\n",
        "   check next and previous year. If none available, give none found image\n",
        "  \"\"\"\n",
        "  df_models = df_img[df_img['model'] == car_model]\n",
        "  df_models_at_year = df_models[df_models['year'] == year ]\n",
        "  index_of_model_year = df_models_at_year.index[0:10]\n",
        "\n",
        "  list_urls = list(df_img['image_url'][index_of_model_year])\n",
        "\n",
        "  if len(index_of_model_year) < 1:\n",
        "    df_models_at_year = df_models[df_models['year'] == (year + 1)]\n",
        "    index_of_model_year = df_models_at_year.index[0:10]\n",
        "    list_urls = list(df_img['image_url'][index_of_model_year])\n",
        "\n",
        "    if len(list_urls) == 0:\n",
        "      df_models_at_year = df_models[df_models['year'] == (year - 1)]\n",
        "      index_of_model_year = df_models_at_year.index[0:10]\n",
        "      list_urls = list(df_img['image_url'][index_of_model_year])\n",
        "      #print('No cars in specified year, trying the previous year')  \n",
        "\n",
        "      if len(list_urls) == 0:\n",
        "        return ['https://raw.githubusercontent.com/Lambda-School-Labs/street-smarts-ds/master/data/noImage_large.png']\n",
        "\n",
        "      return list_urls  \n",
        "\n",
        "    #print('No cars in specified year, trying the next year')\n",
        "    return list_urls\n",
        "\n",
        "  return list_urls"
      ],
      "execution_count": 0,
      "outputs": []
    },
    {
      "cell_type": "code",
      "metadata": {
        "id": "miy6D7Bk8KGH",
        "colab_type": "code",
        "colab": {}
      },
      "source": [
        "output = fetch_img('model 3', 2020)"
      ],
      "execution_count": 0,
      "outputs": []
    },
    {
      "cell_type": "code",
      "metadata": {
        "id": "GYEqUR6L9-hP",
        "colab_type": "code",
        "colab": {}
      },
      "source": [
        "output"
      ],
      "execution_count": 0,
      "outputs": []
    },
    {
      "cell_type": "code",
      "metadata": {
        "id": "tz87aHO2E6R2",
        "colab_type": "code",
        "colab": {}
      },
      "source": [
        "df_img.shape"
      ],
      "execution_count": 0,
      "outputs": []
    },
    {
      "cell_type": "code",
      "metadata": {
        "id": "GAqPz15pKPAq",
        "colab_type": "code",
        "colab": {}
      },
      "source": [
        "cl_img_models = df_img.model.unique()\n",
        "len(cl_img_models)"
      ],
      "execution_count": 0,
      "outputs": []
    },
    {
      "cell_type": "markdown",
      "metadata": {
        "id": "_V0754_B_mJp",
        "colab_type": "text"
      },
      "source": [
        "### Cleaning out broken links"
      ]
    },
    {
      "cell_type": "code",
      "metadata": {
        "id": "--lyUGs_Kuxt",
        "colab_type": "code",
        "colab": {}
      },
      "source": [
        "df_img_orig = pd.read_csv('craigslist_cleaned_df_img.csv')\n",
        "df_img = df_img_orig.copy()"
      ],
      "execution_count": 0,
      "outputs": []
    },
    {
      "cell_type": "code",
      "metadata": {
        "id": "Bd6cS_TgAD4o",
        "colab_type": "code",
        "colab": {}
      },
      "source": [
        "# Test the function as is\n",
        "\n",
        "output = fetch_img('model 3', 2020)"
      ],
      "execution_count": 0,
      "outputs": []
    },
    {
      "cell_type": "code",
      "metadata": {
        "id": "vFoLvk_1ALSR",
        "colab_type": "code",
        "colab": {}
      },
      "source": [
        "def test_get_list_urls_check_status_code_equals_200(url):\n",
        "  response = requests.get(url)\n",
        "  if response.status_code == 200:\n",
        "    url = url\n",
        "  else:\n",
        "    return np.NaN\n",
        "  return url"
      ],
      "execution_count": 0,
      "outputs": []
    },
    {
      "cell_type": "code",
      "metadata": {
        "id": "slpve_KJARTa",
        "colab_type": "code",
        "outputId": "26ea5ae4-32a8-4128-948a-290c0983aac8",
        "colab": {
          "base_uri": "https://localhost:8080/",
          "height": 187
        }
      },
      "source": [
        "for img in output:\n",
        "  img = test_get_list_urls_check_status_code_equals_200(img)\n",
        "  print(img)"
      ],
      "execution_count": 0,
      "outputs": [
        {
          "output_type": "stream",
          "text": [
            "https://images.craigslist.org/00h0h_gb13SJamasm_600x450.jpg\n",
            "nan\n",
            "nan\n",
            "https://images.craigslist.org/00606_a2AR614CprU_600x450.jpg\n",
            "https://images.craigslist.org/00s0s_lP4xMk7aH1A_600x450.jpg\n",
            "https://images.craigslist.org/00000_g1ckhuAfeiG_600x450.jpg\n",
            "https://images.craigslist.org/00P0P_joAX9VGHRou_600x450.jpg\n",
            "https://images.craigslist.org/00606_a2AR614CprU_600x450.jpg\n",
            "https://images.craigslist.org/00f0f_iCGas2Rnor1_600x450.jpg\n",
            "https://images.craigslist.org/00101_gOO35IlSFWf_600x450.jpg\n"
          ],
          "name": "stdout"
        }
      ]
    },
    {
      "cell_type": "code",
      "metadata": {
        "id": "gsQpFP0BA_UX",
        "colab_type": "code",
        "colab": {}
      },
      "source": [
        "# Now refactor our function to include Status code checking"
      ],
      "execution_count": 0,
      "outputs": []
    },
    {
      "cell_type": "code",
      "metadata": {
        "id": "2bd1Hy3wDpwD",
        "colab_type": "code",
        "outputId": "416128d8-f265-423d-e3de-70a58db2e7d6",
        "colab": {
          "base_uri": "https://localhost:8080/",
          "height": 221
        }
      },
      "source": [
        "# Filter our data frame so that the column only has currently working urls\n",
        "df_img.drop(columns=\"Unnamed: 0\", inplace=True)\n",
        "print(df_img.shape)\n",
        "df_img.head()"
      ],
      "execution_count": 0,
      "outputs": [
        {
          "output_type": "stream",
          "text": [
            "(413414, 4)\n"
          ],
          "name": "stdout"
        },
        {
          "output_type": "execute_result",
          "data": {
            "text/html": [
              "<div>\n",
              "<style scoped>\n",
              "    .dataframe tbody tr th:only-of-type {\n",
              "        vertical-align: middle;\n",
              "    }\n",
              "\n",
              "    .dataframe tbody tr th {\n",
              "        vertical-align: top;\n",
              "    }\n",
              "\n",
              "    .dataframe thead th {\n",
              "        text-align: right;\n",
              "    }\n",
              "</style>\n",
              "<table border=\"1\" class=\"dataframe\">\n",
              "  <thead>\n",
              "    <tr style=\"text-align: right;\">\n",
              "      <th></th>\n",
              "      <th>year</th>\n",
              "      <th>manufacturer</th>\n",
              "      <th>model</th>\n",
              "      <th>image_url</th>\n",
              "    </tr>\n",
              "  </thead>\n",
              "  <tbody>\n",
              "    <tr>\n",
              "      <th>0</th>\n",
              "      <td>2012.0</td>\n",
              "      <td>acura</td>\n",
              "      <td>tl</td>\n",
              "      <td>https://images.craigslist.org/01414_3LIXs9EO33...</td>\n",
              "    </tr>\n",
              "    <tr>\n",
              "      <th>1</th>\n",
              "      <td>2011.0</td>\n",
              "      <td>jaguar</td>\n",
              "      <td>xf</td>\n",
              "      <td>https://images.craigslist.org/00505_f22HGItCRp...</td>\n",
              "    </tr>\n",
              "    <tr>\n",
              "      <th>2</th>\n",
              "      <td>2004.0</td>\n",
              "      <td>honda</td>\n",
              "      <td>element</td>\n",
              "      <td>https://images.craigslist.org/00E0E_eAUnhFF86M...</td>\n",
              "    </tr>\n",
              "    <tr>\n",
              "      <th>3</th>\n",
              "      <td>2016.0</td>\n",
              "      <td>chevrolet</td>\n",
              "      <td>silverado k2500hd</td>\n",
              "      <td>https://images.craigslist.org/00S0S_8msT7RQquO...</td>\n",
              "    </tr>\n",
              "    <tr>\n",
              "      <th>4</th>\n",
              "      <td>2015.0</td>\n",
              "      <td>kia</td>\n",
              "      <td>sportage</td>\n",
              "      <td>https://images.craigslist.org/00000_2qdQpZA2hK...</td>\n",
              "    </tr>\n",
              "  </tbody>\n",
              "</table>\n",
              "</div>"
            ],
            "text/plain": [
              "     year  ...                                          image_url\n",
              "0  2012.0  ...  https://images.craigslist.org/01414_3LIXs9EO33...\n",
              "1  2011.0  ...  https://images.craigslist.org/00505_f22HGItCRp...\n",
              "2  2004.0  ...  https://images.craigslist.org/00E0E_eAUnhFF86M...\n",
              "3  2016.0  ...  https://images.craigslist.org/00S0S_8msT7RQquO...\n",
              "4  2015.0  ...  https://images.craigslist.org/00000_2qdQpZA2hK...\n",
              "\n",
              "[5 rows x 4 columns]"
            ]
          },
          "metadata": {
            "tags": []
          },
          "execution_count": 12
        }
      ]
    },
    {
      "cell_type": "code",
      "metadata": {
        "id": "4Zn2e5FMGVr6",
        "colab_type": "code",
        "outputId": "10a27bde-17a5-4bcb-d121-20508209e6fa",
        "colab": {
          "base_uri": "https://localhost:8080/",
          "height": 419
        }
      },
      "source": [
        "df_sample = df_img.sample(200, random_state=11)\n",
        "df_sample"
      ],
      "execution_count": 0,
      "outputs": [
        {
          "output_type": "execute_result",
          "data": {
            "text/html": [
              "<div>\n",
              "<style scoped>\n",
              "    .dataframe tbody tr th:only-of-type {\n",
              "        vertical-align: middle;\n",
              "    }\n",
              "\n",
              "    .dataframe tbody tr th {\n",
              "        vertical-align: top;\n",
              "    }\n",
              "\n",
              "    .dataframe thead th {\n",
              "        text-align: right;\n",
              "    }\n",
              "</style>\n",
              "<table border=\"1\" class=\"dataframe\">\n",
              "  <thead>\n",
              "    <tr style=\"text-align: right;\">\n",
              "      <th></th>\n",
              "      <th>year</th>\n",
              "      <th>manufacturer</th>\n",
              "      <th>model</th>\n",
              "      <th>image_url</th>\n",
              "    </tr>\n",
              "  </thead>\n",
              "  <tbody>\n",
              "    <tr>\n",
              "      <th>369182</th>\n",
              "      <td>2011.0</td>\n",
              "      <td>honda</td>\n",
              "      <td>pilot ex-l</td>\n",
              "      <td>https://images.craigslist.org/00B0B_kHP5NJHnGG...</td>\n",
              "    </tr>\n",
              "    <tr>\n",
              "      <th>41517</th>\n",
              "      <td>2016.0</td>\n",
              "      <td>jeep</td>\n",
              "      <td>cherokee trailhawk</td>\n",
              "      <td>https://images.craigslist.org/00l0l_gQKakrucRl...</td>\n",
              "    </tr>\n",
              "    <tr>\n",
              "      <th>146485</th>\n",
              "      <td>2007.0</td>\n",
              "      <td>toyota</td>\n",
              "      <td>yaris</td>\n",
              "      <td>https://images.craigslist.org/00x0x_dFa66HKlBo...</td>\n",
              "    </tr>\n",
              "    <tr>\n",
              "      <th>329707</th>\n",
              "      <td>2001.0</td>\n",
              "      <td>honda</td>\n",
              "      <td>civic</td>\n",
              "      <td>https://images.craigslist.org/00F0F_3FWRN7v5Va...</td>\n",
              "    </tr>\n",
              "    <tr>\n",
              "      <th>74819</th>\n",
              "      <td>2008.0</td>\n",
              "      <td>ford</td>\n",
              "      <td>f150 xlt</td>\n",
              "      <td>https://images.craigslist.org/01414_8o6THP6YXp...</td>\n",
              "    </tr>\n",
              "    <tr>\n",
              "      <th>...</th>\n",
              "      <td>...</td>\n",
              "      <td>...</td>\n",
              "      <td>...</td>\n",
              "      <td>...</td>\n",
              "    </tr>\n",
              "    <tr>\n",
              "      <th>215705</th>\n",
              "      <td>2012.0</td>\n",
              "      <td>dodge</td>\n",
              "      <td>charger</td>\n",
              "      <td>https://images.craigslist.org/00g0g_l1kbcOksji...</td>\n",
              "    </tr>\n",
              "    <tr>\n",
              "      <th>237402</th>\n",
              "      <td>2002.0</td>\n",
              "      <td>volkswagen</td>\n",
              "      <td>jetta</td>\n",
              "      <td>https://images.craigslist.org/00G0G_4gGHjhvuv9...</td>\n",
              "    </tr>\n",
              "    <tr>\n",
              "      <th>189256</th>\n",
              "      <td>2008.0</td>\n",
              "      <td>chevrolet</td>\n",
              "      <td>silverado</td>\n",
              "      <td>https://images.craigslist.org/00q0q_iDYjduZfFM...</td>\n",
              "    </tr>\n",
              "    <tr>\n",
              "      <th>139635</th>\n",
              "      <td>2011.0</td>\n",
              "      <td>gmc</td>\n",
              "      <td>terrain slt-1</td>\n",
              "      <td>https://images.craigslist.org/00Y0Y_25YGIRNOaz...</td>\n",
              "    </tr>\n",
              "    <tr>\n",
              "      <th>131317</th>\n",
              "      <td>2016.0</td>\n",
              "      <td>nissan</td>\n",
              "      <td>nv200</td>\n",
              "      <td>https://images.craigslist.org/00P0P_hGMO3Uz5Cu...</td>\n",
              "    </tr>\n",
              "  </tbody>\n",
              "</table>\n",
              "<p>200 rows × 4 columns</p>\n",
              "</div>"
            ],
            "text/plain": [
              "          year  ...                                          image_url\n",
              "369182  2011.0  ...  https://images.craigslist.org/00B0B_kHP5NJHnGG...\n",
              "41517   2016.0  ...  https://images.craigslist.org/00l0l_gQKakrucRl...\n",
              "146485  2007.0  ...  https://images.craigslist.org/00x0x_dFa66HKlBo...\n",
              "329707  2001.0  ...  https://images.craigslist.org/00F0F_3FWRN7v5Va...\n",
              "74819   2008.0  ...  https://images.craigslist.org/01414_8o6THP6YXp...\n",
              "...        ...  ...                                                ...\n",
              "215705  2012.0  ...  https://images.craigslist.org/00g0g_l1kbcOksji...\n",
              "237402  2002.0  ...  https://images.craigslist.org/00G0G_4gGHjhvuv9...\n",
              "189256  2008.0  ...  https://images.craigslist.org/00q0q_iDYjduZfFM...\n",
              "139635  2011.0  ...  https://images.craigslist.org/00Y0Y_25YGIRNOaz...\n",
              "131317  2016.0  ...  https://images.craigslist.org/00P0P_hGMO3Uz5Cu...\n",
              "\n",
              "[200 rows x 4 columns]"
            ]
          },
          "metadata": {
            "tags": []
          },
          "execution_count": 27
        }
      ]
    },
    {
      "cell_type": "code",
      "metadata": {
        "id": "Y15XqTmYEARu",
        "colab_type": "code",
        "outputId": "d60c7c86-5837-47ca-adec-f626dd1cb6d5",
        "colab": {
          "base_uri": "https://localhost:8080/",
          "height": 51
        }
      },
      "source": [
        "%%time\n",
        "df_sample['image_url'] = df_sample['image_url'].apply(test_get_list_urls_check_status_code_equals_200)"
      ],
      "execution_count": 0,
      "outputs": [
        {
          "output_type": "stream",
          "text": [
            "CPU times: user 2.4 s, sys: 145 ms, total: 2.54 s\n",
            "Wall time: 25.1 s\n"
          ],
          "name": "stdout"
        }
      ]
    },
    {
      "cell_type": "code",
      "metadata": {
        "id": "TXltt3qoGf25",
        "colab_type": "code",
        "outputId": "9714d9c2-5713-4cfe-d73b-c2bb38d254d4",
        "colab": {
          "base_uri": "https://localhost:8080/",
          "height": 419
        }
      },
      "source": [
        "df_sample"
      ],
      "execution_count": 0,
      "outputs": [
        {
          "output_type": "execute_result",
          "data": {
            "text/html": [
              "<div>\n",
              "<style scoped>\n",
              "    .dataframe tbody tr th:only-of-type {\n",
              "        vertical-align: middle;\n",
              "    }\n",
              "\n",
              "    .dataframe tbody tr th {\n",
              "        vertical-align: top;\n",
              "    }\n",
              "\n",
              "    .dataframe thead th {\n",
              "        text-align: right;\n",
              "    }\n",
              "</style>\n",
              "<table border=\"1\" class=\"dataframe\">\n",
              "  <thead>\n",
              "    <tr style=\"text-align: right;\">\n",
              "      <th></th>\n",
              "      <th>Unnamed: 0</th>\n",
              "      <th>year</th>\n",
              "      <th>manufacturer</th>\n",
              "      <th>model</th>\n",
              "      <th>image_url</th>\n",
              "    </tr>\n",
              "  </thead>\n",
              "  <tbody>\n",
              "    <tr>\n",
              "      <th>369182</th>\n",
              "      <td>482903</td>\n",
              "      <td>2011.0</td>\n",
              "      <td>honda</td>\n",
              "      <td>pilot ex-l</td>\n",
              "      <td>https://images.craigslist.org/00B0B_kHP5NJHnGG...</td>\n",
              "    </tr>\n",
              "    <tr>\n",
              "      <th>41517</th>\n",
              "      <td>54394</td>\n",
              "      <td>2016.0</td>\n",
              "      <td>jeep</td>\n",
              "      <td>cherokee trailhawk</td>\n",
              "      <td>NaN</td>\n",
              "    </tr>\n",
              "    <tr>\n",
              "      <th>146485</th>\n",
              "      <td>189909</td>\n",
              "      <td>2007.0</td>\n",
              "      <td>toyota</td>\n",
              "      <td>yaris</td>\n",
              "      <td>https://images.craigslist.org/00x0x_dFa66HKlBo...</td>\n",
              "    </tr>\n",
              "    <tr>\n",
              "      <th>329707</th>\n",
              "      <td>430445</td>\n",
              "      <td>2001.0</td>\n",
              "      <td>honda</td>\n",
              "      <td>civic</td>\n",
              "      <td>https://images.craigslist.org/00F0F_3FWRN7v5Va...</td>\n",
              "    </tr>\n",
              "    <tr>\n",
              "      <th>74819</th>\n",
              "      <td>97034</td>\n",
              "      <td>2008.0</td>\n",
              "      <td>ford</td>\n",
              "      <td>f150 xlt</td>\n",
              "      <td>https://images.craigslist.org/01414_8o6THP6YXp...</td>\n",
              "    </tr>\n",
              "    <tr>\n",
              "      <th>...</th>\n",
              "      <td>...</td>\n",
              "      <td>...</td>\n",
              "      <td>...</td>\n",
              "      <td>...</td>\n",
              "      <td>...</td>\n",
              "    </tr>\n",
              "    <tr>\n",
              "      <th>215705</th>\n",
              "      <td>278769</td>\n",
              "      <td>2012.0</td>\n",
              "      <td>dodge</td>\n",
              "      <td>charger</td>\n",
              "      <td>https://images.craigslist.org/00g0g_l1kbcOksji...</td>\n",
              "    </tr>\n",
              "    <tr>\n",
              "      <th>237402</th>\n",
              "      <td>307336</td>\n",
              "      <td>2002.0</td>\n",
              "      <td>volkswagen</td>\n",
              "      <td>jetta</td>\n",
              "      <td>https://images.craigslist.org/00G0G_4gGHjhvuv9...</td>\n",
              "    </tr>\n",
              "    <tr>\n",
              "      <th>189256</th>\n",
              "      <td>245297</td>\n",
              "      <td>2008.0</td>\n",
              "      <td>chevrolet</td>\n",
              "      <td>silverado</td>\n",
              "      <td>https://images.craigslist.org/00q0q_iDYjduZfFM...</td>\n",
              "    </tr>\n",
              "    <tr>\n",
              "      <th>139635</th>\n",
              "      <td>180890</td>\n",
              "      <td>2011.0</td>\n",
              "      <td>gmc</td>\n",
              "      <td>terrain slt-1</td>\n",
              "      <td>https://images.craigslist.org/00Y0Y_25YGIRNOaz...</td>\n",
              "    </tr>\n",
              "    <tr>\n",
              "      <th>131317</th>\n",
              "      <td>170069</td>\n",
              "      <td>2016.0</td>\n",
              "      <td>nissan</td>\n",
              "      <td>nv200</td>\n",
              "      <td>https://images.craigslist.org/00P0P_hGMO3Uz5Cu...</td>\n",
              "    </tr>\n",
              "  </tbody>\n",
              "</table>\n",
              "<p>200 rows × 5 columns</p>\n",
              "</div>"
            ],
            "text/plain": [
              "        Unnamed: 0  ...                                          image_url\n",
              "369182      482903  ...  https://images.craigslist.org/00B0B_kHP5NJHnGG...\n",
              "41517        54394  ...                                                NaN\n",
              "146485      189909  ...  https://images.craigslist.org/00x0x_dFa66HKlBo...\n",
              "329707      430445  ...  https://images.craigslist.org/00F0F_3FWRN7v5Va...\n",
              "74819        97034  ...  https://images.craigslist.org/01414_8o6THP6YXp...\n",
              "...            ...  ...                                                ...\n",
              "215705      278769  ...  https://images.craigslist.org/00g0g_l1kbcOksji...\n",
              "237402      307336  ...  https://images.craigslist.org/00G0G_4gGHjhvuv9...\n",
              "189256      245297  ...  https://images.craigslist.org/00q0q_iDYjduZfFM...\n",
              "139635      180890  ...  https://images.craigslist.org/00Y0Y_25YGIRNOaz...\n",
              "131317      170069  ...  https://images.craigslist.org/00P0P_hGMO3Uz5Cu...\n",
              "\n",
              "[200 rows x 5 columns]"
            ]
          },
          "metadata": {
            "tags": []
          },
          "execution_count": 23
        }
      ]
    },
    {
      "cell_type": "code",
      "metadata": {
        "id": "jsIfs3EgFcJQ",
        "colab_type": "code",
        "outputId": "d4dd8296-5644-4b63-ac48-c584c58b8a4b",
        "colab": {
          "base_uri": "https://localhost:8080/",
          "height": 34
        }
      },
      "source": [
        "df_sample['image_url'].isnull().sum()"
      ],
      "execution_count": 0,
      "outputs": [
        {
          "output_type": "execute_result",
          "data": {
            "text/plain": [
              "49"
            ]
          },
          "metadata": {
            "tags": []
          },
          "execution_count": 77
        }
      ]
    },
    {
      "cell_type": "code",
      "metadata": {
        "id": "VbqC07r8JSyY",
        "colab_type": "code",
        "colab": {}
      },
      "source": [
        "# Logic for dealing with URL nans\n",
        "def fetch_img_NaN(car_model, year):\n",
        "  \"\"\"\n",
        "  Get from sample input car to return the url. If none found,\n",
        "   check next and previous year. If none available, give none found image\n",
        "  \"\"\"\n",
        "  df_models = df_sample[df_sample['model'] == car_model]\n",
        "  df_models_at_year = df_models[df_models['year'] == year ]\n",
        "  index_of_model_year = df_models_at_year.index[0:10]\n",
        "\n",
        "  # Check for nans\n",
        "  list_urls = list(df_sample['image_url'][index_of_model_year])\n",
        "\n",
        "  clean_list_urls = [x for x in list_urls if x is not np.NaN]\n",
        "\n",
        "  if len(clean_list_urls) < 1:\n",
        "    df_models_at_year = df_models[df_models['year'] == (year + 1)]\n",
        "    index_of_model_year = df_models_at_year.index[0:10]\n",
        "    list_urls = list(df_sample['image_url'][index_of_model_year])\n",
        "    clean_list_urls = [x for x in list_urls if x is not np.NaN]\n",
        "\n",
        "    if len(clean_list_urls) == 0:\n",
        "      df_models_at_year = df_models[df_models['year'] == (year - 1)]\n",
        "      index_of_model_year = df_models_at_year.index[0:10]\n",
        "      list_urls = list(df_sample['image_url'][index_of_model_year])\n",
        "      clean_list_urls = [x for x in list_urls if x is not np.NaN]\n",
        "      #print('No cars in specified year, trying the previous year')  \n",
        "\n",
        "      if len(clean_list_urls) == 0:\n",
        "        return ['https://raw.githubusercontent.com/Lambda-School-Labs/street-smarts-ds/master/data/noImage_large.png']\n",
        "\n",
        "      return clean_list_urls  \n",
        "\n",
        "    #print('No cars in specified year, trying the next year')\n",
        "    return clean_list_urls\n",
        "\n",
        "  return clean_list_urls"
      ],
      "execution_count": 0,
      "outputs": []
    },
    {
      "cell_type": "code",
      "metadata": {
        "id": "5PAQQiaXK36z",
        "colab_type": "code",
        "outputId": "212d5e84-d8c6-4a26-e993-df9e88d36905",
        "colab": {
          "base_uri": "https://localhost:8080/",
          "height": 34
        }
      },
      "source": [
        "fetch_img_NaN('rx 350', 2007)"
      ],
      "execution_count": 0,
      "outputs": [
        {
          "output_type": "execute_result",
          "data": {
            "text/plain": [
              "['https://raw.githubusercontent.com/Lambda-School-Labs/street-smarts-ds/master/data/noImage_large.png']"
            ]
          },
          "metadata": {
            "tags": []
          },
          "execution_count": 102
        }
      ]
    },
    {
      "cell_type": "code",
      "metadata": {
        "id": "3fPaC9v3QB0n",
        "colab_type": "code",
        "colab": {}
      },
      "source": [
        "def get_valid_urls_from_model(car_model, yearx):\n",
        "    \"\"\"\n",
        "    Take the df with models of interest and return list of non-nan urls\n",
        "    \"\"\"\n",
        "    df_models = df_sample[df_sample['model'] == car_model]\n",
        "    df_models_at_year = df_models[df_models['year'] == yearx]\n",
        "    index_of_model_year = df_models_at_year.index[0:10]\n",
        "    list_urls = list(df_sample['image_url'][index_of_model_year])\n",
        "    clean_list_urls = [x for x in list_urls if x is not np.NaN]\n",
        "    return clean_list_urls"
      ],
      "execution_count": 0,
      "outputs": []
    },
    {
      "cell_type": "code",
      "metadata": {
        "id": "qadEzKKV-v8Z",
        "colab_type": "code",
        "colab": {
          "base_uri": "https://localhost:8080/",
          "height": 129
        },
        "outputId": "e9db5773-53e1-48ec-f6b7-8cf5e9a81165"
      },
      "source": [
        "  # Attempt refactor\n",
        "def status_200_or_nan(url):\n",
        "    response = requests.get(url)\n",
        "    if response.status_code == 200:\n",
        "      url = url\n",
        "    else:\n",
        "      return np.NaN\n",
        "    return url\n",
        "def year_to_urls(car_model, year):\n",
        "    df_models = df_cl[df_cl['model'] == car_model]\n",
        "    df_models_at_year = df_models[df_models['year'] == year ]\n",
        "    index_of_model_year = df_models_at_year.index[0:4]\n",
        "\n",
        "    list_urls = list(df_cl['image_url'][index_of_model_year])\n",
        "\n",
        "    list_nan_urls = [status_200_or_nan(x) for x in list_urls]\n",
        "    clean_list_urls = [x for x in list_nan_urls if x is not np.NaN]\n",
        "\n",
        "def fetch_img(car_model, year):\n",
        "  year_to_urls(car_model, year)\n",
        "\n",
        "  # Check if there are any cars in the current year, else check next year\n",
        "  if len(clean_list_urls) == 0:\n",
        "    year = year + 1\n",
        "    year_to_urls(car_model, year)\n",
        "      \n",
        "    if len(clean_list_urls) == 0:\n",
        "      year = year - 2\n",
        "      year_to_urls(car_model, year)\n",
        "\n",
        "      if len(clean_list_urls) == 0:\n",
        "          return ['https://raw.githubusercontent.com/Lambda-School-Labs/street-smarts-ds/master/data/noImage_large.png']\n",
        "      return clean_list_urls  \n",
        "\n",
        "      return clean_list_urls\n",
        "\n",
        "  return clean_list_urls"
      ],
      "execution_count": 97,
      "outputs": [
        {
          "output_type": "error",
          "ename": "IndentationError",
          "evalue": "ignored",
          "traceback": [
            "\u001b[0;36m  File \u001b[0;32m\"<ipython-input-97-d0f763c5304a>\"\u001b[0;36m, line \u001b[0;32m21\u001b[0m\n\u001b[0;31m    year_to_urls(car_model, year)\u001b[0m\n\u001b[0m               ^\u001b[0m\n\u001b[0;31mIndentationError\u001b[0m\u001b[0;31m:\u001b[0m expected an indented block\n"
          ]
        }
      ]
    },
    {
      "cell_type": "code",
      "metadata": {
        "id": "VDO4yZHG_ox6",
        "colab_type": "code",
        "colab": {}
      },
      "source": [
        "def status_200_or_nan(url):\n",
        "  response = requests.get(url)\n",
        "  if response.status_code == 200:\n",
        "    return url\n",
        "  else:\n",
        "    return np.NaN\n",
        "\n",
        "def year_to_urls(car_model, year):\n",
        "  df_models = df_cl[df_cl['model'] == car_model]\n",
        "  df_models_at_year = df_models[df_models['year'] == year]\n",
        "  index_of_model_year = df_models_at_year.index[0:4]\n",
        "\n",
        "  list_urls = list(df_cl['image_url'][index_of_model_year])\n",
        "  list_w_nan = [status_200_or_nan(x) for x in list_urls]\n",
        "  clean_list_urls = [x for x in list_w_nan if x is not np.NaN]\n",
        "  return clean_list_urls\n",
        "\n",
        "def fetch_image(car_model, year):\n",
        "  year_to_urls(car_model, year)\n",
        "\n",
        "  #check for cars, else search next year\n",
        "  if len(clean_list_urls) == 0:\n",
        "    year1 = year + 1\n",
        "    year_to_urls(car_model, year1)\n",
        "\n",
        "    if len(clean_list_urls) == 0:\n",
        "      year0 = year - 1\n",
        "      year_to_urls(car_model, year0)\n",
        "\n",
        "      if len(clean_list_urls) == 0:\n",
        "        return ['https://raw.githubusercontent.com/Lambda-School-Labs/street-smarts-ds/master/data/noImage_large.png']\n",
        "      return clean_list_urls\n",
        "    return clean_list_urls\n",
        "  return clean_list_urls"
      ],
      "execution_count": 0,
      "outputs": []
    },
    {
      "cell_type": "code",
      "metadata": {
        "id": "H3fkj9PoROk3",
        "colab_type": "code",
        "outputId": "75525e81-dd7f-466e-c76d-0205a5c4289e",
        "colab": {
          "base_uri": "https://localhost:8080/",
          "height": 282
        }
      },
      "source": [
        "fetch_image('rx 350', 2007)"
      ],
      "execution_count": 105,
      "outputs": [
        {
          "output_type": "error",
          "ename": "NameError",
          "evalue": "ignored",
          "traceback": [
            "\u001b[0;31m---------------------------------------------------------------------------\u001b[0m",
            "\u001b[0;31mNameError\u001b[0m                                 Traceback (most recent call last)",
            "\u001b[0;32m<ipython-input-105-e9a6871a2fc2>\u001b[0m in \u001b[0;36m<module>\u001b[0;34m()\u001b[0m\n\u001b[0;32m----> 1\u001b[0;31m \u001b[0mfetch_image\u001b[0m\u001b[0;34m(\u001b[0m\u001b[0;34m'rx 350'\u001b[0m\u001b[0;34m,\u001b[0m \u001b[0;36m2007\u001b[0m\u001b[0;34m)\u001b[0m\u001b[0;34m\u001b[0m\u001b[0;34m\u001b[0m\u001b[0m\n\u001b[0m",
            "\u001b[0;32m<ipython-input-104-dada6eb1c36d>\u001b[0m in \u001b[0;36mfetch_image\u001b[0;34m(car_model, year)\u001b[0m\n\u001b[1;32m     20\u001b[0m \u001b[0;34m\u001b[0m\u001b[0m\n\u001b[1;32m     21\u001b[0m   \u001b[0;31m#check for cars, else search next year\u001b[0m\u001b[0;34m\u001b[0m\u001b[0;34m\u001b[0m\u001b[0;34m\u001b[0m\u001b[0m\n\u001b[0;32m---> 22\u001b[0;31m   \u001b[0;32mif\u001b[0m \u001b[0mlen\u001b[0m\u001b[0;34m(\u001b[0m\u001b[0mclean_list_urls\u001b[0m\u001b[0;34m)\u001b[0m \u001b[0;34m==\u001b[0m \u001b[0;36m0\u001b[0m\u001b[0;34m:\u001b[0m\u001b[0;34m\u001b[0m\u001b[0;34m\u001b[0m\u001b[0m\n\u001b[0m\u001b[1;32m     23\u001b[0m     \u001b[0myear\u001b[0m \u001b[0;34m=\u001b[0m \u001b[0myear\u001b[0m \u001b[0;34m+\u001b[0m \u001b[0;36m1\u001b[0m\u001b[0;34m\u001b[0m\u001b[0;34m\u001b[0m\u001b[0m\n\u001b[1;32m     24\u001b[0m     \u001b[0myear_to_urls\u001b[0m\u001b[0;34m(\u001b[0m\u001b[0mcar_model\u001b[0m\u001b[0;34m,\u001b[0m \u001b[0myear\u001b[0m\u001b[0;34m)\u001b[0m\u001b[0;34m\u001b[0m\u001b[0;34m\u001b[0m\u001b[0m\n",
            "\u001b[0;31mNameError\u001b[0m: name 'clean_list_urls' is not defined"
          ]
        }
      ]
    },
    {
      "cell_type": "code",
      "metadata": {
        "id": "OonpJC-6SfmH",
        "colab_type": "code",
        "outputId": "886b4b29-f220-4e92-ba28-5539ac5f0b6b",
        "colab": {
          "base_uri": "https://localhost:8080/",
          "height": 34
        }
      },
      "source": [
        "df_models = df_sample[df_sample['model'] == 'escape']\n",
        "\n",
        "get_valid_urls_from_model(2015)"
      ],
      "execution_count": 0,
      "outputs": [
        {
          "output_type": "execute_result",
          "data": {
            "text/plain": [
              "['https://images.craigslist.org/00S0S_2LHJ89djgTr_600x450.jpg']"
            ]
          },
          "metadata": {
            "tags": []
          },
          "execution_count": 116
        }
      ]
    },
    {
      "cell_type": "code",
      "metadata": {
        "id": "CCBM9Q6rVBHJ",
        "colab_type": "code",
        "colab": {}
      },
      "source": [
        "# df_img_cleaned = df_img.copy()\n",
        "# df_img_cleaned['image_url'] = df_img_cleaned['image_url'].apply(test_get_list_urls_check_status_code_equals_200)"
      ],
      "execution_count": 0,
      "outputs": []
    },
    {
      "cell_type": "code",
      "metadata": {
        "id": "HpjSapzgWoKn",
        "colab_type": "code",
        "colab": {}
      },
      "source": [
        "#df_img_cleaned.to_csv('cl_img_cleaned.csv')"
      ],
      "execution_count": 0,
      "outputs": []
    }
  ]
}